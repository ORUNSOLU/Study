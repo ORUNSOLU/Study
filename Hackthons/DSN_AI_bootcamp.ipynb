{
 "cells": [
  {
   "cell_type": "markdown",
   "metadata": {},
   "source": [
    "Data Science Nigeria AI Bootcamp 2021"
   ]
  },
  {
   "cell_type": "code",
   "execution_count": 1,
   "metadata": {},
   "outputs": [],
   "source": [
    "#import Libraries\n",
    "import pandas as pd\n",
    "import matplotlib.pyplot as plt\n",
    "import seaborn as sns\n",
    "import numpy as np\n",
    "\n",
    "# from sklearn.compose import make_column_transformer\n",
    "# from sklearn.pipeline import make_pipeline\n",
    "from imblearn.under_sampling import RandomUnderSampler\n",
    "from imblearn.over_sampling import SMOTE\n",
    "from sklearn.ensemble import RandomForestClassifier\n",
    "from sklearn.preprocessing import OrdinalEncoder, StandardScaler, LabelEncoder\n",
    "from sklearn.model_selection import train_test_split\n",
    "\n",
    "from tensorflow.keras.models import Sequential\n",
    "from tensorflow.keras.layers import Dense, Flatten, Dropout\n",
    "from tensorflow.keras import optimizers\n",
    "from keras_tuner.tuners import RandomSearch\n",
    "from tensorflow.keras.callbacks import EarlyStopping\n"
   ]
  },
  {
   "cell_type": "markdown",
   "metadata": {},
   "source": [
    "Read the Data and view."
   ]
  },
  {
   "cell_type": "code",
   "execution_count": 2,
   "metadata": {},
   "outputs": [
    {
     "data": {
      "text/html": [
       "<div>\n",
       "<style scoped>\n",
       "    .dataframe tbody tr th:only-of-type {\n",
       "        vertical-align: middle;\n",
       "    }\n",
       "\n",
       "    .dataframe tbody tr th {\n",
       "        vertical-align: top;\n",
       "    }\n",
       "\n",
       "    .dataframe thead th {\n",
       "        text-align: right;\n",
       "    }\n",
       "</style>\n",
       "<table border=\"1\" class=\"dataframe\">\n",
       "  <thead>\n",
       "    <tr style=\"text-align: right;\">\n",
       "      <th></th>\n",
       "      <th>ID</th>\n",
       "      <th>Year_of_Birth</th>\n",
       "      <th>Education_Level</th>\n",
       "      <th>Marital_Status</th>\n",
       "      <th>Disposable_Income</th>\n",
       "      <th>No_of_Kids_in_home</th>\n",
       "      <th>No_of_Teen_in_home</th>\n",
       "      <th>Date_Customer</th>\n",
       "      <th>Recency</th>\n",
       "      <th>Discounted_Purchases</th>\n",
       "      <th>...</th>\n",
       "      <th>Amount_on_SweetProducts</th>\n",
       "      <th>Amount_on_GoldProds</th>\n",
       "      <th>WebVisitsMonth</th>\n",
       "      <th>Cmp3Accepted</th>\n",
       "      <th>Cmp4Accepted</th>\n",
       "      <th>Cmp5Accepted</th>\n",
       "      <th>Cmp1Accepted</th>\n",
       "      <th>Cmp2Accepted</th>\n",
       "      <th>Any_Complain</th>\n",
       "      <th>Response</th>\n",
       "    </tr>\n",
       "  </thead>\n",
       "  <tbody>\n",
       "    <tr>\n",
       "      <th>0</th>\n",
       "      <td>ID_4A9AR6FQ</td>\n",
       "      <td>1955</td>\n",
       "      <td>Graduation</td>\n",
       "      <td>Divorced</td>\n",
       "      <td>77504.4</td>\n",
       "      <td>1</td>\n",
       "      <td>1</td>\n",
       "      <td>22-06-2014</td>\n",
       "      <td>56</td>\n",
       "      <td>2</td>\n",
       "      <td>...</td>\n",
       "      <td>6</td>\n",
       "      <td>20</td>\n",
       "      <td>3</td>\n",
       "      <td>0</td>\n",
       "      <td>0</td>\n",
       "      <td>0</td>\n",
       "      <td>0</td>\n",
       "      <td>0</td>\n",
       "      <td>0</td>\n",
       "      <td>0</td>\n",
       "    </tr>\n",
       "    <tr>\n",
       "      <th>1</th>\n",
       "      <td>ID_X28T3VEK</td>\n",
       "      <td>1958</td>\n",
       "      <td>Graduation</td>\n",
       "      <td>Together</td>\n",
       "      <td>56784.0</td>\n",
       "      <td>0</td>\n",
       "      <td>1</td>\n",
       "      <td>01-08-2013</td>\n",
       "      <td>17</td>\n",
       "      <td>6</td>\n",
       "      <td>...</td>\n",
       "      <td>15</td>\n",
       "      <td>19</td>\n",
       "      <td>6</td>\n",
       "      <td>0</td>\n",
       "      <td>0</td>\n",
       "      <td>0</td>\n",
       "      <td>0</td>\n",
       "      <td>0</td>\n",
       "      <td>0</td>\n",
       "      <td>0</td>\n",
       "    </tr>\n",
       "    <tr>\n",
       "      <th>2</th>\n",
       "      <td>ID_AWXARH57</td>\n",
       "      <td>1962</td>\n",
       "      <td>Graduation</td>\n",
       "      <td>Single</td>\n",
       "      <td>103714.8</td>\n",
       "      <td>0</td>\n",
       "      <td>0</td>\n",
       "      <td>21-11-2013</td>\n",
       "      <td>17</td>\n",
       "      <td>0</td>\n",
       "      <td>...</td>\n",
       "      <td>18</td>\n",
       "      <td>37</td>\n",
       "      <td>2</td>\n",
       "      <td>0</td>\n",
       "      <td>0</td>\n",
       "      <td>0</td>\n",
       "      <td>1</td>\n",
       "      <td>0</td>\n",
       "      <td>0</td>\n",
       "      <td>1</td>\n",
       "    </tr>\n",
       "    <tr>\n",
       "      <th>3</th>\n",
       "      <td>ID_FQVZHE81</td>\n",
       "      <td>1979</td>\n",
       "      <td>2n Cycle</td>\n",
       "      <td>Single</td>\n",
       "      <td>46311.6</td>\n",
       "      <td>1</td>\n",
       "      <td>0</td>\n",
       "      <td>13-09-2013</td>\n",
       "      <td>49</td>\n",
       "      <td>3</td>\n",
       "      <td>...</td>\n",
       "      <td>24</td>\n",
       "      <td>24</td>\n",
       "      <td>8</td>\n",
       "      <td>0</td>\n",
       "      <td>0</td>\n",
       "      <td>0</td>\n",
       "      <td>0</td>\n",
       "      <td>0</td>\n",
       "      <td>0</td>\n",
       "      <td>0</td>\n",
       "    </tr>\n",
       "    <tr>\n",
       "      <th>4</th>\n",
       "      <td>ID_QVLWGPRN</td>\n",
       "      <td>1959</td>\n",
       "      <td>Graduation</td>\n",
       "      <td>Married</td>\n",
       "      <td>87486.0</td>\n",
       "      <td>0</td>\n",
       "      <td>0</td>\n",
       "      <td>21-01-2014</td>\n",
       "      <td>59</td>\n",
       "      <td>1</td>\n",
       "      <td>...</td>\n",
       "      <td>165</td>\n",
       "      <td>203</td>\n",
       "      <td>1</td>\n",
       "      <td>0</td>\n",
       "      <td>0</td>\n",
       "      <td>0</td>\n",
       "      <td>1</td>\n",
       "      <td>0</td>\n",
       "      <td>0</td>\n",
       "      <td>0</td>\n",
       "    </tr>\n",
       "  </tbody>\n",
       "</table>\n",
       "<p>5 rows × 27 columns</p>\n",
       "</div>"
      ],
      "text/plain": [
       "            ID  Year_of_Birth Education_Level Marital_Status  \\\n",
       "0  ID_4A9AR6FQ           1955      Graduation       Divorced   \n",
       "1  ID_X28T3VEK           1958      Graduation       Together   \n",
       "2  ID_AWXARH57           1962      Graduation         Single   \n",
       "3  ID_FQVZHE81           1979        2n Cycle         Single   \n",
       "4  ID_QVLWGPRN           1959      Graduation        Married   \n",
       "\n",
       "   Disposable_Income  No_of_Kids_in_home  No_of_Teen_in_home Date_Customer  \\\n",
       "0            77504.4                   1                   1    22-06-2014   \n",
       "1            56784.0                   0                   1    01-08-2013   \n",
       "2           103714.8                   0                   0    21-11-2013   \n",
       "3            46311.6                   1                   0    13-09-2013   \n",
       "4            87486.0                   0                   0    21-01-2014   \n",
       "\n",
       "   Recency  Discounted_Purchases  ...  Amount_on_SweetProducts  \\\n",
       "0       56                     2  ...                        6   \n",
       "1       17                     6  ...                       15   \n",
       "2       17                     0  ...                       18   \n",
       "3       49                     3  ...                       24   \n",
       "4       59                     1  ...                      165   \n",
       "\n",
       "   Amount_on_GoldProds  WebVisitsMonth  Cmp3Accepted  Cmp4Accepted  \\\n",
       "0                   20               3             0             0   \n",
       "1                   19               6             0             0   \n",
       "2                   37               2             0             0   \n",
       "3                   24               8             0             0   \n",
       "4                  203               1             0             0   \n",
       "\n",
       "   Cmp5Accepted  Cmp1Accepted  Cmp2Accepted  Any_Complain  Response  \n",
       "0             0             0             0             0         0  \n",
       "1             0             0             0             0         0  \n",
       "2             0             1             0             0         1  \n",
       "3             0             0             0             0         0  \n",
       "4             0             1             0             0         0  \n",
       "\n",
       "[5 rows x 27 columns]"
      ]
     },
     "execution_count": 2,
     "metadata": {},
     "output_type": "execute_result"
    }
   ],
   "source": [
    "train = pd.read_csv('Train.csv')\n",
    "test = pd.read_csv('Test.csv')\n",
    "\n",
    "train.head()"
   ]
  },
  {
   "cell_type": "code",
   "execution_count": 3,
   "metadata": {},
   "outputs": [
    {
     "data": {
      "text/html": [
       "<div>\n",
       "<style scoped>\n",
       "    .dataframe tbody tr th:only-of-type {\n",
       "        vertical-align: middle;\n",
       "    }\n",
       "\n",
       "    .dataframe tbody tr th {\n",
       "        vertical-align: top;\n",
       "    }\n",
       "\n",
       "    .dataframe thead th {\n",
       "        text-align: right;\n",
       "    }\n",
       "</style>\n",
       "<table border=\"1\" class=\"dataframe\">\n",
       "  <thead>\n",
       "    <tr style=\"text-align: right;\">\n",
       "      <th></th>\n",
       "      <th>ID</th>\n",
       "      <th>Year_of_Birth</th>\n",
       "      <th>Education_Level</th>\n",
       "      <th>Marital_Status</th>\n",
       "      <th>Disposable_Income</th>\n",
       "      <th>No_of_Kids_in_home</th>\n",
       "      <th>No_of_Teen_in_home</th>\n",
       "      <th>Date_Customer</th>\n",
       "      <th>Recency</th>\n",
       "      <th>Discounted_Purchases</th>\n",
       "      <th>...</th>\n",
       "      <th>Amount_on_FishProducts</th>\n",
       "      <th>Amount_on_SweetProducts</th>\n",
       "      <th>Amount_on_GoldProds</th>\n",
       "      <th>WebVisitsMonth</th>\n",
       "      <th>Cmp3Accepted</th>\n",
       "      <th>Cmp4Accepted</th>\n",
       "      <th>Cmp5Accepted</th>\n",
       "      <th>Cmp1Accepted</th>\n",
       "      <th>Cmp2Accepted</th>\n",
       "      <th>Any_Complain</th>\n",
       "    </tr>\n",
       "  </thead>\n",
       "  <tbody>\n",
       "    <tr>\n",
       "      <th>0</th>\n",
       "      <td>ID_ZPMABNVX</td>\n",
       "      <td>1954</td>\n",
       "      <td>Graduation</td>\n",
       "      <td>Single</td>\n",
       "      <td>48556.8</td>\n",
       "      <td>0</td>\n",
       "      <td>1</td>\n",
       "      <td>11-01-2013</td>\n",
       "      <td>85</td>\n",
       "      <td>6</td>\n",
       "      <td>...</td>\n",
       "      <td>7</td>\n",
       "      <td>23</td>\n",
       "      <td>41</td>\n",
       "      <td>8</td>\n",
       "      <td>0</td>\n",
       "      <td>0</td>\n",
       "      <td>0</td>\n",
       "      <td>0</td>\n",
       "      <td>0</td>\n",
       "      <td>0</td>\n",
       "    </tr>\n",
       "    <tr>\n",
       "      <th>1</th>\n",
       "      <td>ID_WFE91NAA</td>\n",
       "      <td>1961</td>\n",
       "      <td>Graduation</td>\n",
       "      <td>Widow</td>\n",
       "      <td>57499.2</td>\n",
       "      <td>0</td>\n",
       "      <td>1</td>\n",
       "      <td>22-11-2012</td>\n",
       "      <td>79</td>\n",
       "      <td>5</td>\n",
       "      <td>...</td>\n",
       "      <td>0</td>\n",
       "      <td>0</td>\n",
       "      <td>75</td>\n",
       "      <td>6</td>\n",
       "      <td>0</td>\n",
       "      <td>1</td>\n",
       "      <td>0</td>\n",
       "      <td>0</td>\n",
       "      <td>0</td>\n",
       "      <td>0</td>\n",
       "    </tr>\n",
       "    <tr>\n",
       "      <th>2</th>\n",
       "      <td>ID_JV11RBRK</td>\n",
       "      <td>1973</td>\n",
       "      <td>Basic</td>\n",
       "      <td>Married</td>\n",
       "      <td>17025.6</td>\n",
       "      <td>0</td>\n",
       "      <td>0</td>\n",
       "      <td>28-02-2013</td>\n",
       "      <td>47</td>\n",
       "      <td>1</td>\n",
       "      <td>...</td>\n",
       "      <td>16</td>\n",
       "      <td>12</td>\n",
       "      <td>27</td>\n",
       "      <td>6</td>\n",
       "      <td>0</td>\n",
       "      <td>0</td>\n",
       "      <td>0</td>\n",
       "      <td>0</td>\n",
       "      <td>0</td>\n",
       "      <td>0</td>\n",
       "    </tr>\n",
       "    <tr>\n",
       "      <th>3</th>\n",
       "      <td>ID_6B7SVKY9</td>\n",
       "      <td>1970</td>\n",
       "      <td>Graduation</td>\n",
       "      <td>Together</td>\n",
       "      <td>91983.6</td>\n",
       "      <td>0</td>\n",
       "      <td>0</td>\n",
       "      <td>16-08-2013</td>\n",
       "      <td>98</td>\n",
       "      <td>1</td>\n",
       "      <td>...</td>\n",
       "      <td>219</td>\n",
       "      <td>189</td>\n",
       "      <td>126</td>\n",
       "      <td>2</td>\n",
       "      <td>0</td>\n",
       "      <td>0</td>\n",
       "      <td>1</td>\n",
       "      <td>1</td>\n",
       "      <td>0</td>\n",
       "      <td>0</td>\n",
       "    </tr>\n",
       "    <tr>\n",
       "      <th>4</th>\n",
       "      <td>ID_GOVUZ545</td>\n",
       "      <td>1959</td>\n",
       "      <td>Graduation</td>\n",
       "      <td>Together</td>\n",
       "      <td>78235.2</td>\n",
       "      <td>0</td>\n",
       "      <td>2</td>\n",
       "      <td>25-07-2013</td>\n",
       "      <td>41</td>\n",
       "      <td>2</td>\n",
       "      <td>...</td>\n",
       "      <td>12</td>\n",
       "      <td>0</td>\n",
       "      <td>200</td>\n",
       "      <td>5</td>\n",
       "      <td>1</td>\n",
       "      <td>0</td>\n",
       "      <td>0</td>\n",
       "      <td>0</td>\n",
       "      <td>0</td>\n",
       "      <td>0</td>\n",
       "    </tr>\n",
       "  </tbody>\n",
       "</table>\n",
       "<p>5 rows × 26 columns</p>\n",
       "</div>"
      ],
      "text/plain": [
       "            ID  Year_of_Birth Education_Level Marital_Status  \\\n",
       "0  ID_ZPMABNVX           1954      Graduation         Single   \n",
       "1  ID_WFE91NAA           1961      Graduation          Widow   \n",
       "2  ID_JV11RBRK           1973           Basic        Married   \n",
       "3  ID_6B7SVKY9           1970      Graduation       Together   \n",
       "4  ID_GOVUZ545           1959      Graduation       Together   \n",
       "\n",
       "   Disposable_Income  No_of_Kids_in_home  No_of_Teen_in_home Date_Customer  \\\n",
       "0            48556.8                   0                   1    11-01-2013   \n",
       "1            57499.2                   0                   1    22-11-2012   \n",
       "2            17025.6                   0                   0    28-02-2013   \n",
       "3            91983.6                   0                   0    16-08-2013   \n",
       "4            78235.2                   0                   2    25-07-2013   \n",
       "\n",
       "   Recency  Discounted_Purchases  ...  Amount_on_FishProducts  \\\n",
       "0       85                     6  ...                       7   \n",
       "1       79                     5  ...                       0   \n",
       "2       47                     1  ...                      16   \n",
       "3       98                     1  ...                     219   \n",
       "4       41                     2  ...                      12   \n",
       "\n",
       "   Amount_on_SweetProducts  Amount_on_GoldProds  WebVisitsMonth  Cmp3Accepted  \\\n",
       "0                       23                   41               8             0   \n",
       "1                        0                   75               6             0   \n",
       "2                       12                   27               6             0   \n",
       "3                      189                  126               2             0   \n",
       "4                        0                  200               5             1   \n",
       "\n",
       "   Cmp4Accepted  Cmp5Accepted  Cmp1Accepted  Cmp2Accepted  Any_Complain  \n",
       "0             0             0             0             0             0  \n",
       "1             1             0             0             0             0  \n",
       "2             0             0             0             0             0  \n",
       "3             0             1             1             0             0  \n",
       "4             0             0             0             0             0  \n",
       "\n",
       "[5 rows x 26 columns]"
      ]
     },
     "execution_count": 3,
     "metadata": {},
     "output_type": "execute_result"
    }
   ],
   "source": [
    "test.head()"
   ]
  },
  {
   "cell_type": "code",
   "execution_count": 4,
   "metadata": {},
   "outputs": [
    {
     "name": "stdout",
     "output_type": "stream",
     "text": [
      "<class 'pandas.core.frame.DataFrame'>\n",
      "RangeIndex: 1568 entries, 0 to 1567\n",
      "Data columns (total 27 columns):\n",
      " #   Column                   Non-Null Count  Dtype  \n",
      "---  ------                   --------------  -----  \n",
      " 0   ID                       1568 non-null   object \n",
      " 1   Year_of_Birth            1568 non-null   int64  \n",
      " 2   Education_Level          1568 non-null   object \n",
      " 3   Marital_Status           1568 non-null   object \n",
      " 4   Disposable_Income        1552 non-null   float64\n",
      " 5   No_of_Kids_in_home       1568 non-null   int64  \n",
      " 6   No_of_Teen_in_home       1568 non-null   int64  \n",
      " 7   Date_Customer            1568 non-null   object \n",
      " 8   Recency                  1568 non-null   int64  \n",
      " 9   Discounted_Purchases     1568 non-null   int64  \n",
      " 10  WebPurchases             1568 non-null   int64  \n",
      " 11  CatalogPurchases         1568 non-null   int64  \n",
      " 12  StorePurchases           1568 non-null   int64  \n",
      " 13  Amount_on_Wines          1568 non-null   int64  \n",
      " 14  Amount_on_Fruits         1568 non-null   int64  \n",
      " 15  Amount_on_MeatProducts   1568 non-null   int64  \n",
      " 16  Amount_on_FishProducts   1568 non-null   int64  \n",
      " 17  Amount_on_SweetProducts  1568 non-null   int64  \n",
      " 18  Amount_on_GoldProds      1568 non-null   int64  \n",
      " 19  WebVisitsMonth           1568 non-null   int64  \n",
      " 20  Cmp3Accepted             1568 non-null   int64  \n",
      " 21  Cmp4Accepted             1568 non-null   int64  \n",
      " 22  Cmp5Accepted             1568 non-null   int64  \n",
      " 23  Cmp1Accepted             1568 non-null   int64  \n",
      " 24  Cmp2Accepted             1568 non-null   int64  \n",
      " 25  Any_Complain             1568 non-null   int64  \n",
      " 26  Response                 1568 non-null   int64  \n",
      "dtypes: float64(1), int64(22), object(4)\n",
      "memory usage: 330.9+ KB\n"
     ]
    }
   ],
   "source": [
    "#we would need to change the Dtype of some columns later\n",
    "train.info()"
   ]
  },
  {
   "cell_type": "markdown",
   "metadata": {},
   "source": [
    "Explanatory Data Analysis"
   ]
  },
  {
   "cell_type": "code",
   "execution_count": 5,
   "metadata": {},
   "outputs": [
    {
     "data": {
      "text/html": [
       "<div>\n",
       "<style scoped>\n",
       "    .dataframe tbody tr th:only-of-type {\n",
       "        vertical-align: middle;\n",
       "    }\n",
       "\n",
       "    .dataframe tbody tr th {\n",
       "        vertical-align: top;\n",
       "    }\n",
       "\n",
       "    .dataframe thead th {\n",
       "        text-align: right;\n",
       "    }\n",
       "</style>\n",
       "<table border=\"1\" class=\"dataframe\">\n",
       "  <thead>\n",
       "    <tr style=\"text-align: right;\">\n",
       "      <th></th>\n",
       "      <th>Year_of_Birth</th>\n",
       "      <th>Disposable_Income</th>\n",
       "      <th>No_of_Kids_in_home</th>\n",
       "      <th>No_of_Teen_in_home</th>\n",
       "      <th>Recency</th>\n",
       "      <th>Discounted_Purchases</th>\n",
       "      <th>WebPurchases</th>\n",
       "      <th>CatalogPurchases</th>\n",
       "      <th>StorePurchases</th>\n",
       "      <th>Amount_on_Wines</th>\n",
       "      <th>...</th>\n",
       "      <th>Amount_on_SweetProducts</th>\n",
       "      <th>Amount_on_GoldProds</th>\n",
       "      <th>WebVisitsMonth</th>\n",
       "      <th>Cmp3Accepted</th>\n",
       "      <th>Cmp4Accepted</th>\n",
       "      <th>Cmp5Accepted</th>\n",
       "      <th>Cmp1Accepted</th>\n",
       "      <th>Cmp2Accepted</th>\n",
       "      <th>Any_Complain</th>\n",
       "      <th>Response</th>\n",
       "    </tr>\n",
       "  </thead>\n",
       "  <tbody>\n",
       "    <tr>\n",
       "      <th>count</th>\n",
       "      <td>1568.000000</td>\n",
       "      <td>1552.000000</td>\n",
       "      <td>1568.000000</td>\n",
       "      <td>1568.000000</td>\n",
       "      <td>1568.000000</td>\n",
       "      <td>1568.000000</td>\n",
       "      <td>1568.000000</td>\n",
       "      <td>1568.000000</td>\n",
       "      <td>1568.000000</td>\n",
       "      <td>1568.000000</td>\n",
       "      <td>...</td>\n",
       "      <td>1568.000000</td>\n",
       "      <td>1568.000000</td>\n",
       "      <td>1568.000000</td>\n",
       "      <td>1568.000000</td>\n",
       "      <td>1568.000000</td>\n",
       "      <td>1568.000000</td>\n",
       "      <td>1568.000000</td>\n",
       "      <td>1568.000000</td>\n",
       "      <td>1568.000000</td>\n",
       "      <td>1568.000000</td>\n",
       "    </tr>\n",
       "    <tr>\n",
       "      <th>mean</th>\n",
       "      <td>1970.073342</td>\n",
       "      <td>62381.186598</td>\n",
       "      <td>0.460459</td>\n",
       "      <td>0.497449</td>\n",
       "      <td>55.408801</td>\n",
       "      <td>2.292730</td>\n",
       "      <td>4.001276</td>\n",
       "      <td>2.665816</td>\n",
       "      <td>5.703444</td>\n",
       "      <td>303.190051</td>\n",
       "      <td>...</td>\n",
       "      <td>26.800383</td>\n",
       "      <td>43.739158</td>\n",
       "      <td>5.326531</td>\n",
       "      <td>0.072704</td>\n",
       "      <td>0.072704</td>\n",
       "      <td>0.080357</td>\n",
       "      <td>0.064413</td>\n",
       "      <td>0.012755</td>\n",
       "      <td>0.008291</td>\n",
       "      <td>0.152423</td>\n",
       "    </tr>\n",
       "    <tr>\n",
       "      <th>std</th>\n",
       "      <td>11.920781</td>\n",
       "      <td>32089.169563</td>\n",
       "      <td>0.540361</td>\n",
       "      <td>0.544151</td>\n",
       "      <td>28.788037</td>\n",
       "      <td>1.937544</td>\n",
       "      <td>2.773748</td>\n",
       "      <td>3.043493</td>\n",
       "      <td>3.260553</td>\n",
       "      <td>340.141396</td>\n",
       "      <td>...</td>\n",
       "      <td>40.857657</td>\n",
       "      <td>51.591557</td>\n",
       "      <td>2.468023</td>\n",
       "      <td>0.259733</td>\n",
       "      <td>0.259733</td>\n",
       "      <td>0.271932</td>\n",
       "      <td>0.245566</td>\n",
       "      <td>0.112252</td>\n",
       "      <td>0.090705</td>\n",
       "      <td>0.359546</td>\n",
       "    </tr>\n",
       "    <tr>\n",
       "      <th>min</th>\n",
       "      <td>1900.000000</td>\n",
       "      <td>2076.000000</td>\n",
       "      <td>0.000000</td>\n",
       "      <td>0.000000</td>\n",
       "      <td>7.000000</td>\n",
       "      <td>0.000000</td>\n",
       "      <td>0.000000</td>\n",
       "      <td>0.000000</td>\n",
       "      <td>0.000000</td>\n",
       "      <td>5.000000</td>\n",
       "      <td>...</td>\n",
       "      <td>0.000000</td>\n",
       "      <td>0.000000</td>\n",
       "      <td>0.000000</td>\n",
       "      <td>0.000000</td>\n",
       "      <td>0.000000</td>\n",
       "      <td>0.000000</td>\n",
       "      <td>0.000000</td>\n",
       "      <td>0.000000</td>\n",
       "      <td>0.000000</td>\n",
       "      <td>0.000000</td>\n",
       "    </tr>\n",
       "    <tr>\n",
       "      <th>25%</th>\n",
       "      <td>1960.000000</td>\n",
       "      <td>41612.400000</td>\n",
       "      <td>0.000000</td>\n",
       "      <td>0.000000</td>\n",
       "      <td>31.000000</td>\n",
       "      <td>1.000000</td>\n",
       "      <td>2.000000</td>\n",
       "      <td>0.000000</td>\n",
       "      <td>3.000000</td>\n",
       "      <td>27.000000</td>\n",
       "      <td>...</td>\n",
       "      <td>1.000000</td>\n",
       "      <td>8.000000</td>\n",
       "      <td>3.000000</td>\n",
       "      <td>0.000000</td>\n",
       "      <td>0.000000</td>\n",
       "      <td>0.000000</td>\n",
       "      <td>0.000000</td>\n",
       "      <td>0.000000</td>\n",
       "      <td>0.000000</td>\n",
       "      <td>0.000000</td>\n",
       "    </tr>\n",
       "    <tr>\n",
       "      <th>50%</th>\n",
       "      <td>1971.000000</td>\n",
       "      <td>60964.200000</td>\n",
       "      <td>0.000000</td>\n",
       "      <td>0.000000</td>\n",
       "      <td>56.000000</td>\n",
       "      <td>2.000000</td>\n",
       "      <td>3.000000</td>\n",
       "      <td>2.000000</td>\n",
       "      <td>5.000000</td>\n",
       "      <td>167.000000</td>\n",
       "      <td>...</td>\n",
       "      <td>8.000000</td>\n",
       "      <td>25.000000</td>\n",
       "      <td>6.000000</td>\n",
       "      <td>0.000000</td>\n",
       "      <td>0.000000</td>\n",
       "      <td>0.000000</td>\n",
       "      <td>0.000000</td>\n",
       "      <td>0.000000</td>\n",
       "      <td>0.000000</td>\n",
       "      <td>0.000000</td>\n",
       "    </tr>\n",
       "    <tr>\n",
       "      <th>75%</th>\n",
       "      <td>1979.000000</td>\n",
       "      <td>81493.200000</td>\n",
       "      <td>1.000000</td>\n",
       "      <td>1.000000</td>\n",
       "      <td>80.000000</td>\n",
       "      <td>3.000000</td>\n",
       "      <td>6.000000</td>\n",
       "      <td>4.000000</td>\n",
       "      <td>8.000000</td>\n",
       "      <td>499.500000</td>\n",
       "      <td>...</td>\n",
       "      <td>33.000000</td>\n",
       "      <td>56.000000</td>\n",
       "      <td>7.000000</td>\n",
       "      <td>0.000000</td>\n",
       "      <td>0.000000</td>\n",
       "      <td>0.000000</td>\n",
       "      <td>0.000000</td>\n",
       "      <td>0.000000</td>\n",
       "      <td>0.000000</td>\n",
       "      <td>0.000000</td>\n",
       "    </tr>\n",
       "    <tr>\n",
       "      <th>max</th>\n",
       "      <td>1997.000000</td>\n",
       "      <td>799999.200000</td>\n",
       "      <td>2.000000</td>\n",
       "      <td>2.000000</td>\n",
       "      <td>106.000000</td>\n",
       "      <td>15.000000</td>\n",
       "      <td>27.000000</td>\n",
       "      <td>28.000000</td>\n",
       "      <td>13.000000</td>\n",
       "      <td>1498.000000</td>\n",
       "      <td>...</td>\n",
       "      <td>263.000000</td>\n",
       "      <td>362.000000</td>\n",
       "      <td>20.000000</td>\n",
       "      <td>1.000000</td>\n",
       "      <td>1.000000</td>\n",
       "      <td>1.000000</td>\n",
       "      <td>1.000000</td>\n",
       "      <td>1.000000</td>\n",
       "      <td>1.000000</td>\n",
       "      <td>1.000000</td>\n",
       "    </tr>\n",
       "  </tbody>\n",
       "</table>\n",
       "<p>8 rows × 23 columns</p>\n",
       "</div>"
      ],
      "text/plain": [
       "       Year_of_Birth  Disposable_Income  No_of_Kids_in_home  \\\n",
       "count    1568.000000        1552.000000         1568.000000   \n",
       "mean     1970.073342       62381.186598            0.460459   \n",
       "std        11.920781       32089.169563            0.540361   \n",
       "min      1900.000000        2076.000000            0.000000   \n",
       "25%      1960.000000       41612.400000            0.000000   \n",
       "50%      1971.000000       60964.200000            0.000000   \n",
       "75%      1979.000000       81493.200000            1.000000   \n",
       "max      1997.000000      799999.200000            2.000000   \n",
       "\n",
       "       No_of_Teen_in_home      Recency  Discounted_Purchases  WebPurchases  \\\n",
       "count         1568.000000  1568.000000           1568.000000   1568.000000   \n",
       "mean             0.497449    55.408801              2.292730      4.001276   \n",
       "std              0.544151    28.788037              1.937544      2.773748   \n",
       "min              0.000000     7.000000              0.000000      0.000000   \n",
       "25%              0.000000    31.000000              1.000000      2.000000   \n",
       "50%              0.000000    56.000000              2.000000      3.000000   \n",
       "75%              1.000000    80.000000              3.000000      6.000000   \n",
       "max              2.000000   106.000000             15.000000     27.000000   \n",
       "\n",
       "       CatalogPurchases  StorePurchases  Amount_on_Wines  ...  \\\n",
       "count       1568.000000     1568.000000      1568.000000  ...   \n",
       "mean           2.665816        5.703444       303.190051  ...   \n",
       "std            3.043493        3.260553       340.141396  ...   \n",
       "min            0.000000        0.000000         5.000000  ...   \n",
       "25%            0.000000        3.000000        27.000000  ...   \n",
       "50%            2.000000        5.000000       167.000000  ...   \n",
       "75%            4.000000        8.000000       499.500000  ...   \n",
       "max           28.000000       13.000000      1498.000000  ...   \n",
       "\n",
       "       Amount_on_SweetProducts  Amount_on_GoldProds  WebVisitsMonth  \\\n",
       "count              1568.000000          1568.000000     1568.000000   \n",
       "mean                 26.800383            43.739158        5.326531   \n",
       "std                  40.857657            51.591557        2.468023   \n",
       "min                   0.000000             0.000000        0.000000   \n",
       "25%                   1.000000             8.000000        3.000000   \n",
       "50%                   8.000000            25.000000        6.000000   \n",
       "75%                  33.000000            56.000000        7.000000   \n",
       "max                 263.000000           362.000000       20.000000   \n",
       "\n",
       "       Cmp3Accepted  Cmp4Accepted  Cmp5Accepted  Cmp1Accepted  Cmp2Accepted  \\\n",
       "count   1568.000000   1568.000000   1568.000000   1568.000000   1568.000000   \n",
       "mean       0.072704      0.072704      0.080357      0.064413      0.012755   \n",
       "std        0.259733      0.259733      0.271932      0.245566      0.112252   \n",
       "min        0.000000      0.000000      0.000000      0.000000      0.000000   \n",
       "25%        0.000000      0.000000      0.000000      0.000000      0.000000   \n",
       "50%        0.000000      0.000000      0.000000      0.000000      0.000000   \n",
       "75%        0.000000      0.000000      0.000000      0.000000      0.000000   \n",
       "max        1.000000      1.000000      1.000000      1.000000      1.000000   \n",
       "\n",
       "       Any_Complain     Response  \n",
       "count   1568.000000  1568.000000  \n",
       "mean       0.008291     0.152423  \n",
       "std        0.090705     0.359546  \n",
       "min        0.000000     0.000000  \n",
       "25%        0.000000     0.000000  \n",
       "50%        0.000000     0.000000  \n",
       "75%        0.000000     0.000000  \n",
       "max        1.000000     1.000000  \n",
       "\n",
       "[8 rows x 23 columns]"
      ]
     },
     "execution_count": 5,
     "metadata": {},
     "output_type": "execute_result"
    }
   ],
   "source": [
    "train.describe()"
   ]
  },
  {
   "cell_type": "code",
   "execution_count": 6,
   "metadata": {},
   "outputs": [
    {
     "data": {
      "text/plain": [
       "ID                          0\n",
       "Year_of_Birth               0\n",
       "Education_Level             0\n",
       "Marital_Status              0\n",
       "Disposable_Income          16\n",
       "No_of_Kids_in_home          0\n",
       "No_of_Teen_in_home          0\n",
       "Date_Customer               0\n",
       "Recency                     0\n",
       "Discounted_Purchases        0\n",
       "WebPurchases                0\n",
       "CatalogPurchases            0\n",
       "StorePurchases              0\n",
       "Amount_on_Wines             0\n",
       "Amount_on_Fruits            0\n",
       "Amount_on_MeatProducts      0\n",
       "Amount_on_FishProducts      0\n",
       "Amount_on_SweetProducts     0\n",
       "Amount_on_GoldProds         0\n",
       "WebVisitsMonth              0\n",
       "Cmp3Accepted                0\n",
       "Cmp4Accepted                0\n",
       "Cmp5Accepted                0\n",
       "Cmp1Accepted                0\n",
       "Cmp2Accepted                0\n",
       "Any_Complain                0\n",
       "Response                    0\n",
       "dtype: int64"
      ]
     },
     "execution_count": 6,
     "metadata": {},
     "output_type": "execute_result"
    }
   ],
   "source": [
    "train.isna().sum()"
   ]
  },
  {
   "cell_type": "code",
   "execution_count": 7,
   "metadata": {},
   "outputs": [],
   "source": [
    "train['Disposable_Income'].fillna(train['Disposable_Income'].mean(), inplace=True)"
   ]
  },
  {
   "cell_type": "code",
   "execution_count": 9,
   "metadata": {},
   "outputs": [
    {
     "name": "stdout",
     "output_type": "stream",
     "text": [
      "<class 'pandas.core.frame.DataFrame'>\n",
      "RangeIndex: 1568 entries, 0 to 1567\n",
      "Data columns (total 27 columns):\n",
      " #   Column                   Non-Null Count  Dtype         \n",
      "---  ------                   --------------  -----         \n",
      " 0   ID                       1568 non-null   object        \n",
      " 1   Year_of_Birth            1568 non-null   int64         \n",
      " 2   Education_Level          1568 non-null   object        \n",
      " 3   Marital_Status           1568 non-null   object        \n",
      " 4   Disposable_Income        1568 non-null   float64       \n",
      " 5   No_of_Kids_in_home       1568 non-null   int64         \n",
      " 6   No_of_Teen_in_home       1568 non-null   int64         \n",
      " 7   Date_Customer            1568 non-null   datetime64[ns]\n",
      " 8   Recency                  1568 non-null   int64         \n",
      " 9   Discounted_Purchases     1568 non-null   int64         \n",
      " 10  WebPurchases             1568 non-null   int64         \n",
      " 11  CatalogPurchases         1568 non-null   int64         \n",
      " 12  StorePurchases           1568 non-null   int64         \n",
      " 13  Amount_on_Wines          1568 non-null   int64         \n",
      " 14  Amount_on_Fruits         1568 non-null   int64         \n",
      " 15  Amount_on_MeatProducts   1568 non-null   int64         \n",
      " 16  Amount_on_FishProducts   1568 non-null   int64         \n",
      " 17  Amount_on_SweetProducts  1568 non-null   int64         \n",
      " 18  Amount_on_GoldProds      1568 non-null   int64         \n",
      " 19  WebVisitsMonth           1568 non-null   int64         \n",
      " 20  Cmp3Accepted             1568 non-null   int64         \n",
      " 21  Cmp4Accepted             1568 non-null   int64         \n",
      " 22  Cmp5Accepted             1568 non-null   int64         \n",
      " 23  Cmp1Accepted             1568 non-null   int64         \n",
      " 24  Cmp2Accepted             1568 non-null   int64         \n",
      " 25  Any_Complain             1568 non-null   int64         \n",
      " 26  Response                 1568 non-null   int64         \n",
      "dtypes: datetime64[ns](1), float64(1), int64(22), object(3)\n",
      "memory usage: 330.9+ KB\n"
     ]
    }
   ],
   "source": [
    "#you could CONCAT the train & test for joint pre-processing\n",
    "train['Date_Customer'] = pd.to_datetime(train['Date_Customer'])\n",
    "test['Date_Customer'] = pd.to_datetime(test['Date_Customer'])\n",
    "\n",
    "train.info()"
   ]
  },
  {
   "cell_type": "code",
   "execution_count": 10,
   "metadata": {},
   "outputs": [
    {
     "name": "stderr",
     "output_type": "stream",
     "text": [
      "C:\\Users\\DELL\\AppData\\Local\\Programs\\Python\\Python37\\lib\\site-packages\\seaborn\\_decorators.py:43: FutureWarning: Pass the following variable as a keyword arg: x. From version 0.12, the only valid positional argument will be `data`, and passing other arguments without an explicit keyword will result in an error or misinterpretation.\n",
      "  FutureWarning\n"
     ]
    },
    {
     "data": {
      "text/plain": [
       "<AxesSubplot:xlabel='Disposable_Income'>"
      ]
     },
     "execution_count": 10,
     "metadata": {},
     "output_type": "execute_result"
    },
    {
     "data": {
      "image/png": "[encoded data removed]",
      "text/plain": [
       "<Figure size 432x288 with 1 Axes>"
      ]
     },
     "metadata": {
      "needs_background": "light"
     },
     "output_type": "display_data"
    }
   ],
   "source": [
    "# this column has some outliers that make the range too wide\n",
    "sns.boxplot(train['Disposable_Income'])"
   ]
  },
  {
   "cell_type": "code",
   "execution_count": 11,
   "metadata": {},
   "outputs": [
    {
     "data": {
      "text/plain": [
       "<AxesSubplot:>"
      ]
     },
     "execution_count": 11,
     "metadata": {},
     "output_type": "execute_result"
    },
    {
     "data": {
      "image/png": "[encoded data removed]",
      "text/plain": [
       "<Figure size 432x288 with 1 Axes>"
      ]
     },
     "metadata": {
      "needs_background": "light"
     },
     "output_type": "display_data"
    }
   ],
   "source": [
    "train['Disposable_Income'].hist(bins=100)"
   ]
  },
  {
   "cell_type": "code",
   "execution_count": 12,
   "metadata": {},
   "outputs": [
    {
     "data": {
      "text/plain": [
       "count      1568.000000\n",
       "mean      61942.911103\n",
       "std       25950.304744\n",
       "min        2076.000000\n",
       "25%       41801.400000\n",
       "50%       61391.400000\n",
       "75%       81055.200000\n",
       "max      192963.600000\n",
       "Name: Disposable_Income, dtype: float64"
      ]
     },
     "execution_count": 12,
     "metadata": {},
     "output_type": "execute_result"
    }
   ],
   "source": [
    "'''\n",
    "For the Disposable Column table, mean is 62381.18659793814. Outliers go as high as 799,999.\n",
    "The 75th percentile is 81493.2. We would cap the max values higher than 200k to the 99th percentile.\n",
    "The 99th percentile is 112897.27200000001\n",
    "'''\n",
    "\n",
    "#let's cap the 'Disposable Income' column\n",
    "percentile_99 = train['Disposable_Income'].quantile(.99)\n",
    "train['Disposable_Income'] = train['Disposable_Income'].map(lambda x: percentile_99 if x > 200000 else x)\n",
    "test['Disposable_Income'] = test['Disposable_Income'].map(lambda x: percentile_99 if x > 200000 else x)\n",
    "train['Disposable_Income'].describe()"
   ]
  },
  {
   "cell_type": "code",
   "execution_count": 13,
   "metadata": {},
   "outputs": [
    {
     "data": {
      "text/plain": [
       "<AxesSubplot:>"
      ]
     },
     "execution_count": 13,
     "metadata": {},
     "output_type": "execute_result"
    },
    {
     "data": {
      "image/png": "[encoded data removed]",
      "text/plain": [
       "<Figure size 432x288 with 1 Axes>"
      ]
     },
     "metadata": {
      "needs_background": "light"
     },
     "output_type": "display_data"
    }
   ],
   "source": [
    "#we can now better view the data this way, as values above 100k are capped\n",
    "train['Disposable_Income'].hist(bins=200)"
   ]
  },
  {
   "cell_type": "code",
   "execution_count": 14,
   "metadata": {},
   "outputs": [
    {
     "name": "stderr",
     "output_type": "stream",
     "text": [
      "C:\\Users\\DELL\\AppData\\Local\\Programs\\Python\\Python37\\lib\\site-packages\\seaborn\\_decorators.py:43: FutureWarning: Pass the following variable as a keyword arg: x. From version 0.12, the only valid positional argument will be `data`, and passing other arguments without an explicit keyword will result in an error or misinterpretation.\n",
      "  FutureWarning\n"
     ]
    },
    {
     "data": {
      "text/plain": [
       "<AxesSubplot:xlabel='Disposable_Income'>"
      ]
     },
     "execution_count": 14,
     "metadata": {},
     "output_type": "execute_result"
    },
    {
     "data": {
      "image/png": "[encoded data removed]",
      "text/plain": [
       "<Figure size 432x288 with 1 Axes>"
      ]
     },
     "metadata": {
      "needs_background": "light"
     },
     "output_type": "display_data"
    }
   ],
   "source": [
    "#the Data rabge us \n",
    "sns.boxplot(train['Disposable_Income'])"
   ]
  },
  {
   "cell_type": "code",
   "execution_count": 15,
   "metadata": {},
   "outputs": [
    {
     "name": "stderr",
     "output_type": "stream",
     "text": [
      "C:\\Users\\DELL\\AppData\\Local\\Programs\\Python\\Python37\\lib\\site-packages\\seaborn\\_decorators.py:43: FutureWarning: Pass the following variable as a keyword arg: x. From version 0.12, the only valid positional argument will be `data`, and passing other arguments without an explicit keyword will result in an error or misinterpretation.\n",
      "  FutureWarning\n"
     ]
    },
    {
     "data": {
      "text/plain": [
       "(array([0, 1, 2, 3, 4, 5, 6, 7]),\n",
       " [Text(0, 0, 'Divorced'),\n",
       "  Text(1, 0, 'Together'),\n",
       "  Text(2, 0, 'Single'),\n",
       "  Text(3, 0, 'Married'),\n",
       "  Text(4, 0, 'Widow'),\n",
       "  Text(5, 0, 'Alone'),\n",
       "  Text(6, 0, 'Absurd'),\n",
       "  Text(7, 0, 'YOLO')])"
      ]
     },
     "execution_count": 15,
     "metadata": {},
     "output_type": "execute_result"
    },
    {
     "data": {
      "image/png": "[encoded data removed]",
      "text/plain": [
       "<Figure size 432x288 with 1 Axes>"
      ]
     },
     "metadata": {
      "needs_background": "light"
     },
     "output_type": "display_data"
    }
   ],
   "source": [
    "sns.countplot(train['Marital_Status'], orient='v') \n",
    "plt.xticks(rotation=45)"
   ]
  },
  {
   "cell_type": "code",
   "execution_count": 16,
   "metadata": {},
   "outputs": [
    {
     "name": "stderr",
     "output_type": "stream",
     "text": [
      "C:\\Users\\DELL\\AppData\\Local\\Programs\\Python\\Python37\\lib\\site-packages\\seaborn\\_decorators.py:43: FutureWarning: Pass the following variable as a keyword arg: x. From version 0.12, the only valid positional argument will be `data`, and passing other arguments without an explicit keyword will result in an error or misinterpretation.\n",
      "  FutureWarning\n"
     ]
    },
    {
     "data": {
      "text/plain": [
       "(array([0, 1, 2, 3, 4]),\n",
       " [Text(0, 0, 'Graduation'),\n",
       "  Text(1, 0, '2n Cycle'),\n",
       "  Text(2, 0, 'Master'),\n",
       "  Text(3, 0, 'PhD'),\n",
       "  Text(4, 0, 'Basic')])"
      ]
     },
     "execution_count": 16,
     "metadata": {},
     "output_type": "execute_result"
    },
    {
     "data": {
      "image/png": "[encoded data removed]",
      "text/plain": [
       "<Figure size 432x288 with 1 Axes>"
      ]
     },
     "metadata": {
      "needs_background": "light"
     },
     "output_type": "display_data"
    }
   ],
   "source": [
    "sns.countplot(train['Education_Level']) \n",
    "plt.xticks(rotation=45)"
   ]
  },
  {
   "cell_type": "code",
   "execution_count": 17,
   "metadata": {},
   "outputs": [],
   "source": [
    "#extract the month column and Year Columns\n",
    "train['Month'] = pd.DatetimeIndex(train['Date_Customer']).month\n",
    "test['Month'] = pd.DatetimeIndex(test['Date_Customer']).month\n",
    "\n",
    "train['Year'] = pd.DatetimeIndex(train['Date_Customer']).year\n",
    "test['Year'] = pd.DatetimeIndex(test['Date_Customer']).year"
   ]
  },
  {
   "cell_type": "code",
   "execution_count": 18,
   "metadata": {},
   "outputs": [
    {
     "name": "stderr",
     "output_type": "stream",
     "text": [
      "C:\\Users\\DELL\\AppData\\Local\\Programs\\Python\\Python37\\lib\\site-packages\\seaborn\\_decorators.py:43: FutureWarning: Pass the following variable as a keyword arg: x. From version 0.12, the only valid positional argument will be `data`, and passing other arguments without an explicit keyword will result in an error or misinterpretation.\n",
      "  FutureWarning\n"
     ]
    },
    {
     "data": {
      "text/plain": [
       "Text(0.5, 0, 'Month of User Enrollment')"
      ]
     },
     "execution_count": 18,
     "metadata": {},
     "output_type": "execute_result"
    },
    {
     "data": {
      "image/png": "[encoded data removed]",
      "text/plain": [
       "<Figure size 432x288 with 1 Axes>"
      ]
     },
     "metadata": {
      "needs_background": "light"
     },
     "output_type": "display_data"
    }
   ],
   "source": [
    "#month of User enrollment with the company\n",
    "sns.countplot(train['Month']) \n",
    "plt.xlabel('Month of User Enrollment')"
   ]
  },
  {
   "cell_type": "code",
   "execution_count": 19,
   "metadata": {},
   "outputs": [
    {
     "name": "stderr",
     "output_type": "stream",
     "text": [
      "C:\\Users\\DELL\\AppData\\Local\\Programs\\Python\\Python37\\lib\\site-packages\\seaborn\\_decorators.py:43: FutureWarning: Pass the following variable as a keyword arg: x. From version 0.12, the only valid positional argument will be `data`, and passing other arguments without an explicit keyword will result in an error or misinterpretation.\n",
      "  FutureWarning\n"
     ]
    },
    {
     "data": {
      "text/plain": [
       "Text(0.5, 0, 'Year of User Enrollment')"
      ]
     },
     "execution_count": 19,
     "metadata": {},
     "output_type": "execute_result"
    },
    {
     "data": {
      "image/png": "[encoded data removed]",
      "text/plain": [
       "<Figure size 432x288 with 1 Axes>"
      ]
     },
     "metadata": {
      "needs_background": "light"
     },
     "output_type": "display_data"
    }
   ],
   "source": [
    "#year of User enrollment\n",
    "sns.countplot(train['Year']) \n",
    "plt.xlabel('Year of User Enrollment')"
   ]
  },
  {
   "cell_type": "code",
   "execution_count": 20,
   "metadata": {},
   "outputs": [
    {
     "name": "stdout",
     "output_type": "stream",
     "text": [
      "Any_Complains: \n",
      " 0    1555\n",
      "1      13\n",
      "Name: Any_Complain, dtype: int64\n",
      "\n",
      "\n",
      "Cmp1Accepted: \n",
      " 0    1467\n",
      "1     101\n",
      "Name: Cmp1Accepted, dtype: int64\n",
      "\n",
      "\n",
      "Cmp3Accepted: \n",
      " 0    1454\n",
      "1     114\n",
      "Name: Cmp3Accepted, dtype: int64\n",
      "\n",
      "\n",
      "Cmp4Accepted: \n",
      " 0    1454\n",
      "1     114\n",
      "Name: Cmp4Accepted, dtype: int64\n",
      "\n",
      "\n",
      "Cmp5Accepted: \n",
      " 0    1442\n",
      "1     126\n",
      "Name: Cmp5Accepted, dtype: int64\n",
      "\n",
      "\n"
     ]
    }
   ],
   "source": [
    "#these columns are highly imbalanced\n",
    "print('Any_Complains: \\n', train['Any_Complain'].value_counts())\n",
    "print('\\n')\n",
    "print('Cmp1Accepted: \\n', train['Cmp1Accepted'].value_counts())\n",
    "print('\\n')\n",
    "print('Cmp3Accepted: \\n', train['Cmp3Accepted'].value_counts())\n",
    "print('\\n')\n",
    "print('Cmp4Accepted: \\n', train['Cmp4Accepted'].value_counts())\n",
    "print('\\n')\n",
    "print('Cmp5Accepted: \\n', train['Cmp5Accepted'].value_counts())\n",
    "print('\\n')"
   ]
  },
  {
   "cell_type": "code",
   "execution_count": 21,
   "metadata": {},
   "outputs": [
    {
     "name": "stdout",
     "output_type": "stream",
     "text": [
      "Unique values for EDUCATION LEVEL: ['Graduation' '2n Cycle' 'Master' 'PhD' 'Basic']\n",
      "\n",
      "\n",
      "Unique values for EDUCATION LEVEL: ['Graduation' 'Basic' 'Master' '2n Cycle' 'PhD']\n"
     ]
    }
   ],
   "source": [
    "# 'EDUCATION-LEVEL' has equal values for both Train & Test\n",
    "print('Unique values for EDUCATION LEVEL:', train['Education_Level'].unique())\n",
    "print('\\n')\n",
    "print('Unique values for EDUCATION LEVEL:', test['Education_Level'].unique())"
   ]
  },
  {
   "cell_type": "code",
   "execution_count": 22,
   "metadata": {},
   "outputs": [
    {
     "name": "stdout",
     "output_type": "stream",
     "text": [
      "Unique values for MARITAL STATUS: ['Divorced' 'Together' 'Single' 'Married' 'Widow' 'Alone' 'Absurd' 'YOLO']\n",
      "\n",
      "\n",
      "Unique values for MARITAL STATUS: ['Single' 'Widow' 'Married' 'Together' 'Divorced' 'Absurd']\n"
     ]
    }
   ],
   "source": [
    "# 'MARITAL-STATUS' has extras in the Train\n",
    "print('Unique values for MARITAL STATUS:', train['Marital_Status'].unique())\n",
    "print('\\n')\n",
    "print('Unique values for MARITAL STATUS:', test['Marital_Status'].unique())"
   ]
  },
  {
   "cell_type": "code",
   "execution_count": 23,
   "metadata": {},
   "outputs": [
    {
     "data": {
      "text/plain": [
       "<AxesSubplot:>"
      ]
     },
     "execution_count": 23,
     "metadata": {},
     "output_type": "execute_result"
    },
    {
     "data": {
      "image/png": "[encoded data removed]",
      "text/plain": [
       "<Figure size 432x288 with 1 Axes>"
      ]
     },
     "metadata": {
      "needs_background": "light"
     },
     "output_type": "display_data"
    }
   ],
   "source": [
    "#the training set is imbalanced\n",
    "#the NEGATIVE response makes 80% of the target value, while the POSITIVE response makes up about 20%\n",
    "train['Response'].value_counts(normalize=True).plot(kind='bar')"
   ]
  },
  {
   "cell_type": "code",
   "execution_count": 24,
   "metadata": {},
   "outputs": [],
   "source": [
    "#cut YEAR_OF_BIRTH & DISPOSABLE_INCOME into bins\n",
    "birth_bins = [1880, 1900, 1920, 1940, 1960, 1980, 2000]\n",
    "birth_labels = [1, 2, 3, 4, 5, 6] #category 1-6\n",
    "\n",
    "income_bins = [2000, 10000, 20000, 35000, 50000, 80000, 100000, 120000, 150000, 200000]\n",
    "income_labels = [1, 2, 3, 4, 5, 6, 7, 8, 9] #categories 1-9\n",
    "\n",
    "train['Year_of_Birth'] = pd.cut(train['Year_of_Birth'], birth_bins, labels=birth_labels)\n",
    "train['Disposable_Income'] = pd.cut(train['Disposable_Income'], income_bins, labels=income_labels)\n",
    "\n",
    "test['Year_of_Birth'] = pd.cut(test['Year_of_Birth'], birth_bins, labels=birth_labels)\n",
    "test['Disposable_Income'] = pd.cut(test['Disposable_Income'], income_bins, labels=income_labels)"
   ]
  },
  {
   "cell_type": "code",
   "execution_count": 25,
   "metadata": {},
   "outputs": [],
   "source": [
    "test['Disposable_Income'].fillna(method='ffill', inplace=True)"
   ]
  },
  {
   "cell_type": "code",
   "execution_count": 26,
   "metadata": {},
   "outputs": [],
   "source": [
    "train['Year_of_Birth'] = train['Year_of_Birth'].astype(int)\n",
    "train['Disposable_Income'] = train['Disposable_Income'].astype(int)\n",
    "\n",
    "test['Year_of_Birth'] = test['Year_of_Birth'].astype(int)\n",
    "test['Disposable_Income'] = test['Disposable_Income'].astype(int)"
   ]
  },
  {
   "cell_type": "code",
   "execution_count": 27,
   "metadata": {},
   "outputs": [],
   "source": [
    "#drop the  ID and Date_Customer Columns\n",
    "target = train['Response']\n",
    "\n",
    "train.drop(['ID', 'Date_Customer', 'Response'], inplace=True, axis=1)\n",
    "test.drop(['ID', 'Date_Customer'], inplace=True, axis=1)"
   ]
  },
  {
   "cell_type": "code",
   "execution_count": 28,
   "metadata": {},
   "outputs": [],
   "source": [
    "#encode the 'education_ordinal' & 'Marital_Status' columns\n",
    "education_ordinal = OrdinalEncoder(handle_unknown='use_encoded_value', unknown_value=10).fit(train['Education_Level'].values.reshape(-1, 1))\n",
    "marital_ordinal = OrdinalEncoder(handle_unknown='use_encoded_value', unknown_value=10).fit(train['Marital_Status'].values.reshape(-1, 1))\n",
    "\n",
    "train['Education_Level'] = education_ordinal.transform(train['Education_Level'].values.reshape(-1, 1))\n",
    "train['Marital_Status'] = marital_ordinal.transform(train['Marital_Status'].values.reshape(-1, 1))\n",
    "\n",
    "test['Education_Level'] = education_ordinal.transform(test['Education_Level'].values.reshape(-1, 1))\n",
    "test['Marital_Status'] = marital_ordinal.transform(test['Marital_Status'].values.reshape(-1, 1))"
   ]
  },
  {
   "cell_type": "code",
   "execution_count": 29,
   "metadata": {},
   "outputs": [
    {
     "name": "stdout",
     "output_type": "stream",
     "text": [
      "Education Level codes: \n",
      "[array(['2n Cycle', 'Basic', 'Graduation', 'Master', 'PhD'], dtype=object)]\n",
      "\n",
      "\n",
      "Marital Status codes: \n",
      "[array(['Absurd', 'Alone', 'Divorced', 'Married', 'Single', 'Together',\n",
      "       'Widow', 'YOLO'], dtype=object)]\n"
     ]
    }
   ],
   "source": [
    "print('Education Level codes: \\n{}'.format(education_ordinal.categories_))\n",
    "print('\\n')\n",
    "print('Marital Status codes: \\n{}'.format(marital_ordinal.categories_))"
   ]
  },
  {
   "cell_type": "code",
   "execution_count": 30,
   "metadata": {},
   "outputs": [],
   "source": [
    "train['Disposable_Income'] = train['Disposable_Income'].astype(int)\n",
    "train['Education_Level'] = train['Education_Level'].astype(int)\n",
    "\n",
    "test['Disposable_Income'] = test['Disposable_Income'].astype(int)\n",
    "test['Education_Level'] = test['Education_Level'].astype(int)"
   ]
  },
  {
   "cell_type": "code",
   "execution_count": 31,
   "metadata": {},
   "outputs": [
    {
     "data": {
      "text/plain": [
       "0                     (10.68533612224501, Recency)\n",
       "1      (7.751605075283371, Amount_on_MeatProducts)\n",
       "2         (7.147924691239709, Amount_on_GoldProds)\n",
       "3            (7.0029801103393865, Amount_on_Wines)\n",
       "4            (4.973175568777314, CatalogPurchases)\n",
       "5                (4.845382371735883, Cmp5Accepted)\n",
       "6     (4.671014135455203, Amount_on_SweetProducts)\n",
       "7               (4.59695841200924, WebVisitsMonth)\n",
       "8      (4.577582716881128, Amount_on_FishProducts)\n",
       "9              (4.514874928704938, StorePurchases)\n",
       "10           (4.472918858617072, Amount_on_Fruits)\n",
       "11               (4.426069742064176, Cmp1Accepted)\n",
       "12               (3.968581488315728, Cmp3Accepted)\n",
       "13                     (3.7124904939520262, Month)\n",
       "14               (3.431176928855252, WebPurchases)\n",
       "15                       (3.351682197875731, Year)\n",
       "16            (2.8313049347019548, Marital_Status)\n",
       "17      (2.7608584198221493, Discounted_Purchases)\n",
       "18           (2.5712014127317326, Education_Level)\n",
       "19         (2.2152679964867614, Disposable_Income)\n",
       "20        (1.6011822266198148, No_of_Teen_in_home)\n",
       "21              (1.507267422691717, Year_of_Birth)\n",
       "22               (1.098453120241247, Cmp4Accepted)\n",
       "23        (0.7226437211956599, No_of_Kids_in_home)\n",
       "24              (0.5320291771389598, Cmp2Accepted)\n",
       "25             (0.03003772601883432, Any_Complain)\n",
       "dtype: object"
      ]
     },
     "execution_count": 31,
     "metadata": {},
     "output_type": "execute_result"
    }
   ],
   "source": [
    "rnd_clf = RandomForestClassifier(n_estimators=200, criterion='entropy').fit(train, target)\n",
    "feature_importances = rnd_clf.feature_importances_ *100\n",
    "col_names = train.columns\n",
    "\n",
    "#columns with values below 2.0 would be dropped as they would not contribute much to our model\n",
    "importance = sorted(zip(feature_importances, col_names), reverse=True)\n",
    "pd.Series(importance)"
   ]
  },
  {
   "cell_type": "code",
   "execution_count": 32,
   "metadata": {},
   "outputs": [
    {
     "data": {
      "text/plain": [
       "Index(['Recency', 'WebPurchases', 'CatalogPurchases', 'StorePurchases',\n",
       "       'Amount_on_Wines', 'Amount_on_Fruits', 'Amount_on_MeatProducts',\n",
       "       'Amount_on_FishProducts', 'Amount_on_SweetProducts',\n",
       "       'Amount_on_GoldProds', 'WebVisitsMonth', 'Cmp3Accepted', 'Cmp5Accepted',\n",
       "       'Cmp1Accepted', 'Month', 'Year'],\n",
       "      dtype='object')"
      ]
     },
     "execution_count": 32,
     "metadata": {},
     "output_type": "execute_result"
    }
   ],
   "source": [
    "#drop the values with '< 3.0'\n",
    "train.drop(['No_of_Teen_in_home', 'Disposable_Income', 'Cmp4Accepted', 'Year_of_Birth', 'No_of_Kids_in_home', 'Cmp2Accepted', 'Any_Complain', 'Discounted_Purchases', 'Marital_Status', 'Education_Level', 'Disposable_Income'], axis=1, inplace=True)\n",
    "test.drop(['No_of_Teen_in_home', 'Disposable_Income', 'Cmp4Accepted', 'Year_of_Birth', 'No_of_Kids_in_home', 'Cmp2Accepted', 'Any_Complain', 'Discounted_Purchases', 'Marital_Status', 'Education_Level', 'Disposable_Income'], axis=1, inplace=True)\n",
    "\n",
    "\n",
    "train.columns"
   ]
  },
  {
   "cell_type": "code",
   "execution_count": 33,
   "metadata": {},
   "outputs": [
    {
     "data": {
      "text/plain": [
       "((1568, 16), (672, 16))"
      ]
     },
     "execution_count": 33,
     "metadata": {},
     "output_type": "execute_result"
    }
   ],
   "source": [
    "train.shape, test.shape"
   ]
  },
  {
   "cell_type": "code",
   "execution_count": 34,
   "metadata": {},
   "outputs": [],
   "source": [
    "#split the dataset into Train & Testing\n",
    "X_train, X_test, y_train, y_test = train_test_split(train, target, test_size=0.2, stratify=target)"
   ]
  },
  {
   "cell_type": "code",
   "execution_count": 35,
   "metadata": {},
   "outputs": [],
   "source": [
    "# undersample the majority class\n",
    "rus = RandomUnderSampler(random_state=42)\n",
    "X_res, y_res = rus.fit_resample(train, target)"
   ]
  },
  {
   "cell_type": "code",
   "execution_count": 36,
   "metadata": {},
   "outputs": [],
   "source": [
    "#perform OVER-SAMPLING HERE\n",
    "smote = SMOTE(random_state=42)\n",
    "X_smote, y_smote = smote.fit_resample(train, target)"
   ]
  },
  {
   "cell_type": "code",
   "execution_count": 37,
   "metadata": {},
   "outputs": [
    {
     "data": {
      "text/plain": [
       "CategoricalDtype(categories=[0, 1], ordered=False)"
      ]
     },
     "execution_count": 37,
     "metadata": {},
     "output_type": "execute_result"
    }
   ],
   "source": [
    "target_cat = target.astype('category')\n",
    "target_cat.dtype"
   ]
  },
  {
   "cell_type": "code",
   "execution_count": 38,
   "metadata": {},
   "outputs": [],
   "source": [
    "ss = StandardScaler().fit(train)\n",
    "\n",
    "train_ss = ss.transform(train)\n",
    "test_ss = ss.transform(test)\n",
    "\n",
    "X_smote_ss = ss.transform(X_smote)\n",
    "X_res_ss = ss.transform(X_res)\n",
    "\n",
    "X_train_ss, X_val_ss, y_train_ss, y_val_ss = train_test_split(train_ss, target_cat, test_size=0.2, stratify=target_cat)"
   ]
  },
  {
   "cell_type": "code",
   "execution_count": 68,
   "metadata": {},
   "outputs": [
    {
     "data": {
      "text/plain": [
       "(1254, 16)"
      ]
     },
     "execution_count": 68,
     "metadata": {},
     "output_type": "execute_result"
    }
   ],
   "source": [
    "X_train_ss.shape"
   ]
  },
  {
   "cell_type": "code",
   "execution_count": 99,
   "metadata": {},
   "outputs": [],
   "source": [
    "model = Sequential()\n",
    "model.add(Flatten(input_shape=(16,)))\n",
    "# model.add(Dense(16, activation='LeakyReLU'))\n",
    "model.add(Dense(16, activation='LeakyReLU'))\n",
    "model.add(Dense(16, activation='LeakyReLU'))\n",
    "model.add(Dropout(0.8))\n",
    "model.add(Dense(8, activation='LeakyReLU'))\n",
    "model.add(Dense(1, activation='sigmoid'))\n",
    "\n",
    "model.compile(loss='binary_crossentropy', optimizer=optimizers.Adam(learning_rate=0.002), metrics=['accuracy'])\n",
    "# es = EarlyStopping(monitor='accuracy', patience=50)\n",
    "history = model.fit(x=X_train_ss, y=y_train_ss, epochs=700, verbose=0, batch_size=32)\n",
    "#try 16, 8, 1"
   ]
  },
  {
   "cell_type": "code",
   "execution_count": 100,
   "metadata": {},
   "outputs": [
    {
     "data": {
      "text/plain": [
       "[<matplotlib.lines.Line2D at 0x1d725446240>]"
      ]
     },
     "execution_count": 100,
     "metadata": {},
     "output_type": "execute_result"
    },
    {
     "data": {
      "image/png": "[encoded data removed]",
      "text/plain": [
       "<Figure size 432x288 with 1 Axes>"
      ]
     },
     "metadata": {
      "needs_background": "light"
     },
     "output_type": "display_data"
    }
   ],
   "source": [
    "plt.plot(history.history['accuracy'])"
   ]
  },
  {
   "cell_type": "code",
   "execution_count": null,
   "metadata": {},
   "outputs": [],
   "source": [
    "# def build_model(hp):\n",
    "#     model = Sequential()\n",
    "#     model.add(Flatten(input_shape=(16,)))\n",
    "#     model.add(Dense(16, activation='relu'))\n",
    "#     model.add(Dense(32, activation='relu'))\n",
    "#     model.add(Dense(1, activation='sigmoid'))\n",
    "#     hp_learning_rate = hp.Choice('learning_rate', values=[1e-2, 1e-3, 0.00001, 0.004])\n",
    "#     opt = optimizers.Adam(learning_rate=hp_learning_rate)\n",
    "#     model.compile(loss='binary_crossentropy', optimizer=opt, metrics=['accuracy'])\n",
    "#     return model\n",
    "    \n",
    "# tuner = RandomSearch(build_model, objective='accuracy', max_trials=4, executions_per_trial=1, directory='mydir')\n",
    "\n",
    "# tuner.search(x=train_ss, y=target_cat, epochs=500, verbose=0, batch_size=16)"
   ]
  },
  {
   "cell_type": "code",
   "execution_count": null,
   "metadata": {},
   "outputs": [],
   "source": [
    "# tuner.get_best_hyperparameters(1)[0].values"
   ]
  },
  {
   "cell_type": "code",
   "execution_count": 101,
   "metadata": {},
   "outputs": [
    {
     "data": {
      "text/plain": [
       "(array([0, 1]), array([591,  81], dtype=int64))"
      ]
     },
     "execution_count": 101,
     "metadata": {},
     "output_type": "execute_result"
    }
   ],
   "source": [
    "predictions = model.predict(test_ss)\n",
    "\n",
    "def pred(x):\n",
    "    col = []\n",
    "    for i in x:\n",
    "        # col.append(predictions[i].argmax())\n",
    "        if i > 0.5:\n",
    "            col.append(1)\n",
    "        else:\n",
    "            col.append(0)\n",
    "    return col\n",
    "\n",
    "x = pred(predictions)\n",
    "\n",
    "np.unique(x, return_counts=True)\n"
   ]
  },
  {
   "cell_type": "code",
   "execution_count": 102,
   "metadata": {},
   "outputs": [],
   "source": [
    "# #save the model\n",
    "sample = pd.read_csv('SampleSubmission.csv')\n",
    "\n",
    "sample['Response'] = x\n",
    "sample.to_csv('xxx.csv', index=False)"
   ]
  }
 ],
 "metadata": {
  "interpreter": {
   "hash": "2b7b5a710781a87842cfe8010c06442799678ef166246941c85da77d9a8410c1"
  },
  "kernelspec": {
   "display_name": "Python 3.7.1 64-bit",
   "name": "python3"
  },
  "language_info": {
   "codemirror_mode": {
    "name": "ipython",
    "version": 3
   },
   "file_extension": ".py",
   "mimetype": "text/x-python",
   "name": "python",
   "nbconvert_exporter": "python",
   "pygments_lexer": "ipython3",
   "version": "3.7.1"
  },
  "orig_nbformat": 4
 },
 "nbformat": 4,
 "nbformat_minor": 2
}
