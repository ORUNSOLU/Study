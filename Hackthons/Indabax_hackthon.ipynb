{
  "nbformat": 4,
  "nbformat_minor": 0,
  "metadata": {
    "accelerator": "GPU",
    "colab": {
      "name": "Indabax_hackthon.ipynb",
      "provenance": [],
      "collapsed_sections": []
    },
    "interpreter": {
      "hash": "f23faf4bfe871c203c8bec80520af5927fc7cb1ae3bd834ddf554ee587ad1c05"
    },
    "kernelspec": {
      "display_name": "Python 3.8.7 64-bit",
      "name": "python3"
    },
    "language_info": {
      "codemirror_mode": {
        "name": "ipython",
        "version": 3
      },
      "file_extension": ".py",
      "mimetype": "text/x-python",
      "name": "python",
      "nbconvert_exporter": "python",
      "pygments_lexer": "ipython3",
      "version": "3.8.7"
    }
  },
  "cells": [
    {
      "cell_type": "markdown",
      "metadata": {
        "id": "HCz-5CFfLAlH"
      },
      "source": [
        "ZINDI Auto-Insurance challenge by INDABAX GHANA"
      ]
    },
    {
      "cell_type": "code",
      "metadata": {
        "colab": {
          "base_uri": "https://localhost:8080/"
        },
        "id": "GqZi8nIVOv5n",
        "outputId": "891e35b8-66ba-464e-9298-82bbe905e97f"
      },
      "source": [
        "from google.colab import drive\n",
        "drive.mount('/content/drive')"
      ],
      "execution_count": 2,
      "outputs": [
        {
          "output_type": "stream",
          "text": [
            "Mounted at /content/drive\n"
          ],
          "name": "stdout"
        }
      ]
    },
    {
      "cell_type": "markdown",
      "metadata": {
        "id": "tRp_PqGBLAlO"
      },
      "source": [
        "Importing Libraries"
      ]
    },
    {
      "cell_type": "code",
      "metadata": {
        "id": "PXypU4R6LAlQ"
      },
      "source": [
        "import pandas as pd \n",
        "from sklearn.model_selection import GridSearchCV\n",
        "from sklearn.ensemble import RandomForestClassifier\n",
        "from sklearn.linear_model import SGDClassifier\n",
        "from sklearn.svm import SVC\n",
        "from sklearn.preprocessing import OrdinalEncoder, OneHotEncoder\n",
        "import seaborn as sns \n",
        "from sklearn.neighbors import KNeighborsClassifier\n",
        "from sklearn.compose import make_column_transformer\n",
        "from sklearn.pipeline import make_pipeline\n",
        "from sklearn.tree import DecisionTreeClassifier\n",
        "import matplotlib.pyplot as plt"
      ],
      "execution_count": 3,
      "outputs": []
    },
    {
      "cell_type": "markdown",
      "metadata": {
        "id": "4qLi-hu0LAlT"
      },
      "source": [
        "Load the Data"
      ]
    },
    {
      "cell_type": "code",
      "metadata": {
        "id": "vssWkDClLAlU"
      },
      "source": [
        "train = pd.read_csv('/content/drive/My Drive/ZINDI Hackthon/Train.csv')\n",
        "test = pd.read_csv('/content/drive/My Drive/ZINDI Hackthon/Test.csv')"
      ],
      "execution_count": 4,
      "outputs": []
    },
    {
      "cell_type": "code",
      "metadata": {
        "id": "wvWW9XbALAlV"
      },
      "source": [
        "y_train = train['target'].values"
      ],
      "execution_count": 5,
      "outputs": []
    },
    {
      "cell_type": "code",
      "metadata": {
        "colab": {
          "base_uri": "https://localhost:8080/",
          "height": 211
        },
        "id": "GNgI02yQLAlX",
        "outputId": "264216ca-8f35-4650-c9dd-22c9c6020abc"
      },
      "source": [
        "#the 'AGE' column has some anormal values\n",
        "train.describe().style.background_gradient(cmap='RdPu')"
      ],
      "execution_count": null,
      "outputs": [
        {
          "output_type": "execute_result",
          "data": {
            "text/html": [
              "<style  type=\"text/css\" >\n",
              "#T_f787e396_e4bb_11eb_93dc_0242ac1c0002row0_col0,#T_f787e396_e4bb_11eb_93dc_0242ac1c0002row0_col1,#T_f787e396_e4bb_11eb_93dc_0242ac1c0002row0_col2{\n",
              "            background-color:  #49006a;\n",
              "            color:  #f1f1f1;\n",
              "        }#T_f787e396_e4bb_11eb_93dc_0242ac1c0002row1_col0,#T_f787e396_e4bb_11eb_93dc_0242ac1c0002row4_col0,#T_f787e396_e4bb_11eb_93dc_0242ac1c0002row5_col0,#T_f787e396_e4bb_11eb_93dc_0242ac1c0002row6_col0{\n",
              "            background-color:  #fbaab8;\n",
              "            color:  #000000;\n",
              "        }#T_f787e396_e4bb_11eb_93dc_0242ac1c0002row1_col1,#T_f787e396_e4bb_11eb_93dc_0242ac1c0002row1_col2,#T_f787e396_e4bb_11eb_93dc_0242ac1c0002row2_col1,#T_f787e396_e4bb_11eb_93dc_0242ac1c0002row2_col2,#T_f787e396_e4bb_11eb_93dc_0242ac1c0002row3_col0,#T_f787e396_e4bb_11eb_93dc_0242ac1c0002row3_col1,#T_f787e396_e4bb_11eb_93dc_0242ac1c0002row3_col2,#T_f787e396_e4bb_11eb_93dc_0242ac1c0002row4_col1,#T_f787e396_e4bb_11eb_93dc_0242ac1c0002row4_col2,#T_f787e396_e4bb_11eb_93dc_0242ac1c0002row5_col1,#T_f787e396_e4bb_11eb_93dc_0242ac1c0002row5_col2,#T_f787e396_e4bb_11eb_93dc_0242ac1c0002row6_col1,#T_f787e396_e4bb_11eb_93dc_0242ac1c0002row6_col2,#T_f787e396_e4bb_11eb_93dc_0242ac1c0002row7_col1,#T_f787e396_e4bb_11eb_93dc_0242ac1c0002row7_col2{\n",
              "            background-color:  #fff7f3;\n",
              "            color:  #000000;\n",
              "        }#T_f787e396_e4bb_11eb_93dc_0242ac1c0002row2_col0{\n",
              "            background-color:  #fba9b8;\n",
              "            color:  #000000;\n",
              "        }#T_f787e396_e4bb_11eb_93dc_0242ac1c0002row7_col0{\n",
              "            background-color:  #faa6b7;\n",
              "            color:  #000000;\n",
              "        }</style><table id=\"T_f787e396_e4bb_11eb_93dc_0242ac1c0002\" ><thead>    <tr>        <th class=\"blank level0\" ></th>        <th class=\"col_heading level0 col0\" >Age</th>        <th class=\"col_heading level0 col1\" >No_Pol</th>        <th class=\"col_heading level0 col2\" >target</th>    </tr></thead><tbody>\n",
              "                <tr>\n",
              "                        <th id=\"T_f787e396_e4bb_11eb_93dc_0242ac1c0002level0_row0\" class=\"row_heading level0 row0\" >count</th>\n",
              "                        <td id=\"T_f787e396_e4bb_11eb_93dc_0242ac1c0002row0_col0\" class=\"data row0 col0\" >12079.000000</td>\n",
              "                        <td id=\"T_f787e396_e4bb_11eb_93dc_0242ac1c0002row0_col1\" class=\"data row0 col1\" >12079.000000</td>\n",
              "                        <td id=\"T_f787e396_e4bb_11eb_93dc_0242ac1c0002row0_col2\" class=\"data row0 col2\" >12079.000000</td>\n",
              "            </tr>\n",
              "            <tr>\n",
              "                        <th id=\"T_f787e396_e4bb_11eb_93dc_0242ac1c0002level0_row1\" class=\"row_heading level0 row1\" >mean</th>\n",
              "                        <td id=\"T_f787e396_e4bb_11eb_93dc_0242ac1c0002row1_col0\" class=\"data row1 col0\" >42.234539</td>\n",
              "                        <td id=\"T_f787e396_e4bb_11eb_93dc_0242ac1c0002row1_col1\" class=\"data row1 col1\" >1.307227</td>\n",
              "                        <td id=\"T_f787e396_e4bb_11eb_93dc_0242ac1c0002row1_col2\" class=\"data row1 col2\" >0.120457</td>\n",
              "            </tr>\n",
              "            <tr>\n",
              "                        <th id=\"T_f787e396_e4bb_11eb_93dc_0242ac1c0002level0_row2\" class=\"row_heading level0 row2\" >std</th>\n",
              "                        <td id=\"T_f787e396_e4bb_11eb_93dc_0242ac1c0002row2_col0\" class=\"data row2 col0\" >97.492565</td>\n",
              "                        <td id=\"T_f787e396_e4bb_11eb_93dc_0242ac1c0002row2_col1\" class=\"data row2 col1\" >0.733085</td>\n",
              "                        <td id=\"T_f787e396_e4bb_11eb_93dc_0242ac1c0002row2_col2\" class=\"data row2 col2\" >0.325509</td>\n",
              "            </tr>\n",
              "            <tr>\n",
              "                        <th id=\"T_f787e396_e4bb_11eb_93dc_0242ac1c0002level0_row3\" class=\"row_heading level0 row3\" >min</th>\n",
              "                        <td id=\"T_f787e396_e4bb_11eb_93dc_0242ac1c0002row3_col0\" class=\"data row3 col0\" >-6099.000000</td>\n",
              "                        <td id=\"T_f787e396_e4bb_11eb_93dc_0242ac1c0002row3_col1\" class=\"data row3 col1\" >1.000000</td>\n",
              "                        <td id=\"T_f787e396_e4bb_11eb_93dc_0242ac1c0002row3_col2\" class=\"data row3 col2\" >0.000000</td>\n",
              "            </tr>\n",
              "            <tr>\n",
              "                        <th id=\"T_f787e396_e4bb_11eb_93dc_0242ac1c0002level0_row4\" class=\"row_heading level0 row4\" >25%</th>\n",
              "                        <td id=\"T_f787e396_e4bb_11eb_93dc_0242ac1c0002row4_col0\" class=\"data row4 col0\" >35.000000</td>\n",
              "                        <td id=\"T_f787e396_e4bb_11eb_93dc_0242ac1c0002row4_col1\" class=\"data row4 col1\" >1.000000</td>\n",
              "                        <td id=\"T_f787e396_e4bb_11eb_93dc_0242ac1c0002row4_col2\" class=\"data row4 col2\" >0.000000</td>\n",
              "            </tr>\n",
              "            <tr>\n",
              "                        <th id=\"T_f787e396_e4bb_11eb_93dc_0242ac1c0002level0_row5\" class=\"row_heading level0 row5\" >50%</th>\n",
              "                        <td id=\"T_f787e396_e4bb_11eb_93dc_0242ac1c0002row5_col0\" class=\"data row5 col0\" >41.000000</td>\n",
              "                        <td id=\"T_f787e396_e4bb_11eb_93dc_0242ac1c0002row5_col1\" class=\"data row5 col1\" >1.000000</td>\n",
              "                        <td id=\"T_f787e396_e4bb_11eb_93dc_0242ac1c0002row5_col2\" class=\"data row5 col2\" >0.000000</td>\n",
              "            </tr>\n",
              "            <tr>\n",
              "                        <th id=\"T_f787e396_e4bb_11eb_93dc_0242ac1c0002level0_row6\" class=\"row_heading level0 row6\" >75%</th>\n",
              "                        <td id=\"T_f787e396_e4bb_11eb_93dc_0242ac1c0002row6_col0\" class=\"data row6 col0\" >50.000000</td>\n",
              "                        <td id=\"T_f787e396_e4bb_11eb_93dc_0242ac1c0002row6_col1\" class=\"data row6 col1\" >1.000000</td>\n",
              "                        <td id=\"T_f787e396_e4bb_11eb_93dc_0242ac1c0002row6_col2\" class=\"data row6 col2\" >0.000000</td>\n",
              "            </tr>\n",
              "            <tr>\n",
              "                        <th id=\"T_f787e396_e4bb_11eb_93dc_0242ac1c0002level0_row7\" class=\"row_heading level0 row7\" >max</th>\n",
              "                        <td id=\"T_f787e396_e4bb_11eb_93dc_0242ac1c0002row7_col0\" class=\"data row7 col0\" >320.000000</td>\n",
              "                        <td id=\"T_f787e396_e4bb_11eb_93dc_0242ac1c0002row7_col1\" class=\"data row7 col1\" >10.000000</td>\n",
              "                        <td id=\"T_f787e396_e4bb_11eb_93dc_0242ac1c0002row7_col2\" class=\"data row7 col2\" >1.000000</td>\n",
              "            </tr>\n",
              "    </tbody></table>"
            ],
            "text/plain": [
              "<pandas.io.formats.style.Styler at 0x7f294f3d5fd0>"
            ]
          },
          "metadata": {
            "tags": []
          },
          "execution_count": 7
        }
      ]
    },
    {
      "cell_type": "code",
      "metadata": {
        "colab": {
          "base_uri": "https://localhost:8080/",
          "height": 224
        },
        "id": "HowRPsjZLAla",
        "outputId": "ee367c91-a8f3-4599-c94d-b8e0e35b82a7"
      },
      "source": [
        "train.head()"
      ],
      "execution_count": null,
      "outputs": [
        {
          "output_type": "execute_result",
          "data": {
            "text/html": [
              "<div>\n",
              "<style scoped>\n",
              "    .dataframe tbody tr th:only-of-type {\n",
              "        vertical-align: middle;\n",
              "    }\n",
              "\n",
              "    .dataframe tbody tr th {\n",
              "        vertical-align: top;\n",
              "    }\n",
              "\n",
              "    .dataframe thead th {\n",
              "        text-align: right;\n",
              "    }\n",
              "</style>\n",
              "<table border=\"1\" class=\"dataframe\">\n",
              "  <thead>\n",
              "    <tr style=\"text-align: right;\">\n",
              "      <th></th>\n",
              "      <th>ID</th>\n",
              "      <th>Policy Start Date</th>\n",
              "      <th>Policy End Date</th>\n",
              "      <th>Gender</th>\n",
              "      <th>Age</th>\n",
              "      <th>First Transaction Date</th>\n",
              "      <th>No_Pol</th>\n",
              "      <th>Car_Category</th>\n",
              "      <th>Subject_Car_Colour</th>\n",
              "      <th>Subject_Car_Make</th>\n",
              "      <th>LGA_Name</th>\n",
              "      <th>State</th>\n",
              "      <th>ProductName</th>\n",
              "      <th>target</th>\n",
              "    </tr>\n",
              "  </thead>\n",
              "  <tbody>\n",
              "    <tr>\n",
              "      <th>0</th>\n",
              "      <td>ID_0040R73</td>\n",
              "      <td>14-05-10</td>\n",
              "      <td>13-05-11</td>\n",
              "      <td>Male</td>\n",
              "      <td>30</td>\n",
              "      <td>14-05-10</td>\n",
              "      <td>1</td>\n",
              "      <td>Saloon</td>\n",
              "      <td>Black</td>\n",
              "      <td>TOYOTA</td>\n",
              "      <td>NaN</td>\n",
              "      <td>NaN</td>\n",
              "      <td>Car Classic</td>\n",
              "      <td>0</td>\n",
              "    </tr>\n",
              "    <tr>\n",
              "      <th>1</th>\n",
              "      <td>ID_0046BNK</td>\n",
              "      <td>29-11-10</td>\n",
              "      <td>28-11-11</td>\n",
              "      <td>Female</td>\n",
              "      <td>79</td>\n",
              "      <td>29-11-10</td>\n",
              "      <td>1</td>\n",
              "      <td>JEEP</td>\n",
              "      <td>Grey</td>\n",
              "      <td>TOYOTA</td>\n",
              "      <td>NaN</td>\n",
              "      <td>NaN</td>\n",
              "      <td>Car Classic</td>\n",
              "      <td>1</td>\n",
              "    </tr>\n",
              "    <tr>\n",
              "      <th>2</th>\n",
              "      <td>ID_005QMC3</td>\n",
              "      <td>21-03-10</td>\n",
              "      <td>20-03-11</td>\n",
              "      <td>Male</td>\n",
              "      <td>43</td>\n",
              "      <td>21-03-10</td>\n",
              "      <td>1</td>\n",
              "      <td>Saloon</td>\n",
              "      <td>Red</td>\n",
              "      <td>TOYOTA</td>\n",
              "      <td>NaN</td>\n",
              "      <td>NaN</td>\n",
              "      <td>Car Classic</td>\n",
              "      <td>0</td>\n",
              "    </tr>\n",
              "    <tr>\n",
              "      <th>3</th>\n",
              "      <td>ID_0079OHW</td>\n",
              "      <td>21-08-10</td>\n",
              "      <td>20-08-11</td>\n",
              "      <td>Male</td>\n",
              "      <td>2</td>\n",
              "      <td>21-08-10</td>\n",
              "      <td>1</td>\n",
              "      <td>NaN</td>\n",
              "      <td>NaN</td>\n",
              "      <td>NaN</td>\n",
              "      <td>NaN</td>\n",
              "      <td>NaN</td>\n",
              "      <td>CarSafe</td>\n",
              "      <td>0</td>\n",
              "    </tr>\n",
              "    <tr>\n",
              "      <th>4</th>\n",
              "      <td>ID_00BRP63</td>\n",
              "      <td>29-08-10</td>\n",
              "      <td>31-12-10</td>\n",
              "      <td>Entity</td>\n",
              "      <td>20</td>\n",
              "      <td>29-08-10</td>\n",
              "      <td>3</td>\n",
              "      <td>NaN</td>\n",
              "      <td>NaN</td>\n",
              "      <td>NaN</td>\n",
              "      <td>Lagos</td>\n",
              "      <td>Lagos</td>\n",
              "      <td>Muuve</td>\n",
              "      <td>1</td>\n",
              "    </tr>\n",
              "  </tbody>\n",
              "</table>\n",
              "</div>"
            ],
            "text/plain": [
              "           ID Policy Start Date Policy End Date  ...  State  ProductName target\n",
              "0  ID_0040R73          14-05-10        13-05-11  ...    NaN  Car Classic      0\n",
              "1  ID_0046BNK          29-11-10        28-11-11  ...    NaN  Car Classic      1\n",
              "2  ID_005QMC3          21-03-10        20-03-11  ...    NaN  Car Classic      0\n",
              "3  ID_0079OHW          21-08-10        20-08-11  ...    NaN      CarSafe      0\n",
              "4  ID_00BRP63          29-08-10        31-12-10  ...  Lagos        Muuve      1\n",
              "\n",
              "[5 rows x 14 columns]"
            ]
          },
          "metadata": {
            "tags": []
          },
          "execution_count": 53
        }
      ]
    },
    {
      "cell_type": "code",
      "metadata": {
        "colab": {
          "base_uri": "https://localhost:8080/",
          "height": 241
        },
        "id": "q2TkqD3VLAlc",
        "outputId": "2c84e8c6-358a-4035-b9aa-8577a5cd4c2d"
      },
      "source": [
        "test.head()"
      ],
      "execution_count": null,
      "outputs": [
        {
          "output_type": "execute_result",
          "data": {
            "text/html": [
              "<div>\n",
              "<style scoped>\n",
              "    .dataframe tbody tr th:only-of-type {\n",
              "        vertical-align: middle;\n",
              "    }\n",
              "\n",
              "    .dataframe tbody tr th {\n",
              "        vertical-align: top;\n",
              "    }\n",
              "\n",
              "    .dataframe thead th {\n",
              "        text-align: right;\n",
              "    }\n",
              "</style>\n",
              "<table border=\"1\" class=\"dataframe\">\n",
              "  <thead>\n",
              "    <tr style=\"text-align: right;\">\n",
              "      <th></th>\n",
              "      <th>ID</th>\n",
              "      <th>Policy Start Date</th>\n",
              "      <th>Policy End Date</th>\n",
              "      <th>Gender</th>\n",
              "      <th>Age</th>\n",
              "      <th>First Transaction Date</th>\n",
              "      <th>No_Pol</th>\n",
              "      <th>Car_Category</th>\n",
              "      <th>Subject_Car_Colour</th>\n",
              "      <th>Subject_Car_Make</th>\n",
              "      <th>LGA_Name</th>\n",
              "      <th>State</th>\n",
              "      <th>ProductName</th>\n",
              "    </tr>\n",
              "  </thead>\n",
              "  <tbody>\n",
              "    <tr>\n",
              "      <th>0</th>\n",
              "      <td>ID_01QM0NU</td>\n",
              "      <td>23-10-10</td>\n",
              "      <td>22-10-11</td>\n",
              "      <td>Female</td>\n",
              "      <td>46</td>\n",
              "      <td>23-10-10</td>\n",
              "      <td>1</td>\n",
              "      <td>NaN</td>\n",
              "      <td>NaN</td>\n",
              "      <td>Ford</td>\n",
              "      <td>Abuja Municipal</td>\n",
              "      <td>Abuja-Municipal</td>\n",
              "      <td>Car Classic</td>\n",
              "    </tr>\n",
              "    <tr>\n",
              "      <th>1</th>\n",
              "      <td>ID_024NJLZ</td>\n",
              "      <td>14-10-10</td>\n",
              "      <td>13-10-11</td>\n",
              "      <td>Male</td>\n",
              "      <td>32</td>\n",
              "      <td>14-10-10</td>\n",
              "      <td>1</td>\n",
              "      <td>NaN</td>\n",
              "      <td>NaN</td>\n",
              "      <td>NaN</td>\n",
              "      <td>Kosofe</td>\n",
              "      <td>Benue</td>\n",
              "      <td>Car Classic</td>\n",
              "    </tr>\n",
              "    <tr>\n",
              "      <th>2</th>\n",
              "      <td>ID_02NOVWQ</td>\n",
              "      <td>29-08-10</td>\n",
              "      <td>28-08-11</td>\n",
              "      <td>Female</td>\n",
              "      <td>45</td>\n",
              "      <td>29-08-10</td>\n",
              "      <td>2</td>\n",
              "      <td>Saloon</td>\n",
              "      <td>Black</td>\n",
              "      <td>Honda</td>\n",
              "      <td>Wuse 11</td>\n",
              "      <td>Abuja</td>\n",
              "      <td>Car Classic</td>\n",
              "    </tr>\n",
              "    <tr>\n",
              "      <th>3</th>\n",
              "      <td>ID_02VSP68</td>\n",
              "      <td>13-06-10</td>\n",
              "      <td>12-06-11</td>\n",
              "      <td>Female</td>\n",
              "      <td>58</td>\n",
              "      <td>13-06-10</td>\n",
              "      <td>1</td>\n",
              "      <td>Saloon</td>\n",
              "      <td>NaN</td>\n",
              "      <td>TOYOTA</td>\n",
              "      <td>NaN</td>\n",
              "      <td>NaN</td>\n",
              "      <td>CarSafe</td>\n",
              "    </tr>\n",
              "    <tr>\n",
              "      <th>4</th>\n",
              "      <td>ID_02YB37K</td>\n",
              "      <td>01-07-10</td>\n",
              "      <td>30-06-11</td>\n",
              "      <td>NaN</td>\n",
              "      <td>120</td>\n",
              "      <td>01-07-10</td>\n",
              "      <td>1</td>\n",
              "      <td>Saloon</td>\n",
              "      <td>Red</td>\n",
              "      <td>Hyundai</td>\n",
              "      <td>Victoria Island</td>\n",
              "      <td>Lagos</td>\n",
              "      <td>Car Classic</td>\n",
              "    </tr>\n",
              "  </tbody>\n",
              "</table>\n",
              "</div>"
            ],
            "text/plain": [
              "           ID Policy Start Date  ...            State  ProductName\n",
              "0  ID_01QM0NU          23-10-10  ...  Abuja-Municipal  Car Classic\n",
              "1  ID_024NJLZ          14-10-10  ...            Benue  Car Classic\n",
              "2  ID_02NOVWQ          29-08-10  ...            Abuja  Car Classic\n",
              "3  ID_02VSP68          13-06-10  ...              NaN      CarSafe\n",
              "4  ID_02YB37K          01-07-10  ...            Lagos  Car Classic\n",
              "\n",
              "[5 rows x 13 columns]"
            ]
          },
          "metadata": {
            "tags": []
          },
          "execution_count": 54
        }
      ]
    },
    {
      "cell_type": "markdown",
      "metadata": {
        "id": "WfrZ2fTXLAld"
      },
      "source": [
        "Check for Null values"
      ]
    },
    {
      "cell_type": "code",
      "metadata": {
        "colab": {
          "base_uri": "https://localhost:8080/"
        },
        "id": "mPRLvH02LAle",
        "outputId": "9126c911-7016-4a90-ab86-58accb703f0a"
      },
      "source": [
        "#drop 'ID' since its not useful for analysis or machine learning\n",
        "#'First transaction Date' and 'Policy start Date' are both the same\n",
        "#Intuitively, the 'subject car color', 'car category' columns should be dropped as they do not give much information\n",
        "train.isna().sum()"
      ],
      "execution_count": null,
      "outputs": [
        {
          "output_type": "execute_result",
          "data": {
            "text/plain": [
              "ID                           0\n",
              "Policy Start Date            0\n",
              "Policy End Date              0\n",
              "Gender                     359\n",
              "Age                          0\n",
              "First Transaction Date       0\n",
              "No_Pol                       0\n",
              "Car_Category              3738\n",
              "Subject_Car_Colour        6962\n",
              "Subject_Car_Make          2476\n",
              "LGA_Name                  6476\n",
              "State                     6488\n",
              "ProductName                  0\n",
              "target                       0\n",
              "dtype: int64"
            ]
          },
          "metadata": {
            "tags": []
          },
          "execution_count": 8
        }
      ]
    },
    {
      "cell_type": "code",
      "metadata": {
        "colab": {
          "base_uri": "https://localhost:8080/",
          "height": 446
        },
        "id": "gPCjMvPjLAlg",
        "outputId": "e03ccb64-f22b-4c9a-dcfd-2b6a26f83c55"
      },
      "source": [
        "# Check if there any missing values in train set\n",
        "ax = train.isna().sum().sort_values().plot(kind = 'barh', figsize = (10, 7))\n",
        "plt.title('Percentage of Missing Values Per Column in Train Set', fontdict={'size':15})\n",
        "for p in ax.patches:\n",
        "    percentage ='{:,.0f}%'.format((p.get_width()/train.shape[0])*100)\n",
        "    width, height = p.get_width(),p.get_height()\n",
        "    x=p.get_x()+width+0.02\n",
        "    y=p.get_y()+height/2\n",
        "    ax.annotate(percentage,(x,y))"
      ],
      "execution_count": null,
      "outputs": [
        {
          "output_type": "display_data",
          "data": {
            "image/png": "[encoded data removed]",
            "text/plain": [
              "<Figure size 720x504 with 1 Axes>"
            ]
          },
          "metadata": {
            "tags": []
          }
        }
      ]
    },
    {
      "cell_type": "code",
      "metadata": {
        "colab": {
          "base_uri": "https://localhost:8080/",
          "height": 446
        },
        "id": "tqR1tiQ8LAlh",
        "outputId": "d87396c4-f60f-419a-f999-a8b96cf731e6"
      },
      "source": [
        "# Check if there missing values in test set\n",
        "ax = test.isna().sum().sort_values().plot(kind = 'barh', figsize = (10, 7))\n",
        "plt.title('Percentage of Missing Values Per Column in Test Set', fontdict={'size':15})\n",
        "\n",
        "for p in ax.patches:\n",
        "    percentage ='{:,.1f}%'.format((p.get_width()/test.shape[0])*100)\n",
        "    width, height =p.get_width(),p.get_height()\n",
        "    x=p.get_x()+width+0.02\n",
        "    y=p.get_y()+height/2\n",
        "    ax.annotate(percentage,(x,y))"
      ],
      "execution_count": null,
      "outputs": [
        {
          "output_type": "display_data",
          "data": {
            "image/png": "[encoded data removed]",
            "text/plain": [
              "<Figure size 720x504 with 1 Axes>"
            ]
          },
          "metadata": {
            "tags": []
          }
        }
      ]
    },
    {
      "cell_type": "markdown",
      "metadata": {
        "id": "GX2b8snOLAli"
      },
      "source": [
        "SOME BASIC EDA"
      ]
    },
    {
      "cell_type": "code",
      "metadata": {
        "colab": {
          "base_uri": "https://localhost:8080/",
          "height": 354
        },
        "id": "ciqufbrvLAlj",
        "outputId": "5650ecf9-fe06-4f04-9324-821e278db534"
      },
      "source": [
        "#target variable\n",
        "#the plot is imbalanced\n",
        "sns.countplot(train.target)"
      ],
      "execution_count": null,
      "outputs": [
        {
          "output_type": "stream",
          "text": [
            "/usr/local/lib/python3.7/dist-packages/seaborn/_decorators.py:43: FutureWarning: Pass the following variable as a keyword arg: x. From version 0.12, the only valid positional argument will be `data`, and passing other arguments without an explicit keyword will result in an error or misinterpretation.\n",
            "  FutureWarning\n"
          ],
          "name": "stderr"
        },
        {
          "output_type": "execute_result",
          "data": {
            "text/plain": [
              "<matplotlib.axes._subplots.AxesSubplot at 0x7f83eb5910d0>"
            ]
          },
          "metadata": {
            "tags": []
          },
          "execution_count": 58
        },
        {
          "output_type": "display_data",
          "data": {
            "image/png": "[encoded data removed]",
            "text/plain": [
              "<Figure size 432x288 with 1 Axes>"
            ]
          },
          "metadata": {
            "tags": []
          }
        }
      ]
    },
    {
      "cell_type": "code",
      "metadata": {
        "colab": {
          "base_uri": "https://localhost:8080/",
          "height": 270
        },
        "id": "v5Jljhf_LAlj",
        "outputId": "e4cd44f3-a380-4a92-f8d2-cc51c2e3c94d"
      },
      "source": [
        "#the AGE column has lots of inaccurate values, this would be corrected shortly\n",
        "sns.boxplot(y='Age', data=train, palette='Accent')"
      ],
      "execution_count": null,
      "outputs": [
        {
          "output_type": "execute_result",
          "data": {
            "text/plain": [
              "<matplotlib.axes._subplots.AxesSubplot at 0x7f83eb510150>"
            ]
          },
          "metadata": {
            "tags": []
          },
          "execution_count": 59
        },
        {
          "output_type": "display_data",
          "data": {
            "image/png": "[encoded data removed]",
            "text/plain": [
              "<Figure size 432x288 with 1 Axes>"
            ]
          },
          "metadata": {
            "tags": []
          }
        }
      ]
    },
    {
      "cell_type": "code",
      "metadata": {
        "colab": {
          "base_uri": "https://localhost:8080/",
          "height": 354
        },
        "id": "ImFEkhEWLAll",
        "outputId": "5cb5aacb-5919-4106-ef69-f218dfbfc776"
      },
      "source": [
        "#Gender column\n",
        "#the Gender column also has some issues which we would need to correct\n",
        "plt.figure(figsize=(8,4))\n",
        "sns.countplot(train.Gender)"
      ],
      "execution_count": null,
      "outputs": [
        {
          "output_type": "stream",
          "text": [
            "/usr/local/lib/python3.7/dist-packages/seaborn/_decorators.py:43: FutureWarning: Pass the following variable as a keyword arg: x. From version 0.12, the only valid positional argument will be `data`, and passing other arguments without an explicit keyword will result in an error or misinterpretation.\n",
            "  FutureWarning\n"
          ],
          "name": "stderr"
        },
        {
          "output_type": "execute_result",
          "data": {
            "text/plain": [
              "<matplotlib.axes._subplots.AxesSubplot at 0x7f83eb4fc450>"
            ]
          },
          "metadata": {
            "tags": []
          },
          "execution_count": 60
        },
        {
          "output_type": "display_data",
          "data": {
            "image/png": "[encoded data removed]",
            "text/plain": [
              "<Figure size 576x288 with 1 Axes>"
            ]
          },
          "metadata": {
            "tags": []
          }
        }
      ]
    },
    {
      "cell_type": "code",
      "metadata": {
        "colab": {
          "base_uri": "https://localhost:8080/",
          "height": 337
        },
        "id": "UIGxfZiQLAlm",
        "outputId": "7de19d30-86e0-49cb-bbbb-6f2fe5a1ff0f"
      },
      "source": [
        "#Car make column is also imbalanced\n",
        "train['Subject_Car_Make'].value_counts()[:25].plot(kind='bar')"
      ],
      "execution_count": null,
      "outputs": [
        {
          "output_type": "execute_result",
          "data": {
            "text/plain": [
              "<matplotlib.axes._subplots.AxesSubplot at 0x7f83eb407710>"
            ]
          },
          "metadata": {
            "tags": []
          },
          "execution_count": 61
        },
        {
          "output_type": "display_data",
          "data": {
            "image/png": "[encoded data removed]",
            "text/plain": [
              "<Figure size 432x288 with 1 Axes>"
            ]
          },
          "metadata": {
            "tags": []
          }
        }
      ]
    },
    {
      "cell_type": "code",
      "metadata": {
        "colab": {
          "base_uri": "https://localhost:8080/",
          "height": 339
        },
        "id": "a0tFqZ-oLAlm",
        "outputId": "fbe92d80-a7f9-42f2-b2f2-3beda2c489fd"
      },
      "source": [
        "#this is also imbalanced\n",
        "train['Subject_Car_Colour'].value_counts()[:25].plot(kind='bar')"
      ],
      "execution_count": null,
      "outputs": [
        {
          "output_type": "execute_result",
          "data": {
            "text/plain": [
              "<matplotlib.axes._subplots.AxesSubplot at 0x7f83eb361d90>"
            ]
          },
          "metadata": {
            "tags": []
          },
          "execution_count": 62
        },
        {
          "output_type": "display_data",
          "data": {
            "image/png": "[encoded data removed]",
            "text/plain": [
              "<Figure size 432x288 with 1 Axes>"
            ]
          },
          "metadata": {
            "tags": []
          }
        }
      ]
    },
    {
      "cell_type": "code",
      "metadata": {
        "colab": {
          "base_uri": "https://localhost:8080/",
          "height": 353
        },
        "id": "RvFS7tQjLAlm",
        "outputId": "eab6ca84-bda7-4dc3-b84e-4ffb4c832764"
      },
      "source": [
        "train['LGA_Name'].value_counts()[:25].plot(kind='bar')"
      ],
      "execution_count": null,
      "outputs": [
        {
          "output_type": "execute_result",
          "data": {
            "text/plain": [
              "<matplotlib.axes._subplots.AxesSubplot at 0x7f83eb252e90>"
            ]
          },
          "metadata": {
            "tags": []
          },
          "execution_count": 63
        },
        {
          "output_type": "display_data",
          "data": {
            "image/png": "[encoded data removed]",
            "text/plain": [
              "<Figure size 432x288 with 1 Axes>"
            ]
          },
          "metadata": {
            "tags": []
          }
        }
      ]
    },
    {
      "cell_type": "code",
      "metadata": {
        "colab": {
          "base_uri": "https://localhost:8080/",
          "height": 387
        },
        "id": "KlfrRWEWLAln",
        "outputId": "dac10bb0-69b5-42e8-944b-03b5728e7e22"
      },
      "source": [
        "#showing the number of policies for each gender and target value\n",
        "plt.figure(figsize=(20,30))\n",
        "ax = sns.catplot(x=\"Gender\", y=\"No_Pol\",col=\"target\", data=train, kind=\"bar\")\n",
        "ax.set_xticklabels(fontsize=7)\n",
        "plt.tight_layout()\n",
        "plt.show()"
      ],
      "execution_count": null,
      "outputs": [
        {
          "output_type": "display_data",
          "data": {
            "text/plain": [
              "<Figure size 1440x2160 with 0 Axes>"
            ]
          },
          "metadata": {
            "tags": []
          }
        },
        {
          "output_type": "display_data",
          "data": {
            "image/png": "[encoded data removed]",
            "text/plain": [
              "<Figure size 720x360 with 2 Axes>"
            ]
          },
          "metadata": {
            "tags": []
          }
        }
      ]
    },
    {
      "cell_type": "code",
      "metadata": {
        "colab": {
          "base_uri": "https://localhost:8080/"
        },
        "id": "A997TWvcLAln",
        "outputId": "303b2101-f9ce-4327-a5cb-2bf1268bbf18"
      },
      "source": [
        "#let's drop some columns we won't be needing\n",
        "y_train = train.target\n",
        "train.drop(columns=['ID', 'First Transaction Date'], inplace=True)\n",
        "\n",
        "#drop the columns in the test set so that we can have equal columns on both tables\n",
        "test_ID = test['ID']\n",
        "test.drop(columns=['ID', 'First Transaction Date'], inplace=True)\n",
        "len(train.columns), len(test.columns)"
      ],
      "execution_count": 6,
      "outputs": [
        {
          "output_type": "execute_result",
          "data": {
            "text/plain": [
              "(12, 11)"
            ]
          },
          "metadata": {
            "tags": []
          },
          "execution_count": 6
        }
      ]
    },
    {
      "cell_type": "code",
      "metadata": {
        "colab": {
          "base_uri": "https://localhost:8080/"
        },
        "id": "hF1xeTMvLAlo",
        "outputId": "5826da3c-ca0a-4aff-aeec-710252a28562"
      },
      "source": [
        "#length of the TRAIN & TEST set\n",
        "train.shape[0], test.shape[0]"
      ],
      "execution_count": null,
      "outputs": [
        {
          "output_type": "execute_result",
          "data": {
            "text/plain": [
              "(12079, 1202)"
            ]
          },
          "metadata": {
            "tags": []
          },
          "execution_count": 9
        }
      ]
    },
    {
      "cell_type": "markdown",
      "metadata": {
        "id": "R-hH_3vaLAlp"
      },
      "source": [
        "Combine the Train & Test set for easy pre-processing"
      ]
    },
    {
      "cell_type": "code",
      "metadata": {
        "colab": {
          "base_uri": "https://localhost:8080/"
        },
        "id": "aVrfSixRLAlp",
        "outputId": "3a7abf3e-fa84-4b7d-dff8-aef9040abd2c"
      },
      "source": [
        "#let's join the train & test files so we can preprocess them jointly\n",
        "#also get the no. of rows for the Train set so we can seperate them later on\n",
        "train_shape = train.shape[0]\n",
        "all_data = pd.concat([train, test], ignore_index=True)\n",
        "print(f'The shape of the combined dataframe is: {all_data.shape}')"
      ],
      "execution_count": 7,
      "outputs": [
        {
          "output_type": "stream",
          "text": [
            "The shape of the combined dataframe is: (13281, 12)\n"
          ],
          "name": "stdout"
        }
      ]
    },
    {
      "cell_type": "code",
      "metadata": {
        "colab": {
          "base_uri": "https://localhost:8080/",
          "height": 206
        },
        "id": "owhWQECULAlq",
        "outputId": "17adf288-6c87-4b28-87d3-c95be4e168b2"
      },
      "source": [
        "all_data.head()"
      ],
      "execution_count": null,
      "outputs": [
        {
          "output_type": "execute_result",
          "data": {
            "text/html": [
              "<div>\n",
              "<style scoped>\n",
              "    .dataframe tbody tr th:only-of-type {\n",
              "        vertical-align: middle;\n",
              "    }\n",
              "\n",
              "    .dataframe tbody tr th {\n",
              "        vertical-align: top;\n",
              "    }\n",
              "\n",
              "    .dataframe thead th {\n",
              "        text-align: right;\n",
              "    }\n",
              "</style>\n",
              "<table border=\"1\" class=\"dataframe\">\n",
              "  <thead>\n",
              "    <tr style=\"text-align: right;\">\n",
              "      <th></th>\n",
              "      <th>Policy Start Date</th>\n",
              "      <th>Policy End Date</th>\n",
              "      <th>Gender</th>\n",
              "      <th>Age</th>\n",
              "      <th>No_Pol</th>\n",
              "      <th>Car_Category</th>\n",
              "      <th>Subject_Car_Colour</th>\n",
              "      <th>Subject_Car_Make</th>\n",
              "      <th>LGA_Name</th>\n",
              "      <th>State</th>\n",
              "      <th>ProductName</th>\n",
              "      <th>target</th>\n",
              "    </tr>\n",
              "  </thead>\n",
              "  <tbody>\n",
              "    <tr>\n",
              "      <th>0</th>\n",
              "      <td>14-05-10</td>\n",
              "      <td>13-05-11</td>\n",
              "      <td>Male</td>\n",
              "      <td>30</td>\n",
              "      <td>1</td>\n",
              "      <td>Saloon</td>\n",
              "      <td>Black</td>\n",
              "      <td>TOYOTA</td>\n",
              "      <td>NaN</td>\n",
              "      <td>NaN</td>\n",
              "      <td>Car Classic</td>\n",
              "      <td>0.0</td>\n",
              "    </tr>\n",
              "    <tr>\n",
              "      <th>1</th>\n",
              "      <td>29-11-10</td>\n",
              "      <td>28-11-11</td>\n",
              "      <td>Female</td>\n",
              "      <td>79</td>\n",
              "      <td>1</td>\n",
              "      <td>JEEP</td>\n",
              "      <td>Grey</td>\n",
              "      <td>TOYOTA</td>\n",
              "      <td>NaN</td>\n",
              "      <td>NaN</td>\n",
              "      <td>Car Classic</td>\n",
              "      <td>1.0</td>\n",
              "    </tr>\n",
              "    <tr>\n",
              "      <th>2</th>\n",
              "      <td>21-03-10</td>\n",
              "      <td>20-03-11</td>\n",
              "      <td>Male</td>\n",
              "      <td>43</td>\n",
              "      <td>1</td>\n",
              "      <td>Saloon</td>\n",
              "      <td>Red</td>\n",
              "      <td>TOYOTA</td>\n",
              "      <td>NaN</td>\n",
              "      <td>NaN</td>\n",
              "      <td>Car Classic</td>\n",
              "      <td>0.0</td>\n",
              "    </tr>\n",
              "    <tr>\n",
              "      <th>3</th>\n",
              "      <td>21-08-10</td>\n",
              "      <td>20-08-11</td>\n",
              "      <td>Male</td>\n",
              "      <td>2</td>\n",
              "      <td>1</td>\n",
              "      <td>NaN</td>\n",
              "      <td>NaN</td>\n",
              "      <td>NaN</td>\n",
              "      <td>NaN</td>\n",
              "      <td>NaN</td>\n",
              "      <td>CarSafe</td>\n",
              "      <td>0.0</td>\n",
              "    </tr>\n",
              "    <tr>\n",
              "      <th>4</th>\n",
              "      <td>29-08-10</td>\n",
              "      <td>31-12-10</td>\n",
              "      <td>Entity</td>\n",
              "      <td>20</td>\n",
              "      <td>3</td>\n",
              "      <td>NaN</td>\n",
              "      <td>NaN</td>\n",
              "      <td>NaN</td>\n",
              "      <td>Lagos</td>\n",
              "      <td>Lagos</td>\n",
              "      <td>Muuve</td>\n",
              "      <td>1.0</td>\n",
              "    </tr>\n",
              "  </tbody>\n",
              "</table>\n",
              "</div>"
            ],
            "text/plain": [
              "  Policy Start Date Policy End Date  Gender  ...  State  ProductName target\n",
              "0          14-05-10        13-05-11    Male  ...    NaN  Car Classic    0.0\n",
              "1          29-11-10        28-11-11  Female  ...    NaN  Car Classic    1.0\n",
              "2          21-03-10        20-03-11    Male  ...    NaN  Car Classic    0.0\n",
              "3          21-08-10        20-08-11    Male  ...    NaN      CarSafe    0.0\n",
              "4          29-08-10        31-12-10  Entity  ...  Lagos        Muuve    1.0\n",
              "\n",
              "[5 rows x 12 columns]"
            ]
          },
          "metadata": {
            "tags": []
          },
          "execution_count": 68
        }
      ]
    },
    {
      "cell_type": "code",
      "metadata": {
        "colab": {
          "base_uri": "https://localhost:8080/"
        },
        "id": "RF2HzcVuLAlq",
        "outputId": "1019d97a-aae6-48b7-f7f2-677eab97ab2e"
      },
      "source": [
        "all_data.info()"
      ],
      "execution_count": null,
      "outputs": [
        {
          "output_type": "stream",
          "text": [
            "<class 'pandas.core.frame.DataFrame'>\n",
            "RangeIndex: 13281 entries, 0 to 13280\n",
            "Data columns (total 12 columns):\n",
            " #   Column              Non-Null Count  Dtype  \n",
            "---  ------              --------------  -----  \n",
            " 0   Policy Start Date   13281 non-null  object \n",
            " 1   Policy End Date     13281 non-null  object \n",
            " 2   Gender              12881 non-null  object \n",
            " 3   Age                 13281 non-null  int64  \n",
            " 4   No_Pol              13281 non-null  int64  \n",
            " 5   Car_Category        9171 non-null   object \n",
            " 6   Subject_Car_Colour  5622 non-null   object \n",
            " 7   Subject_Car_Make    10557 non-null  object \n",
            " 8   LGA_Name            6149 non-null   object \n",
            " 9   State               6137 non-null   object \n",
            " 10  ProductName         13281 non-null  object \n",
            " 11  target              12079 non-null  float64\n",
            "dtypes: float64(1), int64(2), object(9)\n",
            "memory usage: 1.2+ MB\n"
          ],
          "name": "stdout"
        }
      ]
    },
    {
      "cell_type": "code",
      "metadata": {
        "colab": {
          "base_uri": "https://localhost:8080/"
        },
        "id": "x5xPeQe5LAlr",
        "outputId": "b52fe501-a9f2-4cfb-f3cc-6b77a96e3236"
      },
      "source": [
        "# Change each column to its appriopriate datatype\n",
        "date_cols = [col for col in all_data.columns if 'Date' in col]\n",
        "num_cols = ['Age', 'No_Pol', 'target']\n",
        "cat_cols = [col for col in all_data.columns if col not in date_cols+num_cols]\n",
        "\n",
        "for col in all_data.columns:\n",
        "  if col in date_cols:\n",
        "    all_data[col] = pd.to_datetime(all_data[col])\n",
        "  elif col in cat_cols:\n",
        "    all_data[col] = all_data[col].astype('category')\n",
        "\n",
        "# Confirm whether the changes have been applied successfully\n",
        "all_data.info()"
      ],
      "execution_count": 8,
      "outputs": [
        {
          "output_type": "stream",
          "text": [
            "<class 'pandas.core.frame.DataFrame'>\n",
            "RangeIndex: 13281 entries, 0 to 13280\n",
            "Data columns (total 12 columns):\n",
            " #   Column              Non-Null Count  Dtype         \n",
            "---  ------              --------------  -----         \n",
            " 0   Policy Start Date   13281 non-null  datetime64[ns]\n",
            " 1   Policy End Date     13281 non-null  datetime64[ns]\n",
            " 2   Gender              12881 non-null  category      \n",
            " 3   Age                 13281 non-null  int64         \n",
            " 4   No_Pol              13281 non-null  int64         \n",
            " 5   Car_Category        9171 non-null   category      \n",
            " 6   Subject_Car_Colour  5622 non-null   category      \n",
            " 7   Subject_Car_Make    10557 non-null  category      \n",
            " 8   LGA_Name            6149 non-null   category      \n",
            " 9   State               6137 non-null   category      \n",
            " 10  ProductName         13281 non-null  category      \n",
            " 11  target              12079 non-null  float64       \n",
            "dtypes: category(7), datetime64[ns](2), float64(1), int64(2)\n",
            "memory usage: 646.9 KB\n"
          ],
          "name": "stdout"
        }
      ]
    },
    {
      "cell_type": "code",
      "metadata": {
        "colab": {
          "base_uri": "https://localhost:8080/"
        },
        "id": "mRNvd2eeLAls",
        "outputId": "3500b051-392c-4df4-ee34-6cc5268e9efa"
      },
      "source": [
        "#modify the Gender column\n",
        "mapper = {'Entity':'Other', 'Joint Gender':'Other', 'NOT STATED':'Other', 'NO GENDER': 'Other', 'SEX':'Other', 'NaN': 'Other'}\n",
        "all_data.Gender = all_data.Gender.replace(mapper)\n",
        "\n",
        "# Confirm mappings\n",
        "all_data.Gender.value_counts()"
      ],
      "execution_count": 9,
      "outputs": [
        {
          "output_type": "execute_result",
          "data": {
            "text/plain": [
              "Male      8356\n",
              "Female    3679\n",
              "Other      846\n",
              "Name: Gender, dtype: int64"
            ]
          },
          "metadata": {
            "tags": []
          },
          "execution_count": 9
        }
      ]
    },
    {
      "cell_type": "code",
      "metadata": {
        "colab": {
          "base_uri": "https://localhost:8080/"
        },
        "id": "6t_U101YLAlt",
        "outputId": "25783b10-09ad-43ef-b512-ad8df00e35be"
      },
      "source": [
        "#there are 60 values with 1s as target that have NaN Gender, \n",
        "# we have to find a way to retain them as the target is imbalanced\n",
        "all_data[(all_data['Gender'].isna()) & (all_data['target'] == 1.0)].shape"
      ],
      "execution_count": 10,
      "outputs": [
        {
          "output_type": "execute_result",
          "data": {
            "text/plain": [
              "(60, 12)"
            ]
          },
          "metadata": {
            "tags": []
          },
          "execution_count": 10
        }
      ]
    },
    {
      "cell_type": "code",
      "metadata": {
        "id": "PhmU6_D5LAlt"
      },
      "source": [
        "all_data['Gender'].fillna('Other', inplace=True)"
      ],
      "execution_count": 11,
      "outputs": []
    },
    {
      "cell_type": "markdown",
      "metadata": {
        "id": "qbu6MbOLLAlu"
      },
      "source": [
        "Number of Unique values per categorical column"
      ]
    },
    {
      "cell_type": "code",
      "metadata": {
        "colab": {
          "base_uri": "https://localhost:8080/"
        },
        "id": "IVv6dZAGLAlu",
        "outputId": "ce624595-2a43-411f-c238-43aae54f3e32"
      },
      "source": [
        "# Check unique values for each categorical column\n",
        "for col in cat_cols:\n",
        "  print(col)\n",
        "  print(all_data[col].unique(), '\\n')"
      ],
      "execution_count": null,
      "outputs": [
        {
          "output_type": "stream",
          "text": [
            "Gender\n",
            "['Male' 'Female' 'Other'] \n",
            "\n",
            "Car_Category\n",
            "['Saloon', 'JEEP', NaN, 'Motorcycle', 'Truck', ..., 'Wagon', 'Shape Of Vehicle Chasis', 'Sedan', 'Station 4 Wheel', 'Tipper Truck']\n",
            "Length: 17\n",
            "Categories (16, object): ['Saloon', 'JEEP', 'Motorcycle', 'Truck', ..., 'Shape Of Vehicle Chasis',\n",
            "                          'Sedan', 'Station 4 Wheel', 'Tipper Truck'] \n",
            "\n",
            "Subject_Car_Colour\n",
            "['Black', 'Grey', 'Red', NaN, 'As Attached', ..., 'Yellow & White', 'Beige Mitalic', 'Light Gray', 'Blue Sky', 'Red Maroon']\n",
            "Length: 47\n",
            "Categories (46, object): ['Black', 'Grey', 'Red', 'As Attached', ..., 'Beige Mitalic',\n",
            "                          'Light Gray', 'Blue Sky', 'Red Maroon'] \n",
            "\n",
            "Subject_Car_Make\n",
            "['TOYOTA', NaN, 'REXTON', 'Lexus', 'Hyundai', ..., 'BRILLIANCE', 'Buik', 'COMMANDER', 'Bajaj', 'Datsun']\n",
            "Length: 76\n",
            "Categories (75, object): ['TOYOTA', 'REXTON', 'Lexus', 'Hyundai', ..., 'Buik', 'COMMANDER', 'Bajaj',\n",
            "                          'Datsun'] \n",
            "\n",
            "LGA_Name\n",
            "[NaN, 'Lagos', 'Ikeja', 'Badagry', 'Eti-Osa', ..., 'Hong', 'Ifako-Agege', 'Benue', 'Okpokwu', 'Ngor-Okpala']\n",
            "Length: 271\n",
            "Categories (270, object): ['Lagos', 'Ikeja', 'Badagry', 'Eti-Osa', ..., 'Ifako-Agege', 'Benue',\n",
            "                           'Okpokwu', 'Ngor-Okpala'] \n",
            "\n",
            "State\n",
            "[NaN, 'Lagos', 'Benue', 'Eti-Osa', 'Delta', ..., 'ENUGU-SOUTH', 'Ijebu-North', 'Asari-Toru', 'Idemili-south', 'Ngor-Okpala']\n",
            "Length: 114\n",
            "Categories (113, object): ['Lagos', 'Benue', 'Eti-Osa', 'Delta', ..., 'Ijebu-North', 'Asari-Toru',\n",
            "                           'Idemili-south', 'Ngor-Okpala'] \n",
            "\n",
            "ProductName\n",
            "['Car Classic', 'CarSafe', 'Muuve', 'CVTP', 'Car Plus', 'Motor Cycle', 'Customized Motor', 'CarFlex', 'Car Vintage']\n",
            "Categories (9, object): ['Car Classic', 'CarSafe', 'Muuve', 'CVTP', ..., 'Motor Cycle',\n",
            "                         'Customized Motor', 'CarFlex', 'Car Vintage'] \n",
            "\n"
          ],
          "name": "stdout"
        }
      ]
    },
    {
      "cell_type": "markdown",
      "metadata": {
        "id": "aib11YlXLAlv"
      },
      "source": [
        "Fill in the missing values"
      ]
    },
    {
      "cell_type": "code",
      "metadata": {
        "colab": {
          "base_uri": "https://localhost:8080/"
        },
        "id": "BhPWZrafLAlv",
        "outputId": "ca9db842-275d-467b-9fd6-337780655421"
      },
      "source": [
        "# Fill in missing values\n",
        "# For cat cols and date cols, fill in with mode, and for num cols fill in with 50\n",
        "for col in all_data.columns:\n",
        "  if col in date_cols+cat_cols:\n",
        "    all_data[col] = all_data[col].fillna(all_data[col].mode()[0])\n",
        "  elif col in num_cols:\n",
        "    all_data[col] = all_data[col].fillna(all_data[col].mean())\n",
        "\n",
        "# Confirm that there aren't any missing values\n",
        "all_data.isna().sum()"
      ],
      "execution_count": 12,
      "outputs": [
        {
          "output_type": "execute_result",
          "data": {
            "text/plain": [
              "Policy Start Date     0\n",
              "Policy End Date       0\n",
              "Gender                0\n",
              "Age                   0\n",
              "No_Pol                0\n",
              "Car_Category          0\n",
              "Subject_Car_Colour    0\n",
              "Subject_Car_Make      0\n",
              "LGA_Name              0\n",
              "State                 0\n",
              "ProductName           0\n",
              "target                0\n",
              "dtype: int64"
            ]
          },
          "metadata": {
            "tags": []
          },
          "execution_count": 12
        }
      ]
    },
    {
      "cell_type": "markdown",
      "metadata": {
        "id": "8Y6lESeqLAlw"
      },
      "source": [
        "Feature Engineering"
      ]
    },
    {
      "cell_type": "code",
      "metadata": {
        "colab": {
          "base_uri": "https://localhost:8080/",
          "height": 331
        },
        "id": "Ivcsvf9NLAlw",
        "outputId": "13e61560-6bab-4b72-eec2-cd02aea8b3fa"
      },
      "source": [
        "# Extract date features from the date columns\n",
        "for col in ['Policy Start Date', 'Policy End Date']:\n",
        "  for date_feature in ['year', 'month', 'day']:\n",
        "    all_data[col+date_feature] = getattr(all_data[col].dt, date_feature)\n",
        "\n",
        "all_data.head()"
      ],
      "execution_count": 13,
      "outputs": [
        {
          "output_type": "execute_result",
          "data": {
            "text/html": [
              "<div>\n",
              "<style scoped>\n",
              "    .dataframe tbody tr th:only-of-type {\n",
              "        vertical-align: middle;\n",
              "    }\n",
              "\n",
              "    .dataframe tbody tr th {\n",
              "        vertical-align: top;\n",
              "    }\n",
              "\n",
              "    .dataframe thead th {\n",
              "        text-align: right;\n",
              "    }\n",
              "</style>\n",
              "<table border=\"1\" class=\"dataframe\">\n",
              "  <thead>\n",
              "    <tr style=\"text-align: right;\">\n",
              "      <th></th>\n",
              "      <th>Policy Start Date</th>\n",
              "      <th>Policy End Date</th>\n",
              "      <th>Gender</th>\n",
              "      <th>Age</th>\n",
              "      <th>No_Pol</th>\n",
              "      <th>Car_Category</th>\n",
              "      <th>Subject_Car_Colour</th>\n",
              "      <th>Subject_Car_Make</th>\n",
              "      <th>LGA_Name</th>\n",
              "      <th>State</th>\n",
              "      <th>ProductName</th>\n",
              "      <th>target</th>\n",
              "      <th>Policy Start Dateyear</th>\n",
              "      <th>Policy Start Datemonth</th>\n",
              "      <th>Policy Start Dateday</th>\n",
              "      <th>Policy End Dateyear</th>\n",
              "      <th>Policy End Datemonth</th>\n",
              "      <th>Policy End Dateday</th>\n",
              "    </tr>\n",
              "  </thead>\n",
              "  <tbody>\n",
              "    <tr>\n",
              "      <th>0</th>\n",
              "      <td>2010-05-14</td>\n",
              "      <td>2011-05-13</td>\n",
              "      <td>Male</td>\n",
              "      <td>30</td>\n",
              "      <td>1</td>\n",
              "      <td>Saloon</td>\n",
              "      <td>Black</td>\n",
              "      <td>TOYOTA</td>\n",
              "      <td>Victoria Island</td>\n",
              "      <td>Lagos</td>\n",
              "      <td>Car Classic</td>\n",
              "      <td>0.0</td>\n",
              "      <td>2010</td>\n",
              "      <td>5</td>\n",
              "      <td>14</td>\n",
              "      <td>2011</td>\n",
              "      <td>5</td>\n",
              "      <td>13</td>\n",
              "    </tr>\n",
              "    <tr>\n",
              "      <th>1</th>\n",
              "      <td>2010-11-29</td>\n",
              "      <td>2011-11-28</td>\n",
              "      <td>Female</td>\n",
              "      <td>79</td>\n",
              "      <td>1</td>\n",
              "      <td>JEEP</td>\n",
              "      <td>Grey</td>\n",
              "      <td>TOYOTA</td>\n",
              "      <td>Victoria Island</td>\n",
              "      <td>Lagos</td>\n",
              "      <td>Car Classic</td>\n",
              "      <td>1.0</td>\n",
              "      <td>2010</td>\n",
              "      <td>11</td>\n",
              "      <td>29</td>\n",
              "      <td>2011</td>\n",
              "      <td>11</td>\n",
              "      <td>28</td>\n",
              "    </tr>\n",
              "    <tr>\n",
              "      <th>2</th>\n",
              "      <td>2010-03-21</td>\n",
              "      <td>2011-03-20</td>\n",
              "      <td>Male</td>\n",
              "      <td>43</td>\n",
              "      <td>1</td>\n",
              "      <td>Saloon</td>\n",
              "      <td>Red</td>\n",
              "      <td>TOYOTA</td>\n",
              "      <td>Victoria Island</td>\n",
              "      <td>Lagos</td>\n",
              "      <td>Car Classic</td>\n",
              "      <td>0.0</td>\n",
              "      <td>2010</td>\n",
              "      <td>3</td>\n",
              "      <td>21</td>\n",
              "      <td>2011</td>\n",
              "      <td>3</td>\n",
              "      <td>20</td>\n",
              "    </tr>\n",
              "    <tr>\n",
              "      <th>3</th>\n",
              "      <td>2010-08-21</td>\n",
              "      <td>2011-08-20</td>\n",
              "      <td>Male</td>\n",
              "      <td>2</td>\n",
              "      <td>1</td>\n",
              "      <td>Saloon</td>\n",
              "      <td>Black</td>\n",
              "      <td>TOYOTA</td>\n",
              "      <td>Victoria Island</td>\n",
              "      <td>Lagos</td>\n",
              "      <td>CarSafe</td>\n",
              "      <td>0.0</td>\n",
              "      <td>2010</td>\n",
              "      <td>8</td>\n",
              "      <td>21</td>\n",
              "      <td>2011</td>\n",
              "      <td>8</td>\n",
              "      <td>20</td>\n",
              "    </tr>\n",
              "    <tr>\n",
              "      <th>4</th>\n",
              "      <td>2010-08-29</td>\n",
              "      <td>2010-12-31</td>\n",
              "      <td>Other</td>\n",
              "      <td>20</td>\n",
              "      <td>3</td>\n",
              "      <td>Saloon</td>\n",
              "      <td>Black</td>\n",
              "      <td>TOYOTA</td>\n",
              "      <td>Lagos</td>\n",
              "      <td>Lagos</td>\n",
              "      <td>Muuve</td>\n",
              "      <td>1.0</td>\n",
              "      <td>2010</td>\n",
              "      <td>8</td>\n",
              "      <td>29</td>\n",
              "      <td>2010</td>\n",
              "      <td>12</td>\n",
              "      <td>31</td>\n",
              "    </tr>\n",
              "  </tbody>\n",
              "</table>\n",
              "</div>"
            ],
            "text/plain": [
              "  Policy Start Date Policy End Date  ... Policy End Datemonth  Policy End Dateday\n",
              "0        2010-05-14      2011-05-13  ...                    5                  13\n",
              "1        2010-11-29      2011-11-28  ...                   11                  28\n",
              "2        2010-03-21      2011-03-20  ...                    3                  20\n",
              "3        2010-08-21      2011-08-20  ...                    8                  20\n",
              "4        2010-08-29      2010-12-31  ...                   12                  31\n",
              "\n",
              "[5 rows x 18 columns]"
            ]
          },
          "metadata": {
            "tags": []
          },
          "execution_count": 13
        }
      ]
    },
    {
      "cell_type": "code",
      "metadata": {
        "id": "D0LxZ5hKLAlx"
      },
      "source": [
        "#we can drop the 'policy Start & End dates as we would not be needing them anylonger\n",
        "all_data.drop(columns=['Policy Start Date', 'Policy End Date'], inplace=True)"
      ],
      "execution_count": 14,
      "outputs": []
    },
    {
      "cell_type": "code",
      "metadata": {
        "colab": {
          "base_uri": "https://localhost:8080/"
        },
        "id": "BqmYmZWALAlx",
        "outputId": "91261493-0a02-4145-c1aa-c519398019e5"
      },
      "source": [
        "#the 'Age' column has some anormal values like -51, 1, 140, -6099, -76\n",
        "all_data.Age.unique()"
      ],
      "execution_count": null,
      "outputs": [
        {
          "output_type": "execute_result",
          "data": {
            "text/plain": [
              "array([   30,    79,    43,     2,    20,    37,    40,    71,    58,\n",
              "          45,    51,   120,    38,    81,    69,    31,    70,    34,\n",
              "           1,    41,    47,    36,    46,    48,    39,    63,    42,\n",
              "          27,    64,    50,    53,    33,    23,    32,    59,    60,\n",
              "          52,    54,    44,    11,    78,    28,    29,    57,    12,\n",
              "          65,    35,    73,    56,    55,    26,    49,    18,    14,\n",
              "          62,    25,    61,    72,    82,    67,     7,    10,    68,\n",
              "          21,    76,    24,    66,     3,    93,    22,    77,    19,\n",
              "          80,     9,     6,   -76,    -2,    89,    74,    75,    84,\n",
              "          16,    90,   140,     8,     5,    13,    86,    15,   320,\n",
              "         -12,    83,    85, -6099, -5939,     4,   -22,   144,   112,\n",
              "          17,     0,    88,   -27,    87,   133,   102,   -51,   128,\n",
              "         -26,   100])"
            ]
          },
          "metadata": {
            "tags": []
          },
          "execution_count": 18
        }
      ]
    },
    {
      "cell_type": "code",
      "metadata": {
        "colab": {
          "base_uri": "https://localhost:8080/"
        },
        "id": "GvJVcqIlLAly",
        "outputId": "cf34b91c-38e9-423a-caa1-8bbad0066af6"
      },
      "source": [
        "#correct the anormaly in the AGE column\n",
        "#we use RANDOM to avoid the AGE being centered around a particular value\n",
        "#you should set a SEED value so that you get the same value everytime\n",
        "from random import randint\n",
        "import random\n",
        "\n",
        "random.seed(1)\n",
        "\n",
        "def age(x):\n",
        "    if x < 18:\n",
        "        return randint(18, 49)\n",
        "    elif x > 89:\n",
        "        return randint(50, 89)\n",
        "    else:\n",
        "        return x\n",
        "\n",
        "all_data['Age'] = all_data.Age.apply(age)\n",
        "all_data.Age.unique()"
      ],
      "execution_count": 15,
      "outputs": [
        {
          "output_type": "execute_result",
          "data": {
            "text/plain": [
              "array([30, 79, 43, 26, 20, 37, 40, 71, 58, 45, 51, 86, 38, 81, 69, 31, 70,\n",
              "       34, 22, 41, 47, 36, 46, 48, 57, 39, 63, 42, 27, 64, 50, 53, 33, 23,\n",
              "       32, 59, 60, 52, 54, 78, 44, 28, 56, 29, 19, 65, 35, 74, 73, 77, 55,\n",
              "       49, 18, 67, 62, 25, 61, 72, 82, 87, 84, 68, 21, 76, 24, 85, 66, 75,\n",
              "       80, 89, 83, 88])"
            ]
          },
          "metadata": {
            "tags": []
          },
          "execution_count": 15
        }
      ]
    },
    {
      "cell_type": "code",
      "metadata": {
        "colab": {
          "base_uri": "https://localhost:8080/",
          "height": 354
        },
        "id": "JmMAyTM1LAlz",
        "outputId": "56e1ca79-7e39-4974-f470-e7c791b4a82f"
      },
      "source": [
        "# #view age distribution\n",
        "sns.distplot(all_data['Age'], hist=True, kde=True)"
      ],
      "execution_count": 16,
      "outputs": [
        {
          "output_type": "stream",
          "text": [
            "/usr/local/lib/python3.7/dist-packages/seaborn/distributions.py:2557: FutureWarning: `distplot` is a deprecated function and will be removed in a future version. Please adapt your code to use either `displot` (a figure-level function with similar flexibility) or `histplot` (an axes-level function for histograms).\n",
            "  warnings.warn(msg, FutureWarning)\n"
          ],
          "name": "stderr"
        },
        {
          "output_type": "execute_result",
          "data": {
            "text/plain": [
              "<matplotlib.axes._subplots.AxesSubplot at 0x7fd55277d250>"
            ]
          },
          "metadata": {
            "tags": []
          },
          "execution_count": 16
        },
        {
          "output_type": "display_data",
          "data": {
            "image/png": "[encoded data removed]",
            "text/plain": [
              "<Figure size 432x288 with 1 Axes>"
            ]
          },
          "metadata": {
            "tags": [],
            "needs_background": "light"
          }
        }
      ]
    },
    {
      "cell_type": "code",
      "metadata": {
        "colab": {
          "base_uri": "https://localhost:8080/"
        },
        "id": "ENvGByAULAlz",
        "outputId": "dd40cb00-b0f3-45ba-97c3-5a6e79da4f49"
      },
      "source": [
        "#cut the ages into different BINS\n",
        "bins = [17, 25, 40, 60, 90]\n",
        "group_names = ['Youth', 'YoungAdult', 'MiddleAged', 'Senior']\n",
        "\n",
        "all_data['Age'] = pd.cut(all_data.Age, bins, labels=group_names)\n",
        "all_data['Age'].unique()"
      ],
      "execution_count": 17,
      "outputs": [
        {
          "output_type": "execute_result",
          "data": {
            "text/plain": [
              "['YoungAdult', 'Senior', 'MiddleAged', 'Youth']\n",
              "Categories (4, object): ['Youth' < 'YoungAdult' < 'MiddleAged' < 'Senior']"
            ]
          },
          "metadata": {
            "tags": []
          },
          "execution_count": 17
        }
      ]
    },
    {
      "cell_type": "code",
      "metadata": {
        "colab": {
          "base_uri": "https://localhost:8080/"
        },
        "id": "PMTG5CKALAlz",
        "outputId": "2a8a338f-7781-45af-96cd-3bf058d01dca"
      },
      "source": [
        "#do not drop any NaN, restart\n",
        "all_data.dropna(inplace=True)\n",
        "all_data.info()"
      ],
      "execution_count": 18,
      "outputs": [
        {
          "output_type": "stream",
          "text": [
            "<class 'pandas.core.frame.DataFrame'>\n",
            "Int64Index: 13281 entries, 0 to 13280\n",
            "Data columns (total 16 columns):\n",
            " #   Column                  Non-Null Count  Dtype   \n",
            "---  ------                  --------------  -----   \n",
            " 0   Gender                  13281 non-null  object  \n",
            " 1   Age                     13281 non-null  category\n",
            " 2   No_Pol                  13281 non-null  int64   \n",
            " 3   Car_Category            13281 non-null  category\n",
            " 4   Subject_Car_Colour      13281 non-null  category\n",
            " 5   Subject_Car_Make        13281 non-null  category\n",
            " 6   LGA_Name                13281 non-null  category\n",
            " 7   State                   13281 non-null  category\n",
            " 8   ProductName             13281 non-null  category\n",
            " 9   target                  13281 non-null  float64 \n",
            " 10  Policy Start Dateyear   13281 non-null  int64   \n",
            " 11  Policy Start Datemonth  13281 non-null  int64   \n",
            " 12  Policy Start Dateday    13281 non-null  int64   \n",
            " 13  Policy End Dateyear     13281 non-null  int64   \n",
            " 14  Policy End Datemonth    13281 non-null  int64   \n",
            " 15  Policy End Dateday      13281 non-null  int64   \n",
            "dtypes: category(7), float64(1), int64(7), object(1)\n",
            "memory usage: 1.1+ MB\n"
          ],
          "name": "stdout"
        }
      ]
    },
    {
      "cell_type": "markdown",
      "metadata": {
        "id": "46dKjtjhLAl0"
      },
      "source": [
        "Split the dataset back into Training and Testing"
      ]
    },
    {
      "cell_type": "code",
      "metadata": {
        "colab": {
          "base_uri": "https://localhost:8080/"
        },
        "id": "3KPmhzLkLAl0",
        "outputId": "1950e136-5346-4b16-87fc-166b527a0dc9"
      },
      "source": [
        "#split the DF\n",
        "train_df = all_data[:train_shape]\n",
        "test_df = all_data[train_shape:]\n",
        "\n",
        "#drop the tARGET column in the train & test set\n",
        "train_df.drop(columns=['target'], inplace=True)\n",
        "test_df.drop(columns=['target'], inplace=True)"
      ],
      "execution_count": 19,
      "outputs": [
        {
          "output_type": "stream",
          "text": [
            "/usr/local/lib/python3.7/dist-packages/pandas/core/frame.py:4174: SettingWithCopyWarning: \n",
            "A value is trying to be set on a copy of a slice from a DataFrame\n",
            "\n",
            "See the caveats in the documentation: https://pandas.pydata.org/pandas-docs/stable/user_guide/indexing.html#returning-a-view-versus-a-copy\n",
            "  errors=errors,\n"
          ],
          "name": "stderr"
        }
      ]
    },
    {
      "cell_type": "code",
      "metadata": {
        "colab": {
          "base_uri": "https://localhost:8080/"
        },
        "id": "fdKyzTIfLAl1",
        "outputId": "963d58b0-83b0-48e5-a588-f518b44db4b9"
      },
      "source": [
        "#confirm that the inputs and targets have the same length\n",
        "train_df.shape, y_train.shape"
      ],
      "execution_count": null,
      "outputs": [
        {
          "output_type": "execute_result",
          "data": {
            "text/plain": [
              "((12079, 15), (12079,))"
            ]
          },
          "metadata": {
            "tags": []
          },
          "execution_count": 84
        }
      ]
    },
    {
      "cell_type": "code",
      "metadata": {
        "colab": {
          "base_uri": "https://localhost:8080/",
          "height": 310
        },
        "id": "rNA7yeMMLAl1",
        "outputId": "33d79bd3-8523-4a86-d633-0dfeef27757c"
      },
      "source": [
        "train_df.head()"
      ],
      "execution_count": null,
      "outputs": [
        {
          "output_type": "execute_result",
          "data": {
            "text/html": [
              "<div>\n",
              "<style scoped>\n",
              "    .dataframe tbody tr th:only-of-type {\n",
              "        vertical-align: middle;\n",
              "    }\n",
              "\n",
              "    .dataframe tbody tr th {\n",
              "        vertical-align: top;\n",
              "    }\n",
              "\n",
              "    .dataframe thead th {\n",
              "        text-align: right;\n",
              "    }\n",
              "</style>\n",
              "<table border=\"1\" class=\"dataframe\">\n",
              "  <thead>\n",
              "    <tr style=\"text-align: right;\">\n",
              "      <th></th>\n",
              "      <th>Gender</th>\n",
              "      <th>Age</th>\n",
              "      <th>No_Pol</th>\n",
              "      <th>Car_Category</th>\n",
              "      <th>Subject_Car_Colour</th>\n",
              "      <th>Subject_Car_Make</th>\n",
              "      <th>LGA_Name</th>\n",
              "      <th>State</th>\n",
              "      <th>ProductName</th>\n",
              "      <th>Policy Start Dateyear</th>\n",
              "      <th>Policy Start Datemonth</th>\n",
              "      <th>Policy Start Dateday</th>\n",
              "      <th>Policy End Dateyear</th>\n",
              "      <th>Policy End Datemonth</th>\n",
              "      <th>Policy End Dateday</th>\n",
              "    </tr>\n",
              "  </thead>\n",
              "  <tbody>\n",
              "    <tr>\n",
              "      <th>0</th>\n",
              "      <td>Male</td>\n",
              "      <td>YoungAdult</td>\n",
              "      <td>1</td>\n",
              "      <td>Saloon</td>\n",
              "      <td>Black</td>\n",
              "      <td>TOYOTA</td>\n",
              "      <td>Victoria Island</td>\n",
              "      <td>Lagos</td>\n",
              "      <td>Car Classic</td>\n",
              "      <td>2010</td>\n",
              "      <td>5</td>\n",
              "      <td>14</td>\n",
              "      <td>2011</td>\n",
              "      <td>5</td>\n",
              "      <td>13</td>\n",
              "    </tr>\n",
              "    <tr>\n",
              "      <th>1</th>\n",
              "      <td>Female</td>\n",
              "      <td>Senior</td>\n",
              "      <td>1</td>\n",
              "      <td>JEEP</td>\n",
              "      <td>Grey</td>\n",
              "      <td>TOYOTA</td>\n",
              "      <td>Victoria Island</td>\n",
              "      <td>Lagos</td>\n",
              "      <td>Car Classic</td>\n",
              "      <td>2010</td>\n",
              "      <td>11</td>\n",
              "      <td>29</td>\n",
              "      <td>2011</td>\n",
              "      <td>11</td>\n",
              "      <td>28</td>\n",
              "    </tr>\n",
              "    <tr>\n",
              "      <th>2</th>\n",
              "      <td>Male</td>\n",
              "      <td>MiddleAged</td>\n",
              "      <td>1</td>\n",
              "      <td>Saloon</td>\n",
              "      <td>Red</td>\n",
              "      <td>TOYOTA</td>\n",
              "      <td>Victoria Island</td>\n",
              "      <td>Lagos</td>\n",
              "      <td>Car Classic</td>\n",
              "      <td>2010</td>\n",
              "      <td>3</td>\n",
              "      <td>21</td>\n",
              "      <td>2011</td>\n",
              "      <td>3</td>\n",
              "      <td>20</td>\n",
              "    </tr>\n",
              "    <tr>\n",
              "      <th>3</th>\n",
              "      <td>Male</td>\n",
              "      <td>Youth</td>\n",
              "      <td>1</td>\n",
              "      <td>Saloon</td>\n",
              "      <td>Black</td>\n",
              "      <td>TOYOTA</td>\n",
              "      <td>Victoria Island</td>\n",
              "      <td>Lagos</td>\n",
              "      <td>CarSafe</td>\n",
              "      <td>2010</td>\n",
              "      <td>8</td>\n",
              "      <td>21</td>\n",
              "      <td>2011</td>\n",
              "      <td>8</td>\n",
              "      <td>20</td>\n",
              "    </tr>\n",
              "    <tr>\n",
              "      <th>4</th>\n",
              "      <td>Other</td>\n",
              "      <td>Youth</td>\n",
              "      <td>3</td>\n",
              "      <td>Saloon</td>\n",
              "      <td>Black</td>\n",
              "      <td>TOYOTA</td>\n",
              "      <td>Lagos</td>\n",
              "      <td>Lagos</td>\n",
              "      <td>Muuve</td>\n",
              "      <td>2010</td>\n",
              "      <td>8</td>\n",
              "      <td>29</td>\n",
              "      <td>2010</td>\n",
              "      <td>12</td>\n",
              "      <td>31</td>\n",
              "    </tr>\n",
              "  </tbody>\n",
              "</table>\n",
              "</div>"
            ],
            "text/plain": [
              "   Gender         Age  ...  Policy End Datemonth Policy End Dateday\n",
              "0    Male  YoungAdult  ...                     5                 13\n",
              "1  Female      Senior  ...                    11                 28\n",
              "2    Male  MiddleAged  ...                     3                 20\n",
              "3    Male       Youth  ...                     8                 20\n",
              "4   Other       Youth  ...                    12                 31\n",
              "\n",
              "[5 rows x 15 columns]"
            ]
          },
          "metadata": {
            "tags": []
          },
          "execution_count": 85
        }
      ]
    },
    {
      "cell_type": "markdown",
      "metadata": {
        "id": "-4_fc5w5LAl3"
      },
      "source": [
        "Preprocess the Data and Build a Model"
      ]
    },
    {
      "cell_type": "code",
      "metadata": {
        "id": "MdVNThfWLAl3"
      },
      "source": [
        "#ML models do not accept strings as input, so we have to preprocess the data\n",
        "#let's create different transformers to findout what works best\n",
        "ohe = OneHotEncoder(handle_unknown='ignore')\n",
        "oe = OrdinalEncoder()\n",
        "\n",
        "ct1 = make_column_transformer((ohe, ['Gender', 'Age', 'Car_Category', 'Subject_Car_Colour', 'Subject_Car_Make', 'LGA_Name', 'ProductName', 'State']), remainder='passthrough')\n",
        "ct1.fit(train_df)\n",
        "\n",
        "train_df_1 = ct1.transform(train_df)"
      ],
      "execution_count": 20,
      "outputs": []
    },
    {
      "cell_type": "code",
      "metadata": {
        "id": "idNHTE0ULAl4"
      },
      "source": [
        "ohe_1 = OneHotEncoder(sparse=False, handle_unknown='ignore')\n",
        "ct_2 = make_column_transformer((ohe_1, ['Gender', 'Age', 'Car_Category', 'Subject_Car_Colour', 'Subject_Car_Make', 'LGA_Name', 'ProductName', 'State']), remainder='passthrough')\n",
        "ct_2.fit(train_df)\n",
        "\n",
        "train_df_2 = ct_2.transform(train_df)"
      ],
      "execution_count": 21,
      "outputs": []
    },
    {
      "cell_type": "code",
      "metadata": {
        "id": "0oYLvp9vtTHG"
      },
      "source": [
        "oe = OrdinalEncoder()\n",
        "\n",
        "ct_3 = make_column_transformer((oe, ['Gender', 'Age', 'Car_Category', 'Subject_Car_Colour', 'Subject_Car_Make', 'LGA_Name', 'ProductName', 'State']), remainder='passthrough')\n",
        "ct_3.fit(all_data.drop(columns=['target']))\n",
        "\n",
        "train_df_3 = ct_3.transform(train_df)"
      ],
      "execution_count": 22,
      "outputs": []
    },
    {
      "cell_type": "code",
      "metadata": {
        "id": "dt700wCpwjPb"
      },
      "source": [
        "test_df_1 = ct1.transform(test_df)\n",
        "test_df_2 = ct_2.transform(test_df)\n",
        "test_df_3 = ct_3.transform(test_df)"
      ],
      "execution_count": 24,
      "outputs": []
    },
    {
      "cell_type": "markdown",
      "metadata": {
        "id": "1HcBXakYLAl4"
      },
      "source": [
        "Model Tuning"
      ]
    },
    {
      "cell_type": "code",
      "metadata": {
        "colab": {
          "base_uri": "https://localhost:8080/"
        },
        "id": "6YghDQTILAl5",
        "outputId": "c4cf0441-ffbb-4811-eb60-3c72818bf4e3"
      },
      "source": [
        "#let's start with Random Forest\n",
        "param_1 = {'n_estimators': [100, 150, 200, 250]}\n",
        "rfc = RandomForestClassifier()\n",
        "\n",
        "grid_1 = GridSearchCV(rfc, param_grid=param_1, scoring='accuracy', cv=3)\n",
        "grid_1.fit(train_df_1, y_train)"
      ],
      "execution_count": null,
      "outputs": [
        {
          "output_type": "execute_result",
          "data": {
            "text/plain": [
              "GridSearchCV(cv=3, error_score=nan,\n",
              "             estimator=RandomForestClassifier(bootstrap=True, ccp_alpha=0.0,\n",
              "                                              class_weight=None,\n",
              "                                              criterion='gini', max_depth=None,\n",
              "                                              max_features='auto',\n",
              "                                              max_leaf_nodes=None,\n",
              "                                              max_samples=None,\n",
              "                                              min_impurity_decrease=0.0,\n",
              "                                              min_impurity_split=None,\n",
              "                                              min_samples_leaf=1,\n",
              "                                              min_samples_split=2,\n",
              "                                              min_weight_fraction_leaf=0.0,\n",
              "                                              n_estimators=100, n_jobs=None,\n",
              "                                              oob_score=False,\n",
              "                                              random_state=None, verbose=0,\n",
              "                                              warm_start=False),\n",
              "             iid='deprecated', n_jobs=None,\n",
              "             param_grid={'n_estimators': [100, 150, 200, 250]},\n",
              "             pre_dispatch='2*n_jobs', refit=True, return_train_score=False,\n",
              "             scoring='accuracy', verbose=0)"
            ]
          },
          "metadata": {
            "tags": []
          },
          "execution_count": 88
        }
      ]
    },
    {
      "cell_type": "code",
      "metadata": {
        "colab": {
          "base_uri": "https://localhost:8080/"
        },
        "id": "N_wUHtE8LAl5",
        "outputId": "f150c239-e8af-4f94-cc67-2d1dab9ce24f"
      },
      "source": [
        "print(f'Random Forest Best_score is {grid_1.best_score_}, best parameter is {grid_1.best_params_}')"
      ],
      "execution_count": null,
      "outputs": [
        {
          "output_type": "stream",
          "text": [
            "Random Forest Best_score is 0.8566938235629488, best parameter is {'n_estimators': 100}\n"
          ],
          "name": "stdout"
        }
      ]
    },
    {
      "cell_type": "code",
      "metadata": {
        "colab": {
          "base_uri": "https://localhost:8080/"
        },
        "id": "9VUWmgx-LAl6",
        "outputId": "9caa909f-4936-44fe-c6a0-0c72c9639356"
      },
      "source": [
        "#let's try SGDClassifier\n",
        "###########\n",
        "sgd = SGDClassifier().fit(train_df_2, y_train)\n",
        "sgd.score(train_df_2, y_train)"
      ],
      "execution_count": null,
      "outputs": [
        {
          "output_type": "execute_result",
          "data": {
            "text/plain": [
              "0.8795430085271959"
            ]
          },
          "metadata": {
            "tags": []
          },
          "execution_count": 90
        }
      ]
    },
    {
      "cell_type": "code",
      "metadata": {
        "colab": {
          "base_uri": "https://localhost:8080/"
        },
        "id": "au5WMwhZLAl7",
        "outputId": "0055c7bf-bf65-4551-e158-a2f2a3a0a923"
      },
      "source": [
        "#let's try K-nearest neighbors\n",
        "####################\n",
        "param_2 = {'n_neighbors': range(5, 100)}\n",
        "knn = KNeighborsClassifier()\n",
        "\n",
        "grid_2 = GridSearchCV(knn, param_grid=param_2, scoring='accuracy', cv=3)\n",
        "grid_2.fit(train_df_2, y_train)"
      ],
      "execution_count": null,
      "outputs": [
        {
          "output_type": "execute_result",
          "data": {
            "text/plain": [
              "GridSearchCV(cv=3, error_score=nan,\n",
              "             estimator=KNeighborsClassifier(algorithm='auto', leaf_size=30,\n",
              "                                            metric='minkowski',\n",
              "                                            metric_params=None, n_jobs=None,\n",
              "                                            n_neighbors=5, p=2,\n",
              "                                            weights='uniform'),\n",
              "             iid='deprecated', n_jobs=None,\n",
              "             param_grid={'n_neighbors': range(5, 100)}, pre_dispatch='2*n_jobs',\n",
              "             refit=True, return_train_score=False, scoring='accuracy',\n",
              "             verbose=0)"
            ]
          },
          "metadata": {
            "tags": []
          },
          "execution_count": 91
        }
      ]
    },
    {
      "cell_type": "code",
      "metadata": {
        "colab": {
          "base_uri": "https://localhost:8080/"
        },
        "id": "tHq-ncXkLAl7",
        "outputId": "cc4ecde2-ef0d-4351-e4db-b91a8bf54c92"
      },
      "source": [
        "print(f'KNN Best_score is {grid_2.best_score_}, best parameter is {grid_2.best_params_}')"
      ],
      "execution_count": null,
      "outputs": [
        {
          "output_type": "stream",
          "text": [
            "KNN Best_score is 0.8822753501133453, best parameter is {'n_neighbors': 15}\n"
          ],
          "name": "stdout"
        }
      ]
    },
    {
      "cell_type": "code",
      "metadata": {
        "colab": {
          "base_uri": "https://localhost:8080/"
        },
        "id": "gfHKuHHdLAl8",
        "outputId": "70ea72a5-e978-4b0d-9ede-422e69e4977f"
      },
      "source": [
        "#let's try SVC model\n",
        "svc = SVC().fit(train_df_2, y_train)\n",
        "svc.score(train_df_2, y_train)"
      ],
      "execution_count": null,
      "outputs": [
        {
          "output_type": "execute_result",
          "data": {
            "text/plain": [
              "0.8795430085271959"
            ]
          },
          "metadata": {
            "tags": []
          },
          "execution_count": 97
        }
      ]
    },
    {
      "cell_type": "code",
      "metadata": {
        "id": "0O2kl9QlLAl8"
      },
      "source": [
        "#KNN gave us the best score, let' try to make some predictions with it\n",
        "#preproces the test set\n",
        "test_df_2 = ct_2.transform(test_df)\n",
        "\n",
        "knn_best = KNeighborsClassifier(**grid_2.best_params_).fit(train_df_2, y_train)\n",
        "prediction = knn_best.predict(test_df_2)"
      ],
      "execution_count": null,
      "outputs": []
    },
    {
      "cell_type": "code",
      "metadata": {
        "id": "duqgia9zjuDx"
      },
      "source": [
        "#save predictions\n",
        "pred = pd.DataFrame(prediction, columns=['target'])"
      ],
      "execution_count": null,
      "outputs": []
    },
    {
      "cell_type": "code",
      "metadata": {
        "id": "3bG5Nq9bmQbU"
      },
      "source": [
        "#predictions with RFC\n",
        "#this performed better than the KNN model in the HackThon\n",
        "\n",
        "rfc_best = RandomForestClassifier(**grid_1.best_params_).fit(train_df_1, y_train)\n",
        "test_df_3 = ct1.transform(test_df)\n",
        "pred_3 = rfc_best.predict(test_df_3)\n",
        "pred3 = pd.DataFrame(pred_3, columns=['target'])"
      ],
      "execution_count": null,
      "outputs": []
    },
    {
      "cell_type": "code",
      "metadata": {
        "colab": {
          "base_uri": "https://localhost:8080/",
          "height": 17
        },
        "id": "dLXzYUx_ixu8",
        "outputId": "7e52ec81-287a-47f0-bd2c-a17516ec324f"
      },
      "source": [
        "from google.colab import files\n",
        "\n",
        "pred3.to_csv('predictions.csv')\n",
        "files.download('predictions.csv')"
      ],
      "execution_count": null,
      "outputs": [
        {
          "output_type": "display_data",
          "data": {
            "application/javascript": [
              "\n",
              "    async function download(id, filename, size) {\n",
              "      if (!google.colab.kernel.accessAllowed) {\n",
              "        return;\n",
              "      }\n",
              "      const div = document.createElement('div');\n",
              "      const label = document.createElement('label');\n",
              "      label.textContent = `Downloading \"${filename}\": `;\n",
              "      div.appendChild(label);\n",
              "      const progress = document.createElement('progress');\n",
              "      progress.max = size;\n",
              "      div.appendChild(progress);\n",
              "      document.body.appendChild(div);\n",
              "\n",
              "      const buffers = [];\n",
              "      let downloaded = 0;\n",
              "\n",
              "      const channel = await google.colab.kernel.comms.open(id);\n",
              "      // Send a message to notify the kernel that we're ready.\n",
              "      channel.send({})\n",
              "\n",
              "      for await (const message of channel.messages) {\n",
              "        // Send a message to notify the kernel that we're ready.\n",
              "        channel.send({})\n",
              "        if (message.buffers) {\n",
              "          for (const buffer of message.buffers) {\n",
              "            buffers.push(buffer);\n",
              "            downloaded += buffer.byteLength;\n",
              "            progress.value = downloaded;\n",
              "          }\n",
              "        }\n",
              "      }\n",
              "      const blob = new Blob(buffers, {type: 'application/binary'});\n",
              "      const a = document.createElement('a');\n",
              "      a.href = window.URL.createObjectURL(blob);\n",
              "      a.download = filename;\n",
              "      div.appendChild(a);\n",
              "      a.click();\n",
              "      div.remove();\n",
              "    }\n",
              "  "
            ],
            "text/plain": [
              "<IPython.core.display.Javascript object>"
            ]
          },
          "metadata": {
            "tags": []
          }
        },
        {
          "output_type": "display_data",
          "data": {
            "application/javascript": [
              "download(\"download_9e083930-7935-4d8b-b70b-cf9be380fbb5\", \"predictions.csv\", 7312)"
            ],
            "text/plain": [
              "<IPython.core.display.Javascript object>"
            ]
          },
          "metadata": {
            "tags": []
          }
        }
      ]
    },
    {
      "cell_type": "code",
      "metadata": {
        "colab": {
          "base_uri": "https://localhost:8080/"
        },
        "id": "SkY-HCowxURH",
        "outputId": "61dd2602-5bd0-4cdd-8e9a-44eda71bd570"
      },
      "source": [
        "from sklearn.externals import joblib\n",
        "#RFC gave 0.346 in tha HACKTHON\n",
        "joblib.dump(rfc_best, 'rfc_model.pkl')"
      ],
      "execution_count": null,
      "outputs": [
        {
          "output_type": "stream",
          "text": [
            "/usr/local/lib/python3.7/dist-packages/sklearn/externals/joblib/__init__.py:15: FutureWarning: sklearn.externals.joblib is deprecated in 0.21 and will be removed in 0.23. Please import this functionality directly from joblib, which can be installed with: pip install joblib. If this warning is raised when loading pickled models, you may need to re-serialize those models with scikit-learn 0.21+.\n",
            "  warnings.warn(msg, category=FutureWarning)\n"
          ],
          "name": "stderr"
        },
        {
          "output_type": "execute_result",
          "data": {
            "text/plain": [
              "['rfc_model.pkl']"
            ]
          },
          "metadata": {
            "tags": []
          },
          "execution_count": 112
        }
      ]
    },
    {
      "cell_type": "markdown",
      "metadata": {
        "id": "PxumvQq14weq"
      },
      "source": [
        "Let's try Extra Trees classifier"
      ]
    },
    {
      "cell_type": "code",
      "metadata": {
        "colab": {
          "base_uri": "https://localhost:8080/"
        },
        "id": "cxQNnl8JofkD",
        "outputId": "411d6643-2b7c-49c5-c47d-27880e6e409f"
      },
      "source": [
        "from sklearn.ensemble import ExtraTreesClassifier\n",
        "\n",
        "# et_params = {'n_estimators':[100, 150, 200, 300, 400], 'max_depth': [5, 10, 20, 25, 30], 'min_samples_leaf': [1]}\n",
        "# grid_3 = GridSearchCV(ExtraTreesClassifier, param_grid=et_params, scoring='accuracy', cv=2)\n",
        "# grid_3.fit(train_df_1, y_train)\n",
        "\n",
        "etc = ExtraTreesClassifier(n_estimators=400, max_depth=25).fit(train_df_1, y_train)\n",
        "etc.score(train_df_1, y_train)"
      ],
      "execution_count": null,
      "outputs": [
        {
          "output_type": "execute_result",
          "data": {
            "text/plain": [
              "0.9105886248861661"
            ]
          },
          "metadata": {
            "tags": []
          },
          "execution_count": 134
        }
      ]
    },
    {
      "cell_type": "code",
      "metadata": {
        "colab": {
          "base_uri": "https://localhost:8080/",
          "height": 17
        },
        "id": "y90OBadW86Uq",
        "outputId": "4aa3b1bf-e4b5-4206-99b0-b91fb1dd49a3"
      },
      "source": [
        "#let's make some predictions and see what we get in the HackTHON\n",
        "pred_4 = etc.predict(test_df_3)\n",
        "pred4 = pd.DataFrame(pred_4, columns=['target'])\n",
        "\n",
        "pred4.to_csv('pred.csv')\n",
        "files.download('pred.csv')\n",
        "#ETC did not do well on the Public board"
      ],
      "execution_count": null,
      "outputs": [
        {
          "output_type": "display_data",
          "data": {
            "application/javascript": [
              "\n",
              "    async function download(id, filename, size) {\n",
              "      if (!google.colab.kernel.accessAllowed) {\n",
              "        return;\n",
              "      }\n",
              "      const div = document.createElement('div');\n",
              "      const label = document.createElement('label');\n",
              "      label.textContent = `Downloading \"${filename}\": `;\n",
              "      div.appendChild(label);\n",
              "      const progress = document.createElement('progress');\n",
              "      progress.max = size;\n",
              "      div.appendChild(progress);\n",
              "      document.body.appendChild(div);\n",
              "\n",
              "      const buffers = [];\n",
              "      let downloaded = 0;\n",
              "\n",
              "      const channel = await google.colab.kernel.comms.open(id);\n",
              "      // Send a message to notify the kernel that we're ready.\n",
              "      channel.send({})\n",
              "\n",
              "      for await (const message of channel.messages) {\n",
              "        // Send a message to notify the kernel that we're ready.\n",
              "        channel.send({})\n",
              "        if (message.buffers) {\n",
              "          for (const buffer of message.buffers) {\n",
              "            buffers.push(buffer);\n",
              "            downloaded += buffer.byteLength;\n",
              "            progress.value = downloaded;\n",
              "          }\n",
              "        }\n",
              "      }\n",
              "      const blob = new Blob(buffers, {type: 'application/binary'});\n",
              "      const a = document.createElement('a');\n",
              "      a.href = window.URL.createObjectURL(blob);\n",
              "      a.download = filename;\n",
              "      div.appendChild(a);\n",
              "      a.click();\n",
              "      div.remove();\n",
              "    }\n",
              "  "
            ],
            "text/plain": [
              "<IPython.core.display.Javascript object>"
            ]
          },
          "metadata": {
            "tags": []
          }
        },
        {
          "output_type": "display_data",
          "data": {
            "application/javascript": [
              "download(\"download_28490142-a81b-40ff-8643-914502ed8a2c\", \"pred.csv\", 7312)"
            ],
            "text/plain": [
              "<IPython.core.display.Javascript object>"
            ]
          },
          "metadata": {
            "tags": []
          }
        }
      ]
    }
  ]
}