{
 "cells": [
  {
   "cell_type": "markdown",
   "metadata": {},
   "source": [
    "Run on DataBricks"
   ]
  },
  {
   "cell_type": "code",
   "execution_count": 2,
   "metadata": {},
   "outputs": [],
   "source": [
    "from pyspark.ml.feature import VectorAssembler, StringIndexer, OneHotEncoder\n",
    "from pyspark.sql import SparkSession\n",
    "from pyspark.ml.classification import LogisticRegression\n",
    "from pyspark.ml import Pipeline"
   ]
  },
  {
   "cell_type": "code",
   "execution_count": 6,
   "metadata": {},
   "outputs": [
    {
     "name": "stdout",
     "output_type": "stream",
     "text": [
      "+-----------+--------+------+---------------------------------------------------+------+----+-----+-----+----------------+-------+-----+--------+\n",
      "|PassengerId|Survived|Pclass|Name                                               |Sex   |Age |SibSp|Parch|Ticket          |Fare   |Cabin|Embarked|\n",
      "+-----------+--------+------+---------------------------------------------------+------+----+-----+-----+----------------+-------+-----+--------+\n",
      "|1          |0       |3     |Braund, Mr. Owen Harris                            |male  |22.0|1    |0    |A/5 21171       |7.25   |null |S       |\n",
      "|2          |1       |1     |Cumings, Mrs. John Bradley (Florence Briggs Thayer)|female|38.0|1    |0    |PC 17599        |71.2833|C85  |C       |\n",
      "|3          |1       |3     |Heikkinen, Miss. Laina                             |female|26.0|0    |0    |STON/O2. 3101282|7.925  |null |S       |\n",
      "|4          |1       |1     |Futrelle, Mrs. Jacques Heath (Lily May Peel)       |female|35.0|1    |0    |113803          |53.1   |C123 |S       |\n",
      "|5          |0       |3     |Allen, Mr. William Henry                           |male  |35.0|0    |0    |373450          |8.05   |null |S       |\n",
      "|6          |0       |3     |Moran, Mr. James                                   |male  |null|0    |0    |330877          |8.4583 |null |Q       |\n",
      "|7          |0       |1     |McCarthy, Mr. Timothy J                            |male  |54.0|0    |0    |17463           |51.8625|E46  |S       |\n",
      "|8          |0       |3     |Palsson, Master. Gosta Leonard                     |male  |2.0 |3    |1    |349909          |21.075 |null |S       |\n",
      "|9          |1       |3     |Johnson, Mrs. Oscar W (Elisabeth Vilhelmina Berg)  |female|27.0|0    |2    |347742          |11.1333|null |S       |\n",
      "|10         |1       |2     |Nasser, Mrs. Nicholas (Adele Achem)                |female|14.0|1    |0    |237736          |30.0708|null |C       |\n",
      "+-----------+--------+------+---------------------------------------------------+------+----+-----+-----+----------------+-------+-----+--------+\n",
      "only showing top 10 rows\n",
      "\n"
     ]
    }
   ],
   "source": [
    "# original Dataset not available & no GitHUB repo in study material, so use Titanic dataset\n",
    "# file_location = r'/FileStore/tables/data.csv'\n",
    "file_location = 'data.csv'\n",
    "spark = SparkSession.builder.appName('Logistic_regression_practice').getOrCreate()\n",
    "df = spark.read.csv(file_location, inferSchema=True, sep=',', header=True)\n",
    "df.show(10, False)"
   ]
  },
  {
   "cell_type": "code",
   "execution_count": 7,
   "metadata": {},
   "outputs": [
    {
     "name": "stdout",
     "output_type": "stream",
     "text": [
      "(891, 12)\n"
     ]
    }
   ],
   "source": [
    "print((df.count(), len(df.columns)))"
   ]
  },
  {
   "cell_type": "code",
   "execution_count": 8,
   "metadata": {},
   "outputs": [
    {
     "name": "stdout",
     "output_type": "stream",
     "text": [
      "root\n",
      " |-- PassengerId: integer (nullable = true)\n",
      " |-- Survived: integer (nullable = true)\n",
      " |-- Pclass: integer (nullable = true)\n",
      " |-- Name: string (nullable = true)\n",
      " |-- Sex: string (nullable = true)\n",
      " |-- Age: double (nullable = true)\n",
      " |-- SibSp: integer (nullable = true)\n",
      " |-- Parch: integer (nullable = true)\n",
      " |-- Ticket: string (nullable = true)\n",
      " |-- Fare: double (nullable = true)\n",
      " |-- Cabin: string (nullable = true)\n",
      " |-- Embarked: string (nullable = true)\n",
      "\n"
     ]
    }
   ],
   "source": [
    "df.printSchema()"
   ]
  },
  {
   "cell_type": "code",
   "execution_count": 12,
   "metadata": {},
   "outputs": [
    {
     "name": "stdout",
     "output_type": "stream",
     "text": [
      "+------+-----+\n",
      "|   Sex|count|\n",
      "+------+-----+\n",
      "|female|  314|\n",
      "|  male|  577|\n",
      "+------+-----+\n",
      "\n"
     ]
    }
   ],
   "source": [
    "\n",
    "df.groupBy('Sex').count().show()"
   ]
  },
  {
   "cell_type": "code",
   "execution_count": 14,
   "metadata": {},
   "outputs": [
    {
     "name": "stdout",
     "output_type": "stream",
     "text": [
      "+--------+------------------+-------------------+------------------+------------------+-------------------+-------------------+------------------+\n",
      "|Embarked|  avg(PassengerId)|      avg(Survived)|       avg(Pclass)|          avg(Age)|         avg(SibSp)|         avg(Parch)|         avg(Fare)|\n",
      "+--------+------------------+-------------------+------------------+------------------+-------------------+-------------------+------------------+\n",
      "|       Q| 417.8961038961039|0.38961038961038963| 2.909090909090909|28.089285714285715|0.42857142857142855|0.16883116883116883|13.276029870129872|\n",
      "|    null|             446.0|                1.0|               1.0|              50.0|                0.0|                0.0|              80.0|\n",
      "|       C|445.35714285714283| 0.5535714285714286|1.8869047619047619| 30.81476923076923| 0.3869047619047619| 0.3630952380952381| 59.95414404761905|\n",
      "|       S|  449.527950310559|0.33695652173913043|2.3509316770186337| 29.44539711191336| 0.5714285714285714|0.41304347826086957| 27.07981180124218|\n",
      "+--------+------------------+-------------------+------------------+------------------+-------------------+-------------------+------------------+\n",
      "\n"
     ]
    }
   ],
   "source": [
    "df.groupBy('Embarked').mean().show()"
   ]
  },
  {
   "cell_type": "markdown",
   "metadata": {},
   "source": [
    "Index the Columns SEX & EMBARKED"
   ]
  },
  {
   "cell_type": "code",
   "execution_count": 16,
   "metadata": {},
   "outputs": [
    {
     "name": "stdout",
     "output_type": "stream",
     "text": [
      "+-----------+--------+------+--------------------+------+----+-----+-----+----------------+-------+-----+--------+---------+--------------+\n",
      "|PassengerId|Survived|Pclass|                Name|   Sex| Age|SibSp|Parch|          Ticket|   Fare|Cabin|Embarked|sex_index|embarked_index|\n",
      "+-----------+--------+------+--------------------+------+----+-----+-----+----------------+-------+-----+--------+---------+--------------+\n",
      "|          1|       0|     3|Braund, Mr. Owen ...|  male|22.0|    1|    0|       A/5 21171|   7.25| null|       S|      0.0|           0.0|\n",
      "|          2|       1|     1|Cumings, Mrs. Joh...|female|38.0|    1|    0|        PC 17599|71.2833|  C85|       C|      1.0|           1.0|\n",
      "|          3|       1|     3|Heikkinen, Miss. ...|female|26.0|    0|    0|STON/O2. 3101282|  7.925| null|       S|      1.0|           0.0|\n",
      "|          4|       1|     1|Futrelle, Mrs. Ja...|female|35.0|    1|    0|          113803|   53.1| C123|       S|      1.0|           0.0|\n",
      "|          5|       0|     3|Allen, Mr. Willia...|  male|35.0|    0|    0|          373450|   8.05| null|       S|      0.0|           0.0|\n",
      "|          6|       0|     3|    Moran, Mr. James|  male|null|    0|    0|          330877| 8.4583| null|       Q|      0.0|           2.0|\n",
      "|          7|       0|     1|McCarthy, Mr. Tim...|  male|54.0|    0|    0|           17463|51.8625|  E46|       S|      0.0|           0.0|\n",
      "|          8|       0|     3|Palsson, Master. ...|  male| 2.0|    3|    1|          349909| 21.075| null|       S|      0.0|           0.0|\n",
      "|          9|       1|     3|Johnson, Mrs. Osc...|female|27.0|    0|    2|          347742|11.1333| null|       S|      1.0|           0.0|\n",
      "|         10|       1|     2|Nasser, Mrs. Nich...|female|14.0|    1|    0|          237736|30.0708| null|       C|      1.0|           1.0|\n",
      "+-----------+--------+------+--------------------+------+----+-----+-----+----------------+-------+-----+--------+---------+--------------+\n",
      "only showing top 10 rows\n",
      "\n"
     ]
    }
   ],
   "source": [
    "\n",
    "si_sex = StringIndexer(inputCol='Sex', outputCol='sex_index')\n",
    "df = si_sex.fit(df).transform(df)\n",
    "\n",
    "si_embarked = StringIndexer(inputCol='Embarked', outputCol='embarked_index')\n",
    "df = si_embarked.fit(df).transform(df)\n",
    "\n",
    "df.show(10)"
   ]
  },
  {
   "cell_type": "markdown",
   "metadata": {},
   "source": [
    "OneHotEncode the Embarked & Sex index columns."
   ]
  },
  {
   "cell_type": "code",
   "execution_count": 18,
   "metadata": {},
   "outputs": [
    {
     "name": "stdout",
     "output_type": "stream",
     "text": [
      "+-----------+--------+------+---------------------------------------------------+------+----+-----+-----+----------------+-------+-----+--------+---------+--------------+-------------+-------------+\n",
      "|PassengerId|Survived|Pclass|Name                                               |Sex   |Age |SibSp|Parch|Ticket          |Fare   |Cabin|Embarked|sex_index|embarked_index|sex_vec      |embarked_vec |\n",
      "+-----------+--------+------+---------------------------------------------------+------+----+-----+-----+----------------+-------+-----+--------+---------+--------------+-------------+-------------+\n",
      "|1          |0       |3     |Braund, Mr. Owen Harris                            |male  |22.0|1    |0    |A/5 21171       |7.25   |null |S       |0.0      |0.0           |(1,[0],[1.0])|(2,[0],[1.0])|\n",
      "|2          |1       |1     |Cumings, Mrs. John Bradley (Florence Briggs Thayer)|female|38.0|1    |0    |PC 17599        |71.2833|C85  |C       |1.0      |1.0           |(1,[],[])    |(2,[1],[1.0])|\n",
      "|3          |1       |3     |Heikkinen, Miss. Laina                             |female|26.0|0    |0    |STON/O2. 3101282|7.925  |null |S       |1.0      |0.0           |(1,[],[])    |(2,[0],[1.0])|\n",
      "|4          |1       |1     |Futrelle, Mrs. Jacques Heath (Lily May Peel)       |female|35.0|1    |0    |113803          |53.1   |C123 |S       |1.0      |0.0           |(1,[],[])    |(2,[0],[1.0])|\n",
      "|5          |0       |3     |Allen, Mr. William Henry                           |male  |35.0|0    |0    |373450          |8.05   |null |S       |0.0      |0.0           |(1,[0],[1.0])|(2,[0],[1.0])|\n",
      "|6          |0       |3     |Moran, Mr. James                                   |male  |null|0    |0    |330877          |8.4583 |null |Q       |0.0      |2.0           |(1,[0],[1.0])|(2,[],[])    |\n",
      "|7          |0       |1     |McCarthy, Mr. Timothy J                            |male  |54.0|0    |0    |17463           |51.8625|E46  |S       |0.0      |0.0           |(1,[0],[1.0])|(2,[0],[1.0])|\n",
      "|8          |0       |3     |Palsson, Master. Gosta Leonard                     |male  |2.0 |3    |1    |349909          |21.075 |null |S       |0.0      |0.0           |(1,[0],[1.0])|(2,[0],[1.0])|\n",
      "|9          |1       |3     |Johnson, Mrs. Oscar W (Elisabeth Vilhelmina Berg)  |female|27.0|0    |2    |347742          |11.1333|null |S       |1.0      |0.0           |(1,[],[])    |(2,[0],[1.0])|\n",
      "|10         |1       |2     |Nasser, Mrs. Nicholas (Adele Achem)                |female|14.0|1    |0    |237736          |30.0708|null |C       |1.0      |1.0           |(1,[],[])    |(2,[1],[1.0])|\n",
      "+-----------+--------+------+---------------------------------------------------+------+----+-----+-----+----------------+-------+-----+--------+---------+--------------+-------------+-------------+\n",
      "only showing top 10 rows\n",
      "\n"
     ]
    }
   ],
   "source": [
    "encoder = OneHotEncoder(inputCols=['sex_index', 'embarked_index'], outputCols=['sex_vec', 'embarked_vec'])\n",
    "df = encoder.fit(df).transform(df)\n",
    "df.show(10, False)"
   ]
  },
  {
   "cell_type": "code",
   "execution_count": 21,
   "metadata": {},
   "outputs": [
    {
     "name": "stdout",
     "output_type": "stream",
     "text": [
      "+-------------+-----+\n",
      "|sex_vec      |count|\n",
      "+-------------+-----+\n",
      "|(1,[0],[1.0])|577  |\n",
      "|(1,[],[])    |314  |\n",
      "+-------------+-----+\n",
      "\n"
     ]
    }
   ],
   "source": [
    "df.groupBy('sex_vec').count().orderBy('count', ascending=False).show(5, False)"
   ]
  },
  {
   "cell_type": "markdown",
   "metadata": {},
   "source": [
    "Use VectorAssembler to group features"
   ]
  },
  {
   "cell_type": "code",
   "execution_count": 44,
   "metadata": {},
   "outputs": [
    {
     "name": "stdout",
     "output_type": "stream",
     "text": [
      "+-----------+--------+------+--------------------+------+----+-----+-----+--------+-------+-----+--------+---------+--------------+-------------+-------------+--------------------+\n",
      "|PassengerId|Survived|Pclass|                Name|   Sex| Age|SibSp|Parch|  Ticket|   Fare|Cabin|Embarked|sex_index|embarked_index|      sex_vec| embarked_vec|            features|\n",
      "+-----------+--------+------+--------------------+------+----+-----+-----+--------+-------+-----+--------+---------+--------------+-------------+-------------+--------------------+\n",
      "|          2|       1|     1|Cumings, Mrs. Joh...|female|38.0|    1|    0|PC 17599|71.2833|  C85|       C|      1.0|           1.0|    (1,[],[])|(2,[1],[1.0])|[0.0,0.0,1.0,1.0,...|\n",
      "|          4|       1|     1|Futrelle, Mrs. Ja...|female|35.0|    1|    0|  113803|   53.1| C123|       S|      1.0|           0.0|    (1,[],[])|(2,[0],[1.0])|[0.0,1.0,0.0,1.0,...|\n",
      "|          7|       0|     1|McCarthy, Mr. Tim...|  male|54.0|    0|    0|   17463|51.8625|  E46|       S|      0.0|           0.0|(1,[0],[1.0])|(2,[0],[1.0])|[1.0,1.0,0.0,1.0,...|\n",
      "|         11|       1|     3|Sandstrom, Miss. ...|female| 4.0|    1|    1| PP 9549|   16.7|   G6|       S|      1.0|           0.0|    (1,[],[])|(2,[0],[1.0])|[0.0,1.0,0.0,3.0,...|\n",
      "|         12|       1|     1|Bonnell, Miss. El...|female|58.0|    0|    0|  113783|  26.55| C103|       S|      1.0|           0.0|    (1,[],[])|(2,[0],[1.0])| (5,[1,3],[1.0,1.0])|\n",
      "+-----------+--------+------+--------------------+------+----+-----+-----+--------+-------+-----+--------+---------+--------------+-------------+-------------+--------------------+\n",
      "only showing top 5 rows\n",
      "\n"
     ]
    }
   ],
   "source": [
    "\n",
    "assembler = VectorAssembler(inputCols=['sex_vec', 'embarked_vec', 'Pclass', 'SibSp'], outputCol='features')\n",
    "df = assembler.transform(df)\n",
    "df.show(5)"
   ]
  },
  {
   "cell_type": "code",
   "execution_count": 53,
   "metadata": {},
   "outputs": [
    {
     "data": {
      "text/plain": [
       "['features', 'Survived']"
      ]
     },
     "execution_count": 53,
     "metadata": {},
     "output_type": "execute_result"
    }
   ],
   "source": [
    "model_df = df.select(['features', 'Survived'])\n",
    "train_df, test_df = model_df.randomSplit([0.75, 0.25])\n",
    "model_df.columns"
   ]
  },
  {
   "cell_type": "code",
   "execution_count": null,
   "metadata": {},
   "outputs": [],
   "source": [
    "\n",
    "log_reg = LogisticRegression(labelCol='Survived').fit(train_df)\n",
    "train_results = log_reg.evaluate(train_df).predictions\n",
    "train_results.printSchema()"
   ]
  },
  {
   "cell_type": "markdown",
   "metadata": {},
   "source": [
    "Using a Pipeline would be more efficient, so to summarize the steps"
   ]
  },
  {
   "cell_type": "code",
   "execution_count": null,
   "metadata": {},
   "outputs": [],
   "source": [
    "\n",
    "# ... read data\n",
    "# ...split to train & test\n",
    "# create the stages\n",
    "stage_1 = StringIndexer(inputCol= 'Sex', outputCol='Sex_index')\n",
    "stage_2 = StringIndexer(inputCol= 'Embarked',outputCol='Embarked_index')\n",
    "stage_3 = OneHotEncoder(inputCols=[stage_1.getOutputCol(),stage_2.getOutputCol()], outputCols= ['Sex_vec', 'Embarked_vec'])\n",
    "stage_4 = VectorAssembler(inputCols=['Pclass', 'Age', 'SibSp','Sex_vec','Embarked_vec'], outputCol='features')\n",
    "stage_5 = LogisticRegression(featuresCol='features', labelCol='Survived')\n",
    "\n",
    "# initialize the Pipeline\n",
    "log_reg_pipeline = Pipeline(stages= [stage_1, stage_2, stage_3,stage_4, stage_5])\n",
    "\n",
    "# fit & transform\n",
    "model = log_reg_pipeline.fit(train_df)\n",
    "train_df = model.transform(train_df)\n",
    "test_df=model.transform(test_df)"
   ]
  }
 ],
 "metadata": {
  "interpreter": {
   "hash": "2b7b5a710781a87842cfe8010c06442799678ef166246941c85da77d9a8410c1"
  },
  "kernelspec": {
   "display_name": "Python 3.7.1 64-bit",
   "language": "python",
   "name": "python3"
  },
  "language_info": {
   "codemirror_mode": {
    "name": "ipython",
    "version": 3
   },
   "file_extension": ".py",
   "mimetype": "text/x-python",
   "name": "python",
   "nbconvert_exporter": "python",
   "pygments_lexer": "ipython3",
   "version": "3.7.1"
  },
  "orig_nbformat": 4
 },
 "nbformat": 4,
 "nbformat_minor": 2
}
