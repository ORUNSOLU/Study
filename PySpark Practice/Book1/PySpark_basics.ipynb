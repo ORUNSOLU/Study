{
 "cells": [
  {
   "cell_type": "code",
   "execution_count": 18,
   "metadata": {},
   "outputs": [],
   "source": [
    "# excercise solutions for Chapter 2 in Applied DS using PySpark\n",
    "from pyspark.sql import SparkSession\n",
    "from pyspark.sql.functions import *\n",
    "from pyspark.sql.types import *"
   ]
  },
  {
   "cell_type": "code",
   "execution_count": 2,
   "metadata": {},
   "outputs": [
    {
     "name": "stdout",
     "output_type": "stream",
     "text": [
      "+-----+------+----------+------------+-------+---------------------------------------+-----------------+\n",
      "|id   |budget|popularity|release_date|revenue|title                                  |original_language|\n",
      "+-----+------+----------+------------+-------+---------------------------------------+-----------------+\n",
      "|43000|0     |2.503     |1962-05-23  |0      |The Elusive Corporal                   |fr               |\n",
      "|43001|0     |5.51      |1962-11-12  |0      |Sundays and Cybele                     |fr               |\n",
      "|43002|0     |5.62      |1962-05-24  |0      |Lonely Are the Brave                   |en               |\n",
      "|43003|0     |7.159     |1975-03-12  |0      |F for Fake                             |fr               |\n",
      "|43004|500000|3.988     |1962-10-09  |0      |Long Day's Journey Into Night          |en               |\n",
      "|43006|0     |3.194     |1962-03-09  |0      |My Geisha                              |en               |\n",
      "|43007|0     |2.689     |1962-10-31  |0      |Period of Adjustment                   |en               |\n",
      "|43008|0     |6.537     |1959-03-13  |0      |The Hanging Tree                       |en               |\n",
      "|43010|0     |4.297     |1962-01-01  |0      |Sherlock Holmes and the Deadly Necklace|de               |\n",
      "|43011|0     |4.417     |1962-01-01  |0      |Sodom and Gomorrah                     |en               |\n",
      "+-----+------+----------+------------+-------+---------------------------------------+-----------------+\n",
      "only showing top 10 rows\n",
      "\n"
     ]
    }
   ],
   "source": [
    "# read the data & get the required columns\n",
    "spark = SparkSession.builder.appName('Excercise').getOrCreate()\n",
    "\n",
    "df = spark.read.format('csv').option('inferSchema', False).option('header', True).option('sep', '|').load('movie_data.csv')\n",
    "select_columns=['id','budget','popularity','release_date','revenue','title', 'original_language']\n",
    "df = df.select(*select_columns)\n",
    "df.show(10,False)"
   ]
  },
  {
   "cell_type": "code",
   "execution_count": 3,
   "metadata": {},
   "outputs": [
    {
     "data": {
      "text/plain": [
       "\" \\n1. Get the total no of titles between 2000-2015\\n2. Get count of distinct titles between 2000-2015\\n3. subtract the second value from the first. That's the answer.\\n\""
      ]
     },
     "execution_count": 3,
     "metadata": {},
     "output_type": "execute_result"
    }
   ],
   "source": [
    "# Question 1\n",
    "# Identify the repeated titles between the years 2000 to 2015, and count number of titles\n",
    "df = df.withColumn('year', year(df['release_date']))\n",
    "total_titles = df.filter((df['year'] >= 2000) & (df['year'] <= 2015)).count()\n",
    "distinct_titles = df.filter((df['year'] >= 2000) & (df['year'] <= 2015)).select('title').distinct().count()\n",
    "\n",
    "ans = total_titles - distinct_titles\n",
    "ans\n",
    "''' \n",
    "1. Get the total no of titles between 2000-2015\n",
    "2. Get count of distinct titles between 2000-2015\n",
    "3. subtract the second value from the first. That's the answer.\n",
    "'''"
   ]
  },
  {
   "cell_type": "code",
   "execution_count": 4,
   "metadata": {},
   "outputs": [
    {
     "name": "stdout",
     "output_type": "stream",
     "text": [
      "+-----+------+------------------+------------+-------+---------------------------------------------------------------------------+-----------------+----+\n",
      "|id   |budget|popularity        |release_date|revenue|title                                                                      |original_language|year|\n",
      "+-----+------+------------------+------------+-------+---------------------------------------------------------------------------+-----------------+----+\n",
      "|43269|0     |5.169             |1945-08-17  |0      |The Strange Affair of Uncle Harry                                          |en               |1945|\n",
      "|43714|0     |4.525             |1998-01-27  |0      |The Harryhausen Chronicles                                                 |en               |1998|\n",
      "|53079|0     |6.785             |2010-10-26  |28200  |Who Is Harry Nilsson (And Why Is Everybody Talkin' About Him?)             |en               |2010|\n",
      "|91607|0     |3.226             |1971-06-15  |0      |Who Is Harry Kellerman and Why Is He Saying Those Terrible Things About Me?|en               |1971|\n",
      "|91767|0     |5.034             |1984-03-02  |0      |Harry & Son                                                                |en               |1984|\n",
      "|75778|0     |2.723             |2000-12-31  |0      |Wild About Harry                                                           |en               |2000|\n",
      "|29224|0     |4.4030000000000005|1982-09-17  |0      |Jönssonligan & DynamitHarry                                                |sv               |1982|\n",
      "|90132|0     |1.826             |2006-02-14  |0      |Bye, Bye Harry                                                             |de               |2006|\n",
      "|5742 |90000 |3.733             |1970-04-22  |0      |Cherry, Harry & Raquel!                                                    |en               |1970|\n",
      "|42448|0     |3.79              |1974-08-12  |0      |Harry and Tonto                                                            |en               |1974|\n",
      "+-----+------+------------------+------------+-------+---------------------------------------------------------------------------+-----------------+----+\n",
      "only showing top 10 rows\n",
      "\n",
      "+-----+------+------------------+------------+-------+---------------------------------------------------------------------------+-----------------+----+\n",
      "|id   |budget|popularity        |release_date|revenue|title                                                                      |original_language|year|\n",
      "+-----+------+------------------+------------+-------+---------------------------------------------------------------------------+-----------------+----+\n",
      "|43269|0     |5.169             |1945-08-17  |0      |The Strange Affair of Uncle Harry                                          |en               |1945|\n",
      "|43714|0     |4.525             |1998-01-27  |0      |The Harryhausen Chronicles                                                 |en               |1998|\n",
      "|53079|0     |6.785             |2010-10-26  |28200  |Who Is Harry Nilsson (And Why Is Everybody Talkin' About Him?)             |en               |2010|\n",
      "|91607|0     |3.226             |1971-06-15  |0      |Who Is Harry Kellerman and Why Is He Saying Those Terrible Things About Me?|en               |1971|\n",
      "|91767|0     |5.034             |1984-03-02  |0      |Harry & Son                                                                |en               |1984|\n",
      "|75778|0     |2.723             |2000-12-31  |0      |Wild About Harry                                                           |en               |2000|\n",
      "|29224|0     |4.4030000000000005|1982-09-17  |0      |Jönssonligan & DynamitHarry                                                |sv               |1982|\n",
      "|90132|0     |1.826             |2006-02-14  |0      |Bye, Bye Harry                                                             |de               |2006|\n",
      "|5742 |90000 |3.733             |1970-04-22  |0      |Cherry, Harry & Raquel!                                                    |en               |1970|\n",
      "|42448|0     |3.79              |1974-08-12  |0      |Harry and Tonto                                                            |en               |1974|\n",
      "+-----+------+------------------+------------+-------+---------------------------------------------------------------------------+-----------------+----+\n",
      "only showing top 10 rows\n",
      "\n"
     ]
    },
    {
     "data": {
      "text/plain": [
       "\"\\nthis  outputs only 'titles' that contain the word 'HARRY'\\n\""
      ]
     },
     "execution_count": 4,
     "metadata": {},
     "output_type": "execute_result"
    }
   ],
   "source": [
    "# Question 2\n",
    "# Identify all titles that contain Harry in the title name.  \n",
    "\n",
    "# you can use either of the 2 codes below, comment out 1 of them\n",
    "df.filter(df['title'].contains('Harry')).show(10, False) # code 1\n",
    "\n",
    "df.filter(df['title'].rlike('\\w*Harry')).show(10, False) # code 2\n",
    "'''\n",
    "this  outputs only 'titles' that contain the word 'HARRY'\n",
    "'''"
   ]
  },
  {
   "cell_type": "code",
   "execution_count": 5,
   "metadata": {},
   "outputs": [
    {
     "name": "stdout",
     "output_type": "stream",
     "text": [
      "+-----+-------+------------------+------------+-------+---------------------------------------+-----------------+----+-----------------+\n",
      "|id   |budget |popularity        |release_date|revenue|title                                  |original_language|year|english_indicator|\n",
      "+-----+-------+------------------+------------+-------+---------------------------------------+-----------------+----+-----------------+\n",
      "|43000|0      |2.503             |1962-05-23  |0      |The Elusive Corporal                   |fr               |1962|0                |\n",
      "|43001|0      |5.51              |1962-11-12  |0      |Sundays and Cybele                     |fr               |1962|0                |\n",
      "|43002|0      |5.62              |1962-05-24  |0      |Lonely Are the Brave                   |en               |1962|1                |\n",
      "|43003|0      |7.159             |1975-03-12  |0      |F for Fake                             |fr               |1975|0                |\n",
      "|43004|500000 |3.988             |1962-10-09  |0      |Long Day's Journey Into Night          |en               |1962|1                |\n",
      "|43006|0      |3.194             |1962-03-09  |0      |My Geisha                              |en               |1962|1                |\n",
      "|43007|0      |2.689             |1962-10-31  |0      |Period of Adjustment                   |en               |1962|1                |\n",
      "|43008|0      |6.537             |1959-03-13  |0      |The Hanging Tree                       |en               |1959|1                |\n",
      "|43010|0      |4.297             |1962-01-01  |0      |Sherlock Holmes and the Deadly Necklace|de               |1962|0                |\n",
      "|43011|0      |4.417             |1962-01-01  |0      |Sodom and Gomorrah                     |en               |1962|1                |\n",
      "|43012|7000000|4.7219999999999995|1962-11-21  |4000000|Taras Bulba                            |en               |1962|1                |\n",
      "|43013|0      |2.543             |1962-04-17  |0      |The Counterfeit Traitor                |en               |1962|1                |\n",
      "|43014|0      |4.303             |1962-10-24  |0      |Tower of London                        |en               |1962|1                |\n",
      "|43015|0      |3.493             |1962-12-07  |0      |Varan the Unbelievable                 |en               |1962|1                |\n",
      "|43016|0      |2.851             |1962-01-01  |0      |Waltz of the Toreadors                 |en               |1962|1                |\n",
      "+-----+-------+------------------+------------+-------+---------------------------------------+-----------------+----+-----------------+\n",
      "only showing top 15 rows\n",
      "\n"
     ]
    },
    {
     "data": {
      "text/plain": [
       "\"\\nWe can see that the 'english_indicator' column has value 1 for ENGLISH and 0 for others\\n\""
      ]
     },
     "execution_count": 5,
     "metadata": {},
     "output_type": "execute_result"
    }
   ],
   "source": [
    "# Question 3\n",
    "# Create a new column as a binary indicator of whether the original language is English\n",
    "df = df.withColumn('english_indicator', when(df['original_language']=='en', 1).otherwise(0))\n",
    "df.show(15, False)\n",
    "\n",
    "'''\n",
    "We can see that the 'english_indicator' column has value 1 for ENGLISH and 0 for others\n",
    "'''"
   ]
  },
  {
   "cell_type": "code",
   "execution_count": 6,
   "metadata": {},
   "outputs": [
    {
     "data": {
      "text/plain": [
       "[(1911, 2.5),\n",
       " (1913, 4.3309999999999995),\n",
       " (1914, 3.0374999999999996),\n",
       " (1915, 5.093),\n",
       " (1916, 3.381666666666667),\n",
       " (1917, 2.1675000000000004),\n",
       " (1918, 2.592111111111111),\n",
       " (1919, 3.044153846153846),\n",
       " (1920, 3.622315789473684),\n",
       " (1921, 4.6906923076923075)]"
      ]
     },
     "execution_count": 6,
     "metadata": {},
     "output_type": "execute_result"
    }
   ],
   "source": [
    "# Question 4\n",
    "# tabulate the mean of popularity by year\n",
    "\n",
    "df = df.withColumn('year', year(df['release_date'])) # get the 'year' value from the  'release_date' column\n",
    "distinct_year = sorted([x[0] for x in df.select('year').distinct().collect() if x[0] != None]) # get the distinct values for each year\n",
    "mean_years = []\n",
    "\n",
    "for x in distinct_year:\n",
    "    mean_value = df.filter(df['year'] == x).agg({'popularity': 'mean'}).collect()[0]['avg(popularity)']\n",
    "    mean_years.append(mean_value)\n",
    "\n",
    "zipped_mean_years = list(zip(distinct_year, mean_years))\n",
    "\n",
    "# this is the mean Popularity for each year\n",
    "zipped_mean_years[:10]"
   ]
  },
  {
   "cell_type": "markdown",
   "metadata": {},
   "source": [
    "# All excercise questions are solved above. The rest are additions where I will input the mean value for each year."
   ]
  },
  {
   "cell_type": "code",
   "execution_count": 25,
   "metadata": {},
   "outputs": [
    {
     "name": "stdout",
     "output_type": "stream",
     "text": [
      "0: 1962\n"
     ]
    }
   ],
   "source": [
    "# zipped_mean_years = dict(zipped_mean_years)\n",
    "# df = df.withColumn('mean_years', lit(None).cast(StringType()))\n",
    "\n",
    "for i, y in enumerate(df.select('mean_years', 'year').collect()):\n",
    "    #contunnue from here\n",
    "    print('{}: {}'.format(i, y[1]))\n",
    "    break\n"
   ]
  },
  {
   "cell_type": "code",
   "execution_count": 17,
   "metadata": {},
   "outputs": [
    {
     "data": {
      "text/plain": [
       "[Row(year=1962), Row(year=1962), Row(year=1962)]"
      ]
     },
     "execution_count": 17,
     "metadata": {},
     "output_type": "execute_result"
    }
   ],
   "source": [
    "df.select('year').take(3)"
   ]
  },
  {
   "cell_type": "code",
   "execution_count": null,
   "metadata": {},
   "outputs": [],
   "source": [
    "\n",
    "\n"
   ]
  }
 ],
 "metadata": {
  "interpreter": {
   "hash": "2b7b5a710781a87842cfe8010c06442799678ef166246941c85da77d9a8410c1"
  },
  "kernelspec": {
   "display_name": "Python 3.7.1 64-bit",
   "name": "python3"
  },
  "language_info": {
   "codemirror_mode": {
    "name": "ipython",
    "version": 3
   },
   "file_extension": ".py",
   "mimetype": "text/x-python",
   "name": "python",
   "nbconvert_exporter": "python",
   "pygments_lexer": "ipython3",
   "version": "3.7.1"
  },
  "orig_nbformat": 4
 },
 "nbformat": 4,
 "nbformat_minor": 2
}
