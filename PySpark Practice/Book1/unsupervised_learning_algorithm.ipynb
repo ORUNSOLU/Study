{
 "cells": [
  {
   "cell_type": "markdown",
   "metadata": {},
   "source": [
    "https://www.kaggle.com/arjunbhasin2013/ccdata\n",
    "\n",
    "Link to Datasorce"
   ]
  },
  {
   "cell_type": "markdown",
   "metadata": {},
   "source": [
    "CLUSTERING ALGORITHMS IN PYSPARK    "
   ]
  },
  {
   "cell_type": "code",
   "execution_count": 1,
   "metadata": {},
   "outputs": [],
   "source": [
    "# import Libraries\n",
    "from pyspark.sql import SparkSession\n",
    "from pyspark.sql.types import *\n",
    "from pyspark.ml.feature import Imputer, VectorAssembler, Normalizer, CountVectorizer, IDF\n",
    "from pyspark.ml import Pipeline\n",
    "from pyspark.ml.clustering import BisectingKMeans, KMeans, LDAModel, LDA\n",
    "from pyspark.ml.evaluation import ClusteringEvaluator\n",
    "from pyspark.mllib.linalg import Vectors, Vector\n",
    "\n",
    "import re\n",
    "import pandas as pd \n",
    "import nltk\n",
    "from nltk.corpus import stopwords\n",
    "import seaborn as sns\n",
    "import matplotlib.pyplot as plt"
   ]
  },
  {
   "cell_type": "code",
   "execution_count": 2,
   "metadata": {},
   "outputs": [
    {
     "name": "stdout",
     "output_type": "stream",
     "text": [
      "root\n",
      " |-- CUST_ID: string (nullable = true)\n",
      " |-- BALANCE: string (nullable = true)\n",
      " |-- BALANCE_FREQUENCY: string (nullable = true)\n",
      " |-- PURCHASES: string (nullable = true)\n",
      " |-- ONEOFF_PURCHASES: string (nullable = true)\n",
      " |-- INSTALLMENTS_PURCHASES: string (nullable = true)\n",
      " |-- CASH_ADVANCE: string (nullable = true)\n",
      " |-- PURCHASES_FREQUENCY: string (nullable = true)\n",
      " |-- ONEOFF_PURCHASES_FREQUENCY: string (nullable = true)\n",
      " |-- PURCHASES_INSTALLMENTS_FREQUENCY: string (nullable = true)\n",
      " |-- CASH_ADVANCE_FREQUENCY: string (nullable = true)\n",
      " |-- CASH_ADVANCE_TRX: string (nullable = true)\n",
      " |-- PURCHASES_TRX: string (nullable = true)\n",
      " |-- CREDIT_LIMIT: string (nullable = true)\n",
      " |-- PAYMENTS: string (nullable = true)\n",
      " |-- MINIMUM_PAYMENTS: string (nullable = true)\n",
      " |-- PRC_FULL_PAYMENT: string (nullable = true)\n",
      " |-- TENURE: string (nullable = true)\n",
      "\n"
     ]
    }
   ],
   "source": [
    "spark = SparkSession.builder.getOrCreate()\n",
    "df = spark.read.csv('credit_card.csv', inferSchema=False, header=True)\n",
    "\n",
    "df.printSchema()"
   ]
  },
  {
   "cell_type": "code",
   "execution_count": 3,
   "metadata": {},
   "outputs": [],
   "source": [
    "# casting multiple types\n",
    "float_vars = list(set(df.columns) - set(['CUST_ID']))\n",
    "for column in float_vars:\n",
    "    df = df.withColumn(column, df[column].cast(FloatType()))\n",
    "\n",
    "# imputing Data\n",
    "input_cols = list(set(df.columns) - set(['CUST_ID']))\n",
    "imputer = Imputer(inputCols=input_cols, outputCols=[\"{}_imputed\".format(c) for c in input_cols])\n",
    "df_imputed = imputer.fit(df).transform(df)\n",
    "df_imputed = df_imputed.drop(*input_cols)\n",
    "new_column_names = list(map(lambda x: x.replace(\"_imputed\", \"\"), df.columns))\n",
    "\n",
    "df_imputed = df_imputed.toDF(*new_column_names)"
   ]
  },
  {
   "cell_type": "code",
   "execution_count": 4,
   "metadata": {},
   "outputs": [
    {
     "name": "stdout",
     "output_type": "stream",
     "text": [
      "Silhouette with squared euclidean distance = 0.49855848955650006\n",
      "Cluster centers: \n",
      "[1.56899718e-02 1.07480745e-04 2.60570968e-02 9.19431713e-02\n",
      " 4.12514135e-02 4.13338382e-02 4.21892243e-02 8.65430186e-05\n",
      " 2.36687998e-03 1.49477386e-04 1.69572988e-03 6.73444143e-02\n",
      " 6.69629544e-01 5.20146262e-05 2.03692023e-05 7.78368846e-05\n",
      " 4.99429055e-06]\n",
      "[9.87433798e-02 5.52450766e-05 4.51778189e-02 1.56153161e-01\n",
      " 1.67613049e-01 3.68880540e-02 8.98395022e-02 4.07553710e-05\n",
      " 1.58891509e-03 1.27041540e-04 1.35422759e-03 8.20154181e-02\n",
      " 3.19911998e-01 1.37626105e-05 2.00523886e-05 4.36827025e-04\n",
      " 2.07931012e-05]\n"
     ]
    }
   ],
   "source": [
    "# data preparation Pipeline\n",
    "ignore = ['CUST_ID']\n",
    "assembler = VectorAssembler(inputCols=[x for x in df.columns if x not in ignore], outputCol='features')\n",
    "normalizer = Normalizer(inputCol='features', outputCol='normFeatures', p=1.0)\n",
    "pipeline = Pipeline(stages=[assembler, normalizer])\n",
    "transformations = pipeline.fit(df_imputed)\n",
    "df_updated = transformations.transform(df_imputed)\n",
    "\n",
    "# building the Model\n",
    "bkm = BisectingKMeans().setK(2).setSeed(1)\n",
    "model = bkm.fit(df_updated.select('normFeatures').withColumnRenamed('normFeatures','features'))\n",
    "\n",
    "# make predictions\n",
    "pred = model.transform(df_updated.select('normFeatures').withColumnRenamed('normFeatures','features'))\n",
    "\n",
    "# initailize the Evaluator and compute the Silhouette score\n",
    "evaluator = ClusteringEvaluator()\n",
    "silhouette = evaluator.evaluate(pred)\n",
    "print(\"Silhouette with squared euclidean distance = \" + str(silhouette))\n",
    "\n",
    "# shows the result\n",
    "print(\"Cluster centers: \")\n",
    "centers = model.clusterCenters()\n",
    "for center in centers:\n",
    "    print(center)\n"
   ]
  },
  {
   "cell_type": "markdown",
   "metadata": {},
   "source": [
    " Silhouette coefficient can vary between -1 and 1. Values close to 1 define a clear \n",
    "separation and are more desirable."
   ]
  },
  {
   "cell_type": "code",
   "execution_count": 5,
   "metadata": {},
   "outputs": [
    {
     "name": "stdout",
     "output_type": "stream",
     "text": [
      "Silhouette score = 0.49855848955650006\n",
      "Silhouette score = 0.47032306895494647\n",
      "Silhouette score = 0.36841230437497996\n",
      "Silhouette score = 0.35979911858435865\n",
      "Silhouette score = 0.3787940202378902\n",
      "Silhouette score = 0.3639517765678912\n"
     ]
    },
    {
     "data": {
      "image/png": "[encoded data removed]",
      "text/plain": [
       "<Figure size 432x288 with 1 Axes>"
      ]
     },
     "metadata": {
      "needs_background": "light"
     },
     "output_type": "display_data"
    }
   ],
   "source": [
    "# calculate Silhouette coeff for diff no of clusters and plot\n",
    "sil_coeff = []\n",
    "num_clusters = []\n",
    "for i in range(2, 8):\n",
    "    bkm = BisectingKMeans().setK(i).setSeed(1)\n",
    "    model = bkm.fit(df_updated.select('normFeatures').withColumnRenamed('normFeatures','features'))\n",
    "    pred = model.transform(df_updated.select('normFeatures').withColumnRenamed('normFeatures','features'))\n",
    "    evaluator = ClusteringEvaluator()\n",
    "    silhouette = evaluator.evaluate(pred)\n",
    "    sil_coeff.append(silhouette)\n",
    "    num_clusters.append(i)\n",
    "    print(\"Silhouette score = \" + str(silhouette))\n",
    "\n",
    "df_viz = pd.DataFrame(zip(num_clusters,sil_coeff), columns=['num_clusters','silhouette_score'])\n",
    "sns.lineplot(x=\"num_clusters\", y=\"silhouette_score\", data=df_viz)\n",
    "plt.title('Bisecting k-means : Silhouette scores')\n",
    "plt.xticks(range(2, 8))\n",
    "plt.show()\n",
    "# as the no of clusters increases, the Sil coeff drops"
   ]
  },
  {
   "cell_type": "markdown",
   "metadata": {},
   "source": [
    "K-Means() Clustering algorithm"
   ]
  },
  {
   "cell_type": "code",
   "execution_count": 21,
   "metadata": {},
   "outputs": [
    {
     "name": "stdout",
     "output_type": "stream",
     "text": [
      "Silhouette with squared euclidean distance = 0.49856764446169394\n",
      "Cluster centers: \n",
      "[9.87267926e-02 5.52420719e-05 4.51923000e-02 1.56132502e-01\n",
      " 1.67607737e-01 3.68861785e-02 8.98299971e-02 4.07539038e-05\n",
      " 1.58877727e-03 1.27030958e-04 1.35435512e-03 8.20280322e-02\n",
      " 3.19938943e-01 1.37602987e-05 2.00543992e-05 4.36753645e-04\n",
      " 2.07896083e-05]\n",
      "[1.56952070e-02 1.07504143e-04 2.60219527e-02 9.19627812e-02\n",
      " 4.12198014e-02 4.13390469e-02 4.21922052e-02 8.65612107e-05\n",
      " 2.36741330e-03 1.49505893e-04 1.69559052e-03 6.73144634e-02\n",
      " 6.69692711e-01 5.20319817e-05 2.03653144e-05 7.78628562e-05\n",
      " 4.99595698e-06]\n",
      "Silhouette:  0.49856764446169394\n",
      "Silhouette:  0.5085437493303202\n",
      "Silhouette:  0.47936391094272945\n",
      "Silhouette:  0.45546028029107755\n",
      "Silhouette:  0.416434035739826\n",
      "Silhouette:  0.4613063828101579\n"
     ]
    },
    {
     "data": {
      "image/png": "[encoded data removed]",
      "text/plain": [
       "<Figure size 432x288 with 1 Axes>"
      ]
     },
     "metadata": {
      "needs_background": "light"
     },
     "output_type": "display_data"
    }
   ],
   "source": [
    "# training a K-means model\n",
    "kmeans = KMeans().setK(2).setSeed(1003)\n",
    "model = kmeans.fit(df_updated.select('normFeatures').withColumnRenamed('normFeatures','features'))\n",
    "\n",
    "pred = model.transform(df_updated.select('normFeatures').withColumnRenamed('normFeatures','features'))\n",
    "evaluator = ClusteringEvaluator()\n",
    "silhouette = evaluator.evaluate(pred)\n",
    "print(\"Silhouette with squared euclidean distance = \" + str(silhouette))\n",
    "\n",
    "# show the result\n",
    "centers = model.clusterCenters()\n",
    "print('Cluster centers: ')\n",
    "for center in centers:\n",
    "    print(center)\n",
    "\n",
    "sil_coeff=[]\n",
    "num_clusters=[]\n",
    "for i in range(2,8):\n",
    "    kmeans = KMeans().setK(i).setSeed(1003)\n",
    "    model = kmeans.fit(df_updated.select('normFeatures').withColumnRenamed('normFeatures','features'))\n",
    "    predictions = model.transform(df_updated.select('normFeatures').withColumnRenamed('normFeatures','features'))\n",
    "    evaluator = ClusteringEvaluator()\n",
    "    silhouette = evaluator.evaluate(predictions)\n",
    "    sil_coeff.append(silhouette)\n",
    "    num_clusters.append(i)\n",
    "    print(\"Silhouette:  \" + str(silhouette))\n",
    "\n",
    "df_viz=pd.DataFrame(zip(num_clusters,sil_coeff), columns=['num_clusters','silhouette_score'])\n",
    "sns.lineplot(x = \"num_clusters\", y = \"silhouette_score\", data=df_viz)\n",
    "plt.title('k-means : Silhouette scores')\n",
    "plt.xticks(range(2, 8))\n",
    "plt.show()\n"
   ]
  },
  {
   "cell_type": "markdown",
   "metadata": {},
   "source": [
    "Implement LDA with PySpark"
   ]
  },
  {
   "cell_type": "markdown",
   "metadata": {},
   "source": [
    "https://www.kaggle.com/PromptCloudHQ/amazon-echo-dot-2-reviews-dataset\n",
    "\n",
    "Link to Dataset"
   ]
  },
  {
   "cell_type": "code",
   "execution_count": 2,
   "metadata": {},
   "outputs": [
    {
     "name": "stdout",
     "output_type": "stream",
     "text": [
      "root\n",
      " |-- Pageurl: string (nullable = true)\n",
      " |-- Title: string (nullable = true)\n",
      " |-- Review Text: string (nullable = true)\n",
      " |-- Review Color: string (nullable = true)\n",
      " |-- User Verified: string (nullable = true)\n",
      " |-- Review Date: string (nullable = true)\n",
      " |-- Review Useful Count: string (nullable = true)\n",
      " |-- Configuration Text: string (nullable = true)\n",
      " |-- Rating: string (nullable = true)\n",
      " |-- Declaration Text: string (nullable = true)\n",
      "\n"
     ]
    }
   ],
   "source": [
    "spark = SparkSession.builder.appName('LDA').getOrCreate()\n",
    "df = spark.read.csv('amazon.csv', inferSchema=False, header=True)\n",
    "\n",
    "df.printSchema()\n",
    "# total number of records is 6855\n",
    "# df.count()"
   ]
  },
  {
   "cell_type": "code",
   "execution_count": 3,
   "metadata": {},
   "outputs": [],
   "source": [
    "# extract the REVIEW TEXT from the DF and preprocess\n",
    "reviews = df.rdd.map(lambda x: x['Review Text']).filter(lambda x: x is not None)\n",
    "StopWords = stopwords.words(\"english\")\n",
    "tokens = reviews.map(\n",
    "    lambda document: document.strip().lower()\n",
    ").map(\n",
    "    lambda document: re.split(\" \", document)\n",
    ").map(\n",
    "    lambda word: [x for x in word if x.isalpha()]\n",
    ").map(\n",
    "    lambda word: [x for x in word if len(x) > 3]\n",
    ").map(\n",
    "    lambda word: [x for x in word if x not in StopWords]\n",
    ").zipWithIndex()\n"
   ]
  },
  {
   "cell_type": "code",
   "execution_count": null,
   "metadata": {},
   "outputs": [],
   "source": [
    "# create a DF with the TOKENS\n",
    "df_txts = spark.createDataFrame(tokens, ['list_of_words', 'index'])\n",
    "\n",
    "# TF\n",
    "cv= CountVectorizer(inputCol='list_of_words', outputCol='raw_features', vocabSize=5000, minDF=10)\n",
    "cvModel = cv.fit(df_txts)\n",
    "result_cv = cvModel.transform(df_txts)\n",
    "\n",
    "# IDF\n",
    "idf = IDF(inputCol='raw_features', outputCol='features')\n",
    "idfModel = idf.fit(result_cv)\n",
    "result_all = idfModel.transform(result_cv)\n",
    "# Stop\n"
   ]
  }
 ],
 "metadata": {
  "interpreter": {
   "hash": "2b7b5a710781a87842cfe8010c06442799678ef166246941c85da77d9a8410c1"
  },
  "kernelspec": {
   "display_name": "Python 3.7.1 64-bit",
   "language": "python",
   "name": "python3"
  },
  "language_info": {
   "codemirror_mode": {
    "name": "ipython",
    "version": 3
   },
   "file_extension": ".py",
   "mimetype": "text/x-python",
   "name": "python",
   "nbconvert_exporter": "python",
   "pygments_lexer": "ipython3",
   "version": "3.7.1"
  },
  "orig_nbformat": 4
 },
 "nbformat": 4,
 "nbformat_minor": 2
}
