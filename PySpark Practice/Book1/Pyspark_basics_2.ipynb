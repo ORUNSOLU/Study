{
 "cells": [
  {
   "cell_type": "code",
   "execution_count": 1,
   "metadata": {},
   "outputs": [],
   "source": [
    "from pyspark.sql import SparkSession\n",
    "from pyspark.sql.functions import *\n",
    "from pyspark.sql.window import *\n",
    "\n",
    "import pandas as pd \n",
    "import matplotlib.pyplot as plt \n",
    "import seaborn as sns "
   ]
  },
  {
   "cell_type": "code",
   "execution_count": 29,
   "metadata": {},
   "outputs": [
    {
     "name": "stdout",
     "output_type": "stream",
     "text": [
      "+-----+------+----------+------------+-------+---------------------------------------+\n",
      "|id   |budget|popularity|release_date|revenue|title                                  |\n",
      "+-----+------+----------+------------+-------+---------------------------------------+\n",
      "|43000|0     |2.503     |1962-05-23  |0      |The Elusive Corporal                   |\n",
      "|43001|0     |5.51      |1962-11-12  |0      |Sundays and Cybele                     |\n",
      "|43002|0     |5.62      |1962-05-24  |0      |Lonely Are the Brave                   |\n",
      "|43003|0     |7.159     |1975-03-12  |0      |F for Fake                             |\n",
      "|43004|500000|3.988     |1962-10-09  |0      |Long Day's Journey Into Night          |\n",
      "|43006|0     |3.194     |1962-03-09  |0      |My Geisha                              |\n",
      "|43007|0     |2.689     |1962-10-31  |0      |Period of Adjustment                   |\n",
      "|43008|0     |6.537     |1959-03-13  |0      |The Hanging Tree                       |\n",
      "|43010|0     |4.297     |1962-01-01  |0      |Sherlock Holmes and the Deadly Necklace|\n",
      "|43011|0     |4.417     |1962-01-01  |0      |Sodom and Gomorrah                     |\n",
      "+-----+------+----------+------------+-------+---------------------------------------+\n",
      "only showing top 10 rows\n",
      "\n"
     ]
    }
   ],
   "source": [
    "spark = SparkSession.builder.appName(\"Chapter_3\").getOrCreate()\n",
    "\n",
    "df = spark.read.format('csv').option('inferSchema', False).option('header', True).option('sep', '|').load('movie_data.csv')\n",
    "select_columns = ['id','budget','popularity','release_date','revenue','title']\n",
    "df = df.select(*select_columns)\n",
    "df.show(10, False)"
   ]
  },
  {
   "cell_type": "code",
   "execution_count": 3,
   "metadata": {},
   "outputs": [
    {
     "name": "stdout",
     "output_type": "stream",
     "text": [
      "+-----+------+----------+----------+-------+\n",
      "|id   |budget|popularity|budget_cat|ratings|\n",
      "+-----+------+----------+----------+-------+\n",
      "|43000|0     |2.503     |small     |low    |\n",
      "|43001|0     |5.51      |small     |High   |\n",
      "|43002|0     |5.62      |small     |High   |\n",
      "|43003|0     |7.159     |small     |High   |\n",
      "|43004|500000|3.988     |small     |mid    |\n",
      "+-----+------+----------+----------+-------+\n",
      "only showing top 5 rows\n",
      "\n"
     ]
    }
   ],
   "source": [
    "df_with_newcols = df.select('id', 'budget', 'popularity').withColumn('budget_cat', when(df['budget']<10000000,'small').when(df['budget']<100000000,'medium').otherwise('big')).withColumn('ratings',when(df['popularity']<3, 'low').when(df['popularity']<5, 'mid').otherwise('High'))\n",
    "\n",
    "df_with_newcols.show(5, False)"
   ]
  },
  {
   "cell_type": "code",
   "execution_count": 4,
   "metadata": {},
   "outputs": [
    {
     "name": "stdout",
     "output_type": "stream",
     "text": [
      "+-----+------+----------+----------+-------+---------------------+\n",
      "|id   |budget|popularity|budget_cat|ratings|BudgetRating_Category|\n",
      "+-----+------+----------+----------+-------+---------------------+\n",
      "|43000|0     |2.503     |small     |low    |smalllow             |\n",
      "|43001|0     |5.51      |small     |High   |smallHigh            |\n",
      "|43002|0     |5.62      |small     |High   |smallHigh            |\n",
      "+-----+------+----------+----------+-------+---------------------+\n",
      "only showing top 3 rows\n",
      "\n"
     ]
    }
   ],
   "source": [
    "# concat values together\n",
    "df_with_newcols = df_with_newcols.withColumn('BudgetRating_Category', concat(df_with_newcols.budget_cat, df_with_newcols.ratings))\n",
    "df_with_newcols.show(3, False)"
   ]
  },
  {
   "cell_type": "code",
   "execution_count": 5,
   "metadata": {},
   "outputs": [
    {
     "name": "stdout",
     "output_type": "stream",
     "text": [
      "+-------+--------------+\n",
      "|ratings|count(ratings)|\n",
      "+-------+--------------+\n",
      "|High   |16856         |\n",
      "|low    |14865         |\n",
      "|mid    |12277         |\n",
      "+-------+--------------+\n",
      "\n"
     ]
    }
   ],
   "source": [
    "# registering a Temporary table\n",
    "df_with_newcols.registerTempTable('temp_data')\n",
    "\n",
    "spark.sql('select ratings, count(ratings) from temp_data group by ratings').show(10, False)"
   ]
  },
  {
   "cell_type": "code",
   "execution_count": 6,
   "metadata": {},
   "outputs": [
    {
     "name": "stdout",
     "output_type": "stream",
     "text": [
      "+-----------+------------------+--------------+-----------------+\n",
      "|decile_rank|    min_popularity|max_popularity|count(popularity)|\n",
      "+-----------+------------------+--------------+-----------------+\n",
      "|          1|             7.402|            99|             4379|\n",
      "|          2|             5.792|         7.401|             4379|\n",
      "|          3|             4.792|         5.792|             4379|\n",
      "|          4|             4.024|         4.792|             4378|\n",
      "|          5|             3.371|         4.024|             4378|\n",
      "|          6|             2.779|          3.37|             4378|\n",
      "|          7|             2.108|         2.779|             4378|\n",
      "|          8|            10.422|         2.108|             4378|\n",
      "|          9|             1.389|         10.42|             4378|\n",
      "|         10|0.6000000000000001|         1.389|             4378|\n",
      "+-----------+------------------+--------------+-----------------+\n",
      "\n"
     ]
    }
   ],
   "source": [
    "# using Window functions\n",
    "df_with_newcols = df_with_newcols.filter((df_with_newcols['popularity'].isNotNull()) & (~isnan(df['popularity'])))\n",
    "\n",
    "df_with_newcols = df_with_newcols.select('id', 'budget', 'popularity', ntile(10).over(Window.partitionBy().orderBy(df_with_newcols['popularity'].desc())).alias('decile_rank'))\n",
    "\n",
    "df_with_newcols.groupBy('decile_rank').agg(min('popularity').alias('min_popularity'), max('popularity').alias('max_popularity'), count('popularity')).show()\n",
    "\n"
   ]
  },
  {
   "cell_type": "code",
   "execution_count": 31,
   "metadata": {},
   "outputs": [
    {
     "name": "stdout",
     "output_type": "stream",
     "text": [
      "+---+----------+------------+----+\n",
      "| id|popularity|release_year|rank|\n",
      "+---+----------+------------+----+\n",
      "|651|     9.588|        1970|   2|\n",
      "+---+----------+------------+----+\n",
      "\n"
     ]
    }
   ],
   "source": [
    "df_second_best = df.select('id', 'popularity', 'release_date')\n",
    "df_second_best = df_second_best.withColumn('release_year', year('release_date')).drop('release_date')\n",
    "year_window = Window.partitionBy(df_second_best['release_year']).orderBy(df_second_best['popularity'].desc())\n",
    "df_second_best = df_second_best.select('id', 'popularity', 'release_year', rank().over(year_window).alias('rank'))\n",
    "df_second_best.filter((df_second_best['release_year']==1970) & (df_second_best['rank']==2)).show()"
   ]
  },
  {
   "cell_type": "code",
   "execution_count": 8,
   "metadata": {},
   "outputs": [
    {
     "name": "stdout",
     "output_type": "stream",
     "text": [
      "+-----+---------+------------+------------------+\n",
      "|id   |revenue  |release_year|revenue_difference|\n",
      "+-----+---------+------------+------------------+\n",
      "|9660 |6800000  |1959        |0.0               |\n",
      "|301  |5800000  |1959        |1000000.0         |\n",
      "|10882|51000000 |1959        |-4.42E7           |\n",
      "|76863|3745000  |1959        |3055000.0         |\n",
      "|5544 |3193     |1959        |6796807.0         |\n",
      "|239  |25000000 |1959        |-1.82E7           |\n",
      "|4952 |18750000 |1959        |-1.195E7          |\n",
      "|15944|17658000 |1959        |-1.0858E7         |\n",
      "|665  |164000000|1959        |-1.572E8          |\n",
      "|896  |134241   |1959        |6665759.0         |\n",
      "+-----+---------+------------+------------------+\n",
      "only showing top 10 rows\n",
      "\n"
     ]
    }
   ],
   "source": [
    "# difference btw highest grossing movie of the  year and other movies of same year\n",
    "\n",
    "# select clumns we need\n",
    "df_revenue = df.select('id', 'revenue', 'release_date')\n",
    "# extract YEAR from the date columnn\n",
    "df_revenue = df_revenue.withColumn('release_year', year('release_date')).drop('release_date')\n",
    "# define the parition function along the range\n",
    "windowRev = Window.partitionBy(df_revenue['release_year']).orderBy(df_revenue['revenue'].desc()).rangeBetween(-sys.maxsize, sys.maxsize)\n",
    "# apply the partition function for the revenue differences\n",
    "revenue_difference = (max(df_revenue['revenue']).over(windowRev) - df_revenue['revenue'])\n",
    "\n",
    "df_revenue.select('id', 'revenue', 'release_year', revenue_difference.alias('revenue_difference')).show(10, False)"
   ]
  },
  {
   "cell_type": "code",
   "execution_count": 9,
   "metadata": {},
   "outputs": [
    {
     "name": "stdout",
     "output_type": "stream",
     "text": [
      "+--------------+------------------------------------+\n",
      "|title         |collect_list(release_year)          |\n",
      "+--------------+------------------------------------+\n",
      "|The Lost World|[1999, 2001, 1925, 1960, 1992, 1998]|\n",
      "+--------------+------------------------------------+\n",
      "\n"
     ]
    }
   ],
   "source": [
    "# using COLLECT_LIST function\n",
    "df = df.withColumn('release_year', year('release_date'))\n",
    "df.filter(\"title=='The Lost World'\").groupBy('title').agg(collect_list('release_year')).show(1, False)\n"
   ]
  },
  {
   "cell_type": "code",
   "execution_count": 10,
   "metadata": {},
   "outputs": [
    {
     "data": {
      "text/plain": [
       "17729"
      ]
     },
     "execution_count": 10,
     "metadata": {},
     "output_type": "execute_result"
    }
   ],
   "source": [
    "# sampling in PYSPARK\n",
    "# with/without replacement, percentage to sample, seed value\n",
    "df_sample = df.sample(False, 0.4, 11)\n",
    "df_sample.count()\n"
   ]
  },
  {
   "cell_type": "code",
   "execution_count": 11,
   "metadata": {},
   "outputs": [
    {
     "data": {
      "text/plain": [
       "260"
      ]
     },
     "execution_count": 11,
     "metadata": {},
     "output_type": "execute_result"
    }
   ],
   "source": [
    "# stratified sampling\n",
    "df_strat = df.sampleBy('release_year', fractions={1959:0.2, 1960:0.4, 1961:0.4}, seed=11)\n",
    "df_strat.count()"
   ]
  },
  {
   "cell_type": "code",
   "execution_count": null,
   "metadata": {},
   "outputs": [],
   "source": [
    "# save DataFrame \n",
    "# df.write.format('csv').option('delimiter', '|').save('output_df')"
   ]
  },
  {
   "cell_type": "code",
   "execution_count": 13,
   "metadata": {},
   "outputs": [
    {
     "data": {
      "text/html": [
       "<div>\n",
       "<style scoped>\n",
       "    .dataframe tbody tr th:only-of-type {\n",
       "        vertical-align: middle;\n",
       "    }\n",
       "\n",
       "    .dataframe tbody tr th {\n",
       "        vertical-align: top;\n",
       "    }\n",
       "\n",
       "    .dataframe thead th {\n",
       "        text-align: right;\n",
       "    }\n",
       "</style>\n",
       "<table border=\"1\" class=\"dataframe\">\n",
       "  <thead>\n",
       "    <tr style=\"text-align: right;\">\n",
       "      <th></th>\n",
       "      <th>id</th>\n",
       "      <th>budget</th>\n",
       "      <th>popularity</th>\n",
       "      <th>release_date</th>\n",
       "      <th>revenue</th>\n",
       "      <th>title</th>\n",
       "      <th>release_year</th>\n",
       "    </tr>\n",
       "  </thead>\n",
       "  <tbody>\n",
       "    <tr>\n",
       "      <th>0</th>\n",
       "      <td>43000</td>\n",
       "      <td>0</td>\n",
       "      <td>2.503</td>\n",
       "      <td>1962-05-23</td>\n",
       "      <td>0</td>\n",
       "      <td>The Elusive Corporal</td>\n",
       "      <td>1962.0</td>\n",
       "    </tr>\n",
       "    <tr>\n",
       "      <th>1</th>\n",
       "      <td>43001</td>\n",
       "      <td>0</td>\n",
       "      <td>5.51</td>\n",
       "      <td>1962-11-12</td>\n",
       "      <td>0</td>\n",
       "      <td>Sundays and Cybele</td>\n",
       "      <td>1962.0</td>\n",
       "    </tr>\n",
       "    <tr>\n",
       "      <th>2</th>\n",
       "      <td>43002</td>\n",
       "      <td>0</td>\n",
       "      <td>5.62</td>\n",
       "      <td>1962-05-24</td>\n",
       "      <td>0</td>\n",
       "      <td>Lonely Are the Brave</td>\n",
       "      <td>1962.0</td>\n",
       "    </tr>\n",
       "    <tr>\n",
       "      <th>3</th>\n",
       "      <td>43003</td>\n",
       "      <td>0</td>\n",
       "      <td>7.159</td>\n",
       "      <td>1975-03-12</td>\n",
       "      <td>0</td>\n",
       "      <td>F for Fake</td>\n",
       "      <td>1975.0</td>\n",
       "    </tr>\n",
       "    <tr>\n",
       "      <th>4</th>\n",
       "      <td>43004</td>\n",
       "      <td>500000</td>\n",
       "      <td>3.988</td>\n",
       "      <td>1962-10-09</td>\n",
       "      <td>0</td>\n",
       "      <td>Long Day's Journey Into Night</td>\n",
       "      <td>1962.0</td>\n",
       "    </tr>\n",
       "  </tbody>\n",
       "</table>\n",
       "</div>"
      ],
      "text/plain": [
       "      id  budget popularity release_date revenue  \\\n",
       "0  43000       0      2.503   1962-05-23       0   \n",
       "1  43001       0       5.51   1962-11-12       0   \n",
       "2  43002       0       5.62   1962-05-24       0   \n",
       "3  43003       0      7.159   1975-03-12       0   \n",
       "4  43004  500000      3.988   1962-10-09       0   \n",
       "\n",
       "                           title  release_year  \n",
       "0           The Elusive Corporal        1962.0  \n",
       "1             Sundays and Cybele        1962.0  \n",
       "2           Lonely Are the Brave        1962.0  \n",
       "3                     F for Fake        1975.0  \n",
       "4  Long Day's Journey Into Night        1962.0  "
      ]
     },
     "execution_count": 13,
     "metadata": {},
     "output_type": "execute_result"
    }
   ],
   "source": [
    "# PySpark to Pandas\n",
    "df_pandas = df.toPandas()\n",
    "\n",
    "df_pandas.head()"
   ]
  },
  {
   "cell_type": "code",
   "execution_count": 14,
   "metadata": {},
   "outputs": [],
   "source": [
    "# Pandas to PySpark\n",
    "df_py = spark.createDataFrame(df_pandas)\n"
   ]
  },
  {
   "cell_type": "code",
   "execution_count": null,
   "metadata": {},
   "outputs": [],
   "source": [
    "# JOIN operation, this is for demonstration purposes, DF_1 doesn't exist\n",
    "df.join('df_1', df.id == df_1.name, 'inner').printSchema()"
   ]
  },
  {
   "cell_type": "code",
   "execution_count": 16,
   "metadata": {},
   "outputs": [
    {
     "data": {
      "text/plain": [
       "43643"
      ]
     },
     "execution_count": 16,
     "metadata": {},
     "output_type": "execute_result"
    }
   ],
   "source": [
    "# dropping Duplicates\n",
    "df.dropDuplicates(['title', 'release_year']).count()"
   ]
  },
  {
   "cell_type": "code",
   "execution_count": null,
   "metadata": {},
   "outputs": [],
   "source": [
    "histogram_data = df.select('popularity').rdd.flatMap(lambda x: x).histogram(25)\n",
    "hist_df = pd.DataFrame(list(zip(*histogram_data)), columns=['bin', 'frequency'])\n",
    "sns.set(rc={'figure.figsize': (12, 8)})\n",
    "sns.barplot(hist_df['bin'], hist_df['fequency'])\n",
    "plt.xticks(rotation=45)\n",
    "plt.show()"
   ]
  },
  {
   "cell_type": "markdown",
   "metadata": {},
   "source": [
    "# Excercise Questions"
   ]
  },
  {
   "cell_type": "code",
   "execution_count": 47,
   "metadata": {},
   "outputs": [],
   "source": [
    "df = df.withColumn('release_year', year('release_date')).drop('release_date')"
   ]
  },
  {
   "cell_type": "code",
   "execution_count": 51,
   "metadata": {},
   "outputs": [
    {
     "name": "stdout",
     "output_type": "stream",
     "text": [
      "root\n",
      " |-- id: string (nullable = true)\n",
      " |-- budget: string (nullable = true)\n",
      " |-- popularity: string (nullable = true)\n",
      " |-- revenue: string (nullable = true)\n",
      " |-- title: string (nullable = true)\n",
      " |-- release_year: integer (nullable = true)\n",
      "\n"
     ]
    }
   ],
   "source": [
    "df.printSchema()"
   ]
  },
  {
   "cell_type": "code",
   "execution_count": 105,
   "metadata": {},
   "outputs": [
    {
     "name": "stdout",
     "output_type": "stream",
     "text": [
      "+------------------------+\n",
      "|title                   |\n",
      "+------------------------+\n",
      "|Cave of Forgotten Dreams|\n",
      "|Firebreather            |\n",
      "+------------------------+\n",
      "only showing top 2 rows\n",
      "\n"
     ]
    }
   ],
   "source": [
    "# Question 1: Identify the second most popular movie in 2010 based on popularity.\n",
    "\n",
    "# the second ROW is the answer\n",
    "df.select('title').filter(df['release_year'] == 2010).orderBy(df['popularity'].desc()).show(2, False)"
   ]
  },
  {
   "cell_type": "code",
   "execution_count": null,
   "metadata": {},
   "outputs": [],
   "source": [
    "# Question 2: Identify all title names that are repeated and show the years in which they were repeated.\n",
    "\n",
    "\n"
   ]
  },
  {
   "cell_type": "code",
   "execution_count": null,
   "metadata": {},
   "outputs": [],
   "source": [
    "# Question 3: Identify the top movies by popularity across all years.\n",
    "df.groupBy('release_year').agg(max(df['popularity'])).show(10, False)\n",
    "\n"
   ]
  }
 ],
 "metadata": {
  "interpreter": {
   "hash": "2b7b5a710781a87842cfe8010c06442799678ef166246941c85da77d9a8410c1"
  },
  "kernelspec": {
   "display_name": "Python 3.7.1 64-bit",
   "name": "python3"
  },
  "language_info": {
   "codemirror_mode": {
    "name": "ipython",
    "version": 3
   },
   "file_extension": ".py",
   "mimetype": "text/x-python",
   "name": "python",
   "nbconvert_exporter": "python",
   "pygments_lexer": "ipython3",
   "version": "3.7.1"
  },
  "orig_nbformat": 4
 },
 "nbformat": 4,
 "nbformat_minor": 2
}
