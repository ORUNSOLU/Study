{
 "cells": [
  {
   "cell_type": "markdown",
   "metadata": {},
   "source": [
    "Build an RNN with an LSTM layer for Nvidia stock prediction and complete the training, testing, and prediction steps."
   ]
  },
  {
   "cell_type": "code",
   "execution_count": 2,
   "metadata": {},
   "outputs": [],
   "source": [
    "from tensorflow.keras import Sequential\n",
    "from tensorflow.keras import layers\n",
    "\n",
    "\n",
    "import pandas as pd\n",
    "from sklearn.preprocessing import StandardScaler, MinMaxScaler\n",
    "import matplotlib.pyplot as plt\n",
    "import numpy as np"
   ]
  },
  {
   "cell_type": "code",
   "execution_count": 34,
   "metadata": {},
   "outputs": [
    {
     "data": {
      "text/html": [
       "<div>\n",
       "<style scoped>\n",
       "    .dataframe tbody tr th:only-of-type {\n",
       "        vertical-align: middle;\n",
       "    }\n",
       "\n",
       "    .dataframe tbody tr th {\n",
       "        vertical-align: top;\n",
       "    }\n",
       "\n",
       "    .dataframe thead th {\n",
       "        text-align: right;\n",
       "    }\n",
       "</style>\n",
       "<table border=\"1\" class=\"dataframe\">\n",
       "  <thead>\n",
       "    <tr style=\"text-align: right;\">\n",
       "      <th></th>\n",
       "      <th>Date</th>\n",
       "      <th>Open</th>\n",
       "      <th>High</th>\n",
       "      <th>Low</th>\n",
       "      <th>Close</th>\n",
       "      <th>Adj Close</th>\n",
       "      <th>Volume</th>\n",
       "    </tr>\n",
       "  </thead>\n",
       "  <tbody>\n",
       "    <tr>\n",
       "      <th>0</th>\n",
       "      <td>2015-07-22</td>\n",
       "      <td>19.650000</td>\n",
       "      <td>19.650000</td>\n",
       "      <td>19.17</td>\n",
       "      <td>19.410000</td>\n",
       "      <td>18.851749</td>\n",
       "      <td>8911800</td>\n",
       "    </tr>\n",
       "    <tr>\n",
       "      <th>1</th>\n",
       "      <td>2015-07-23</td>\n",
       "      <td>19.450001</td>\n",
       "      <td>19.940001</td>\n",
       "      <td>19.41</td>\n",
       "      <td>19.650000</td>\n",
       "      <td>19.084845</td>\n",
       "      <td>4247900</td>\n",
       "    </tr>\n",
       "    <tr>\n",
       "      <th>2</th>\n",
       "      <td>2015-07-24</td>\n",
       "      <td>19.790001</td>\n",
       "      <td>19.809999</td>\n",
       "      <td>19.34</td>\n",
       "      <td>19.420000</td>\n",
       "      <td>18.861464</td>\n",
       "      <td>4721100</td>\n",
       "    </tr>\n",
       "    <tr>\n",
       "      <th>3</th>\n",
       "      <td>2015-07-27</td>\n",
       "      <td>19.250000</td>\n",
       "      <td>19.530001</td>\n",
       "      <td>19.09</td>\n",
       "      <td>19.309999</td>\n",
       "      <td>18.754622</td>\n",
       "      <td>4810500</td>\n",
       "    </tr>\n",
       "    <tr>\n",
       "      <th>4</th>\n",
       "      <td>2015-07-28</td>\n",
       "      <td>19.360001</td>\n",
       "      <td>19.860001</td>\n",
       "      <td>19.16</td>\n",
       "      <td>19.730000</td>\n",
       "      <td>19.162542</td>\n",
       "      <td>4957700</td>\n",
       "    </tr>\n",
       "  </tbody>\n",
       "</table>\n",
       "</div>"
      ],
      "text/plain": [
       "         Date       Open       High    Low      Close  Adj Close   Volume\n",
       "0  2015-07-22  19.650000  19.650000  19.17  19.410000  18.851749  8911800\n",
       "1  2015-07-23  19.450001  19.940001  19.41  19.650000  19.084845  4247900\n",
       "2  2015-07-24  19.790001  19.809999  19.34  19.420000  18.861464  4721100\n",
       "3  2015-07-27  19.250000  19.530001  19.09  19.309999  18.754622  4810500\n",
       "4  2015-07-28  19.360001  19.860001  19.16  19.730000  19.162542  4957700"
      ]
     },
     "execution_count": 34,
     "metadata": {},
     "output_type": "execute_result"
    }
   ],
   "source": [
    "data = pd.read_csv('NVDA.csv')\n",
    "data.head()"
   ]
  },
  {
   "cell_type": "markdown",
   "metadata": {},
   "source": [
    "Training data = 2015-07-22 to 2019-01-01\n",
    "\n",
    "\n",
    "Test_data = 2019-01-01 to 2020-07-21\n",
    "\n"
   ]
  },
  {
   "cell_type": "code",
   "execution_count": 35,
   "metadata": {},
   "outputs": [
    {
     "data": {
      "text/html": [
       "<div>\n",
       "<style scoped>\n",
       "    .dataframe tbody tr th:only-of-type {\n",
       "        vertical-align: middle;\n",
       "    }\n",
       "\n",
       "    .dataframe tbody tr th {\n",
       "        vertical-align: top;\n",
       "    }\n",
       "\n",
       "    .dataframe thead th {\n",
       "        text-align: right;\n",
       "    }\n",
       "</style>\n",
       "<table border=\"1\" class=\"dataframe\">\n",
       "  <thead>\n",
       "    <tr style=\"text-align: right;\">\n",
       "      <th></th>\n",
       "      <th>Open</th>\n",
       "      <th>High</th>\n",
       "      <th>Low</th>\n",
       "      <th>Close</th>\n",
       "      <th>Volume</th>\n",
       "    </tr>\n",
       "  </thead>\n",
       "  <tbody>\n",
       "    <tr>\n",
       "      <th>0</th>\n",
       "      <td>19.650000</td>\n",
       "      <td>19.650000</td>\n",
       "      <td>19.17</td>\n",
       "      <td>19.410000</td>\n",
       "      <td>8911800</td>\n",
       "    </tr>\n",
       "    <tr>\n",
       "      <th>1</th>\n",
       "      <td>19.450001</td>\n",
       "      <td>19.940001</td>\n",
       "      <td>19.41</td>\n",
       "      <td>19.650000</td>\n",
       "      <td>4247900</td>\n",
       "    </tr>\n",
       "    <tr>\n",
       "      <th>2</th>\n",
       "      <td>19.790001</td>\n",
       "      <td>19.809999</td>\n",
       "      <td>19.34</td>\n",
       "      <td>19.420000</td>\n",
       "      <td>4721100</td>\n",
       "    </tr>\n",
       "    <tr>\n",
       "      <th>3</th>\n",
       "      <td>19.250000</td>\n",
       "      <td>19.530001</td>\n",
       "      <td>19.09</td>\n",
       "      <td>19.309999</td>\n",
       "      <td>4810500</td>\n",
       "    </tr>\n",
       "    <tr>\n",
       "      <th>4</th>\n",
       "      <td>19.360001</td>\n",
       "      <td>19.860001</td>\n",
       "      <td>19.16</td>\n",
       "      <td>19.730000</td>\n",
       "      <td>4957700</td>\n",
       "    </tr>\n",
       "  </tbody>\n",
       "</table>\n",
       "</div>"
      ],
      "text/plain": [
       "        Open       High    Low      Close   Volume\n",
       "0  19.650000  19.650000  19.17  19.410000  8911800\n",
       "1  19.450001  19.940001  19.41  19.650000  4247900\n",
       "2  19.790001  19.809999  19.34  19.420000  4721100\n",
       "3  19.250000  19.530001  19.09  19.309999  4810500\n",
       "4  19.360001  19.860001  19.16  19.730000  4957700"
      ]
     },
     "execution_count": 35,
     "metadata": {},
     "output_type": "execute_result"
    }
   ],
   "source": [
    "# create train & test data using columns\n",
    "train_data = data[data['Date']<'2019-01-01'].copy()\n",
    "test_data = data[data['Date']>='2019-01-01'].copy()\n",
    "\n",
    "# drop DATE & ADJ CLOSE columns\n",
    "train_data = train_data.drop(['Date', 'Adj Close'], axis=1)\n",
    "test_data = test_data.drop(['Date', 'Adj Close'], axis=1)\n",
    "\n",
    "train_data.head()"
   ]
  },
  {
   "cell_type": "code",
   "execution_count": 36,
   "metadata": {},
   "outputs": [
    {
     "data": {
      "text/plain": [
       "array([[0.0014811 , 0.00043919, 0.0003002 , 0.00037031, 0.08351206],\n",
       "       [0.00074055, 0.00150057, 0.0012008 , 0.00125903, 0.03226717],\n",
       "       [0.00199949, 0.00102477, 0.00093812, 0.00040734, 0.03746649],\n",
       "       [0.        , 0.        , 0.        , 0.        , 0.03844878],\n",
       "       [0.00040731, 0.00120777, 0.00026267, 0.00155527, 0.04006615],\n",
       "       [0.00162921, 0.00219594, 0.0019513 , 0.00244399, 0.04950776],\n",
       "       [0.00248084, 0.00252534, 0.00311456, 0.00262915, 0.03783347],\n",
       "       [0.00314733, 0.00212275, 0.00277684, 0.00236994, 0.04556872],\n",
       "       [0.00318436, 0.00285473, 0.00285189, 0.00362897, 0.09468092],\n",
       "       [0.00359166, 0.00329392, 0.00394011, 0.00392521, 0.05703973]])"
      ]
     },
     "execution_count": 36,
     "metadata": {},
     "output_type": "execute_result"
    }
   ],
   "source": [
    "scaler = MinMaxScaler()\n",
    "scaled_train_data = scaler.fit_transform(train_data)\n",
    "scaled_train_data[:10]"
   ]
  },
  {
   "cell_type": "code",
   "execution_count": 37,
   "metadata": {},
   "outputs": [
    {
     "data": {
      "text/plain": [
       "868"
      ]
     },
     "execution_count": 37,
     "metadata": {},
     "output_type": "execute_result"
    }
   ],
   "source": [
    "# no of rows in the train_data\n",
    "scaled_train_data.shape[0]"
   ]
  },
  {
   "cell_type": "markdown",
   "metadata": {},
   "source": [
    "Prepare training data & predictionn value\n",
    "\n",
    "\n",
    "The first dataset of X_train would contain 60 days of training (0-60), second strip would be days (1-61) etc\n",
    "\n",
    "The first dataset of Y_train would be the 61st day, second would be day 62nd."
   ]
  },
  {
   "cell_type": "code",
   "execution_count": 38,
   "metadata": {},
   "outputs": [
    {
     "name": "stdout",
     "output_type": "stream",
     "text": [
      "(808, 60, 5) (808,)\n"
     ]
    }
   ],
   "source": [
    "X_train, Y_train = [], []\n",
    "\n",
    "for i in range(60, scaled_train_data.shape[0]):\n",
    "    X_train.append(scaled_train_data[i-60:i])\n",
    "    Y_train.append(scaled_train_data[i, 0])\n",
    "\n",
    "# convert training data to numpy\n",
    "X_train, Y_train = np.array(X_train), np.array(Y_train)\n",
    "print(X_train.shape, Y_train.shape)\n",
    "# X_train contains 808 observations, 60 days of data for 5 features\n",
    "# Y_train contains the CLOSING of the next day for each observation"
   ]
  },
  {
   "cell_type": "code",
   "execution_count": 39,
   "metadata": {},
   "outputs": [
    {
     "name": "stdout",
     "output_type": "stream",
     "text": [
      "Model: \"sequential_2\"\n",
      "_________________________________________________________________\n",
      "Layer (type)                 Output Shape              Param #   \n",
      "=================================================================\n",
      "lstm_8 (LSTM)                (None, 60, 50)            11200     \n",
      "_________________________________________________________________\n",
      "dropout_8 (Dropout)          (None, 60, 50)            0         \n",
      "_________________________________________________________________\n",
      "lstm_9 (LSTM)                (None, 60, 60)            26640     \n",
      "_________________________________________________________________\n",
      "dropout_9 (Dropout)          (None, 60, 60)            0         \n",
      "_________________________________________________________________\n",
      "lstm_10 (LSTM)               (None, 60, 80)            45120     \n",
      "_________________________________________________________________\n",
      "dropout_10 (Dropout)         (None, 60, 80)            0         \n",
      "_________________________________________________________________\n",
      "lstm_11 (LSTM)               (None, 120)               96480     \n",
      "_________________________________________________________________\n",
      "dropout_11 (Dropout)         (None, 120)               0         \n",
      "_________________________________________________________________\n",
      "dense_2 (Dense)              (None, 1)                 121       \n",
      "=================================================================\n",
      "Total params: 179,561\n",
      "Trainable params: 179,561\n",
      "Non-trainable params: 0\n",
      "_________________________________________________________________\n"
     ]
    }
   ],
   "source": [
    "# build the ANN\n",
    "regressor = Sequential([\n",
    "    # input is Sequences of 60 days with 5 features\n",
    "    layers.LSTM(50, activation='relu', return_sequences=True, input_shape=(X_train.shape[1], 5)),\n",
    "    layers.Dropout(0.2),\n",
    "    layers.LSTM(60, activation='relu', return_sequences=True),\n",
    "    layers.Dropout(0.3),\n",
    "    layers.LSTM(80, activation='relu', return_sequences=True),\n",
    "    layers.Dropout(0.4),\n",
    "    layers.LSTM(120, activation='relu'),\n",
    "    layers.Dropout(0.5),\n",
    "    layers.Dense(1)\n",
    "])\n",
    "\n",
    "regressor.summary()"
   ]
  },
  {
   "cell_type": "code",
   "execution_count": 40,
   "metadata": {},
   "outputs": [
    {
     "name": "stdout",
     "output_type": "stream",
     "text": [
      "Epoch 1/10\n",
      "26/26 [==============================] - 9s 147ms/step - loss: 0.1185\n",
      "Epoch 2/10\n",
      "26/26 [==============================] - 4s 149ms/step - loss: 0.0212\n",
      "Epoch 3/10\n",
      "26/26 [==============================] - 4s 148ms/step - loss: 0.0146\n",
      "Epoch 4/10\n",
      "26/26 [==============================] - 4s 154ms/step - loss: 0.0114\n",
      "Epoch 5/10\n",
      "26/26 [==============================] - 4s 143ms/step - loss: 0.0106\n",
      "Epoch 6/10\n",
      "26/26 [==============================] - 4s 143ms/step - loss: 0.0101\n",
      "Epoch 7/10\n",
      "26/26 [==============================] - 4s 145ms/step - loss: 0.0090\n",
      "Epoch 8/10\n",
      "26/26 [==============================] - 4s 150ms/step - loss: 0.0085\n",
      "Epoch 9/10\n",
      "26/26 [==============================] - 4s 150ms/step - loss: 0.0085\n",
      "Epoch 10/10\n",
      "26/26 [==============================] - 4s 151ms/step - loss: 0.0080\n"
     ]
    },
    {
     "data": {
      "text/plain": [
       "<keras.callbacks.History at 0x2372a69b588>"
      ]
     },
     "execution_count": 40,
     "metadata": {},
     "output_type": "execute_result"
    }
   ],
   "source": [
    "# train the ANN\n",
    "regressor.compile(optimizer='adam', loss='mean_squared_error')\n",
    "regressor.fit(X_train, Y_train, epochs=10, batch_size=32)\n"
   ]
  },
  {
   "cell_type": "markdown",
   "metadata": {},
   "source": [
    "Beginning process to Test our model"
   ]
  },
  {
   "cell_type": "code",
   "execution_count": 32,
   "metadata": {},
   "outputs": [
    {
     "data": {
      "text/html": [
       "<div>\n",
       "<style scoped>\n",
       "    .dataframe tbody tr th:only-of-type {\n",
       "        vertical-align: middle;\n",
       "    }\n",
       "\n",
       "    .dataframe tbody tr th {\n",
       "        vertical-align: top;\n",
       "    }\n",
       "\n",
       "    .dataframe thead th {\n",
       "        text-align: right;\n",
       "    }\n",
       "</style>\n",
       "<table border=\"1\" class=\"dataframe\">\n",
       "  <thead>\n",
       "    <tr style=\"text-align: right;\">\n",
       "      <th></th>\n",
       "      <th>Open</th>\n",
       "      <th>High</th>\n",
       "      <th>Low</th>\n",
       "      <th>Close</th>\n",
       "      <th>Volume</th>\n",
       "    </tr>\n",
       "  </thead>\n",
       "  <tbody>\n",
       "    <tr>\n",
       "      <th>868</th>\n",
       "      <td>130.639999</td>\n",
       "      <td>138.479996</td>\n",
       "      <td>130.050003</td>\n",
       "      <td>136.220001</td>\n",
       "      <td>12718800</td>\n",
       "    </tr>\n",
       "    <tr>\n",
       "      <th>869</th>\n",
       "      <td>133.789993</td>\n",
       "      <td>135.160004</td>\n",
       "      <td>127.690002</td>\n",
       "      <td>127.989998</td>\n",
       "      <td>17638800</td>\n",
       "    </tr>\n",
       "    <tr>\n",
       "      <th>870</th>\n",
       "      <td>130.940002</td>\n",
       "      <td>137.729996</td>\n",
       "      <td>129.699997</td>\n",
       "      <td>136.190002</td>\n",
       "      <td>14640500</td>\n",
       "    </tr>\n",
       "    <tr>\n",
       "      <th>871</th>\n",
       "      <td>138.500000</td>\n",
       "      <td>144.889999</td>\n",
       "      <td>136.429993</td>\n",
       "      <td>143.399994</td>\n",
       "      <td>17729000</td>\n",
       "    </tr>\n",
       "    <tr>\n",
       "      <th>872</th>\n",
       "      <td>146.690002</td>\n",
       "      <td>146.779999</td>\n",
       "      <td>136.899994</td>\n",
       "      <td>139.830002</td>\n",
       "      <td>19650400</td>\n",
       "    </tr>\n",
       "  </tbody>\n",
       "</table>\n",
       "</div>"
      ],
      "text/plain": [
       "           Open        High         Low       Close    Volume\n",
       "868  130.639999  138.479996  130.050003  136.220001  12718800\n",
       "869  133.789993  135.160004  127.690002  127.989998  17638800\n",
       "870  130.940002  137.729996  129.699997  136.190002  14640500\n",
       "871  138.500000  144.889999  136.429993  143.399994  17729000\n",
       "872  146.690002  146.779999  136.899994  139.830002  19650400"
      ]
     },
     "execution_count": 32,
     "metadata": {},
     "output_type": "execute_result"
    }
   ],
   "source": [
    "# peak the TEST dataset\n",
    "test_data.head()"
   ]
  },
  {
   "cell_type": "code",
   "execution_count": 41,
   "metadata": {},
   "outputs": [
    {
     "data": {
      "text/html": [
       "<div>\n",
       "<style scoped>\n",
       "    .dataframe tbody tr th:only-of-type {\n",
       "        vertical-align: middle;\n",
       "    }\n",
       "\n",
       "    .dataframe tbody tr th {\n",
       "        vertical-align: top;\n",
       "    }\n",
       "\n",
       "    .dataframe thead th {\n",
       "        text-align: right;\n",
       "    }\n",
       "</style>\n",
       "<table border=\"1\" class=\"dataframe\">\n",
       "  <thead>\n",
       "    <tr style=\"text-align: right;\">\n",
       "      <th></th>\n",
       "      <th>Open</th>\n",
       "      <th>High</th>\n",
       "      <th>Low</th>\n",
       "      <th>Close</th>\n",
       "      <th>Volume</th>\n",
       "    </tr>\n",
       "  </thead>\n",
       "  <tbody>\n",
       "    <tr>\n",
       "      <th>0</th>\n",
       "      <td>285.269989</td>\n",
       "      <td>286.250000</td>\n",
       "      <td>276.179993</td>\n",
       "      <td>279.290009</td>\n",
       "      <td>9780500</td>\n",
       "    </tr>\n",
       "    <tr>\n",
       "      <th>1</th>\n",
       "      <td>278.290009</td>\n",
       "      <td>280.799988</td>\n",
       "      <td>267.540009</td>\n",
       "      <td>269.859985</td>\n",
       "      <td>10665900</td>\n",
       "    </tr>\n",
       "    <tr>\n",
       "      <th>2</th>\n",
       "      <td>266.500000</td>\n",
       "      <td>271.160004</td>\n",
       "      <td>260.079987</td>\n",
       "      <td>265.769989</td>\n",
       "      <td>10215300</td>\n",
       "    </tr>\n",
       "    <tr>\n",
       "      <th>3</th>\n",
       "      <td>264.940002</td>\n",
       "      <td>268.760010</td>\n",
       "      <td>262.799988</td>\n",
       "      <td>265.540009</td>\n",
       "      <td>6837500</td>\n",
       "    </tr>\n",
       "    <tr>\n",
       "      <th>4</th>\n",
       "      <td>261.260010</td>\n",
       "      <td>263.109985</td>\n",
       "      <td>245.600006</td>\n",
       "      <td>245.690002</td>\n",
       "      <td>17123500</td>\n",
       "    </tr>\n",
       "  </tbody>\n",
       "</table>\n",
       "</div>"
      ],
      "text/plain": [
       "         Open        High         Low       Close    Volume\n",
       "0  285.269989  286.250000  276.179993  279.290009   9780500\n",
       "1  278.290009  280.799988  267.540009  269.859985  10665900\n",
       "2  266.500000  271.160004  260.079987  265.769989  10215300\n",
       "3  264.940002  268.760010  262.799988  265.540009   6837500\n",
       "4  261.260010  263.109985  245.600006  245.690002  17123500"
      ]
     },
     "execution_count": 41,
     "metadata": {},
     "output_type": "execute_result"
    }
   ],
   "source": [
    "# use TAIL method to get last 60_days of TRAIN_DATA which would be appended to TEST_DATA\n",
    "past_60_days = train_data.tail(60)\n",
    "df = past_60_days.append(test_data, ignore_index=True)\n",
    "df.head()"
   ]
  },
  {
   "cell_type": "code",
   "execution_count": 42,
   "metadata": {},
   "outputs": [
    {
     "data": {
      "text/plain": [
       "array([[ 1.01051408,  0.9521051 ,  0.9567278 ,  0.92233228, -0.45004957],\n",
       "       [ 0.91043198,  0.87524822,  0.83037704,  0.7873599 , -0.31030609],\n",
       "       [ 0.74138151,  0.73930374,  0.72128198,  0.72881959, -0.38142469],\n",
       "       [ 0.71901356,  0.70545867,  0.76105917,  0.72552788, -0.91454592],\n",
       "       [ 0.66624818,  0.62578119,  0.50952734,  0.44141378,  0.70890275],\n",
       "       [ 0.39252698,  0.40649297,  0.34369149,  0.29026804,  0.86869076],\n",
       "       [ 0.44041736,  0.43441515,  0.42251461,  0.45357974,  0.40624621],\n",
       "       [ 0.44744328,  0.38449365,  0.35948538,  0.2938463 , -0.21906404],\n",
       "       [ 0.36040878,  0.38844224,  0.39750776,  0.44341761, -0.38103012],\n",
       "       [ 0.48099519,  0.43921005,  0.44342699,  0.40377041, -0.69291977]])"
      ]
     },
     "execution_count": 42,
     "metadata": {},
     "output_type": "execute_result"
    }
   ],
   "source": [
    "# use Standard_Scaler which Zeros the mean & STD to 1\n",
    "ss = StandardScaler().fit(df)\n",
    "inputs = ss.transform(df)\n",
    "inputs[:10]"
   ]
  },
  {
   "cell_type": "code",
   "execution_count": 43,
   "metadata": {},
   "outputs": [
    {
     "data": {
      "text/plain": [
       "(451, 5)"
      ]
     },
     "execution_count": 43,
     "metadata": {},
     "output_type": "execute_result"
    }
   ],
   "source": [
    "# checkout the shape of the Inputs\n",
    "inputs.shape"
   ]
  },
  {
   "cell_type": "code",
   "execution_count": 44,
   "metadata": {},
   "outputs": [
    {
     "data": {
      "text/plain": [
       "((391, 60, 5), (391,))"
      ]
     },
     "execution_count": 44,
     "metadata": {},
     "output_type": "execute_result"
    }
   ],
   "source": [
    "X_test, y_test = [], []\n",
    "for i in range(60, inputs.shape[0]):\n",
    "    X_test.append(inputs[i-60:i])\n",
    "    y_test.append(inputs[i, 0])\n",
    "\n",
    "X_test, y_test = np.array(X_test), np.array(y_test)\n",
    "X_test.shape, y_test.shape"
   ]
  },
  {
   "cell_type": "code",
   "execution_count": 46,
   "metadata": {},
   "outputs": [
    {
     "data": {
      "text/plain": [
       "array([6.97425422e+01, 7.09111845e+01, 6.83809377e+01, 6.98663222e+01,\n",
       "       6.33589480e+06])"
      ]
     },
     "execution_count": 46,
     "metadata": {},
     "output_type": "execute_result"
    }
   ],
   "source": [
    "# make some predictions\n",
    "y_pred = regressor.predict(X_test)\n",
    "\n",
    "# check the scale used by the StandardScaler\n",
    "ss.scale_"
   ]
  },
  {
   "cell_type": "code",
   "execution_count": 47,
   "metadata": {},
   "outputs": [],
   "source": [
    "# set a Scale = 270.07\n",
    "scale = 1/3.70274364e-03\n",
    "\n",
    "y_pred = y_pred * scale\n",
    "y_test = y_test * scale"
   ]
  },
  {
   "cell_type": "code",
   "execution_count": 48,
   "metadata": {},
   "outputs": [
    {
     "data": {
      "text/plain": [
       "array([[-195.13055],\n",
       "       [-218.87524],\n",
       "       [-246.02834],\n",
       "       [-277.35236],\n",
       "       [-313.38586],\n",
       "       [-355.48395],\n",
       "       [-404.8269 ],\n",
       "       [-460.76724],\n",
       "       [-523.4115 ],\n",
       "       [-591.9834 ]], dtype=float32)"
      ]
     },
     "execution_count": 48,
     "metadata": {},
     "output_type": "execute_result"
    }
   ],
   "source": [
    "y_pred[:10]\n"
   ]
  },
  {
   "cell_type": "code",
   "execution_count": 49,
   "metadata": {},
   "outputs": [
    {
     "data": {
      "image/png": "[encoded data removed]",
      "text/plain": [
       "<Figure size 1008x360 with 1 Axes>"
      ]
     },
     "metadata": {
      "needs_background": "light"
     },
     "output_type": "display_data"
    }
   ],
   "source": [
    "plt.figure(figsize=(14, 5))\n",
    "plt.plot(y_test, color='black', label='Real NVDA stock price')\n",
    "plt.plot(y_pred, color='gray', label='Predicted NVDA stock price')\n",
    "plt.title('NVDA Stock Price Prediction')\n",
    "plt.xlabel('time')\n",
    "plt.ylabel('NVDA Stock Price')\n",
    "plt.legend()\n",
    "plt.show()\n"
   ]
  }
 ],
 "metadata": {
  "interpreter": {
   "hash": "2b7b5a710781a87842cfe8010c06442799678ef166246941c85da77d9a8410c1"
  },
  "kernelspec": {
   "display_name": "Python 3.7.1 64-bit",
   "language": "python",
   "name": "python3"
  },
  "language_info": {
   "codemirror_mode": {
    "name": "ipython",
    "version": 3
   },
   "file_extension": ".py",
   "mimetype": "text/x-python",
   "name": "python",
   "nbconvert_exporter": "python",
   "pygments_lexer": "ipython3",
   "version": "3.7.1"
  },
  "orig_nbformat": 4
 },
 "nbformat": 4,
 "nbformat_minor": 2
}
